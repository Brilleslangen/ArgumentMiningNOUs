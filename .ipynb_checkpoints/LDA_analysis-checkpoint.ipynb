{
 "cells": [
  {
   "cell_type": "markdown",
   "id": "f4710a2a64930683",
   "metadata": {
    "collapsed": false,
    "jupyter": {
     "outputs_hidden": false
    }
   },
   "source": [
    "## LDA-analysis\n",
    "Here we import our LDA_model and initialize it using our dataset. "
   ]
  },
  {
   "cell_type": "code",
   "execution_count": 1,
   "id": "cf8064363fe29006",
   "metadata": {
    "ExecuteTime": {
     "end_time": "2024-04-14T13:34:18.692807Z",
     "start_time": "2024-04-14T13:34:18.691820Z"
    },
    "collapsed": false,
    "jupyter": {
     "outputs_hidden": false
    }
   },
   "outputs": [],
   "source": [
    "# !python -m spacy download nb_core_news_md # Uncomment to download Norsk Bokmål language package."
   ]
  },
  {
   "cell_type": "code",
   "execution_count": 1,
   "id": "f39004a0e59f8ec5",
   "metadata": {
    "ExecuteTime": {
     "end_time": "2024-04-14T13:35:37.682049Z",
     "start_time": "2024-04-14T13:35:31.048470Z"
    },
    "collapsed": false,
    "jupyter": {
     "outputs_hidden": false
    }
   },
   "outputs": [
    {
     "ename": "ModuleNotFoundError",
     "evalue": "No module named 'src'",
     "output_type": "error",
     "traceback": [
      "\u001b[0;31m---------------------------------------------------------------------------\u001b[0m",
      "\u001b[0;31mModuleNotFoundError\u001b[0m                       Traceback (most recent call last)",
      "Cell \u001b[0;32mIn[1], line 1\u001b[0m\n\u001b[0;32m----> 1\u001b[0m \u001b[38;5;28;01mfrom\u001b[39;00m \u001b[38;5;21;01msrc\u001b[39;00m\u001b[38;5;21;01m.\u001b[39;00m\u001b[38;5;21;01mmodels\u001b[39;00m\u001b[38;5;21;01m.\u001b[39;00m\u001b[38;5;21;01mLDA\u001b[39;00m \u001b[38;5;28;01mimport\u001b[39;00m LDA\n\u001b[1;32m      2\u001b[0m \u001b[38;5;28;01mimport\u001b[39;00m \u001b[38;5;21;01mpandas\u001b[39;00m \u001b[38;5;28;01mas\u001b[39;00m \u001b[38;5;21;01mpd\u001b[39;00m\n\u001b[1;32m      4\u001b[0m dataframe \u001b[38;5;241m=\u001b[39m pd\u001b[38;5;241m.\u001b[39mread_csv(\u001b[38;5;124m'\u001b[39m\u001b[38;5;124m../../dataset/nou_hearings_full_text.csv\u001b[39m\u001b[38;5;124m'\u001b[39m)\n",
      "\u001b[0;31mModuleNotFoundError\u001b[0m: No module named 'src'"
     ]
    }
   ],
   "source": [
    "from src.models.LDA import LDA\n",
    "import pandas as pd\n",
    "\n",
    "dataframe = pd.read_csv('../../dataset/nou_hearings_full_text.csv')\n",
    "texts = dataframe.text.tolist()\n",
    "lda = LDA(data=texts, no_below=15, no_above=0.5, language='nb_core_news_md')"
   ]
  },
  {
   "cell_type": "markdown",
   "id": "47d7c0abfe68c625",
   "metadata": {
    "collapsed": false,
    "jupyter": {
     "outputs_hidden": false
    }
   },
   "source": [
    "### Estimate optimal number of topics"
   ]
  },
  {
   "cell_type": "code",
   "execution_count": null,
   "id": "a833b96665f86be",
   "metadata": {
    "ExecuteTime": {
     "start_time": "2024-04-14T14:00:13.035349Z"
    },
    "collapsed": false,
    "is_executing": true,
    "jupyter": {
     "outputs_hidden": false
    }
   },
   "outputs": [],
   "source": [
    "lda.plot_coherence(topic_interval=(2, 25), passes=100, save_fig='LDA_coherence')"
   ]
  },
  {
   "cell_type": "markdown",
   "id": "303ba68b0037fc8d",
   "metadata": {
    "collapsed": false,
    "jupyter": {
     "outputs_hidden": false
    }
   },
   "source": [
    "### Build model and Print topics"
   ]
  },
  {
   "cell_type": "code",
   "execution_count": 5,
   "id": "initial_id",
   "metadata": {
    "ExecuteTime": {
     "end_time": "2024-04-14T13:47:24.427981Z",
     "start_time": "2024-04-14T13:47:24.316849Z"
    },
    "collapsed": true,
    "jupyter": {
     "outputs_hidden": true
    }
   },
   "outputs": [
    {
     "ename": "AttributeError",
     "evalue": "'LDA' object has no attribute 'model'",
     "output_type": "error",
     "traceback": [
      "\u001b[0;31m---------------------------------------------------------------------------\u001b[0m",
      "\u001b[0;31mAttributeError\u001b[0m                            Traceback (most recent call last)",
      "Cell \u001b[0;32mIn[5], line 1\u001b[0m\n\u001b[0;32m----> 1\u001b[0m topics \u001b[38;5;241m=\u001b[39m \u001b[43mlda\u001b[49m\u001b[38;5;241;43m.\u001b[39;49m\u001b[43mmodel\u001b[49m\u001b[38;5;241m.\u001b[39mprint_topics(num_words\u001b[38;5;241m=\u001b[39m\u001b[38;5;241m10\u001b[39m)\n\u001b[1;32m      2\u001b[0m \u001b[38;5;28;01mfor\u001b[39;00m topic \u001b[38;5;129;01min\u001b[39;00m topics:\n\u001b[1;32m      3\u001b[0m     \u001b[38;5;28mprint\u001b[39m(topic)\n",
      "\u001b[0;31mAttributeError\u001b[0m: 'LDA' object has no attribute 'model'"
     ]
    }
   ],
   "source": [
    "model = lda.build_LDA_model(num_topics=9, passes=100)\n",
    "topics = model.print_topics(num_words=10)\n",
    "for topic in topics:\n",
    "    print(topic)"
   ]
  },
  {
   "cell_type": "markdown",
   "id": "d660222b2820f00d",
   "metadata": {
    "collapsed": false,
    "jupyter": {
     "outputs_hidden": false
    }
   },
   "source": [
    "### Calculate text-topic pairs"
   ]
  },
  {
   "cell_type": "code",
   "execution_count": 7,
   "id": "15f4e94c5b6b27c5",
   "metadata": {
    "ExecuteTime": {
     "end_time": "2024-04-14T12:25:31.411678Z",
     "start_time": "2024-04-14T12:25:31.366712Z"
    },
    "collapsed": false,
    "jupyter": {
     "outputs_hidden": false
    }
   },
   "outputs": [
    {
     "data": {
      "text/html": [
       "<div>\n",
       "<style scoped>\n",
       "    .dataframe tbody tr th:only-of-type {\n",
       "        vertical-align: middle;\n",
       "    }\n",
       "\n",
       "    .dataframe tbody tr th {\n",
       "        vertical-align: top;\n",
       "    }\n",
       "\n",
       "    .dataframe thead th {\n",
       "        text-align: right;\n",
       "    }\n",
       "</style>\n",
       "<table border=\"1\" class=\"dataframe\">\n",
       "  <thead>\n",
       "    <tr style=\"text-align: right;\">\n",
       "      <th></th>\n",
       "      <th>actor</th>\n",
       "      <th>text</th>\n",
       "      <th>date</th>\n",
       "      <th>actor_label</th>\n",
       "      <th>topic_predictions</th>\n",
       "    </tr>\n",
       "  </thead>\n",
       "  <tbody>\n",
       "    <tr>\n",
       "      <th>0</th>\n",
       "      <td>Abelia</td>\n",
       "      <td>Abelia er foreningen for kunnskaps- og teknolo...</td>\n",
       "      <td>30.01.2024</td>\n",
       "      <td>Forening</td>\n",
       "      <td>{'topic': 4, 'confidence': 0.99}</td>\n",
       "    </tr>\n",
       "    <tr>\n",
       "      <th>1</th>\n",
       "      <td>Advokatforeningen</td>\n",
       "      <td>Advokatforeningens tillitsvalgte advokater utf...</td>\n",
       "      <td>28.02.2024</td>\n",
       "      <td>Forening</td>\n",
       "      <td>{'topic': 5, 'confidence': 1.0}</td>\n",
       "    </tr>\n",
       "    <tr>\n",
       "      <th>2</th>\n",
       "      <td>Agder fylkeskommune</td>\n",
       "      <td>Agder fylkeskommunes høringssvar til NOU 2023:...</td>\n",
       "      <td>27.02.2024</td>\n",
       "      <td>Fylkeskommune</td>\n",
       "      <td>{'topic': 2, 'confidence': 0.94}</td>\n",
       "    </tr>\n",
       "    <tr>\n",
       "      <th>3</th>\n",
       "      <td>Akademikerne</td>\n",
       "      <td>Akademikerne viser til brev av 31. oktober 202...</td>\n",
       "      <td>05.02.2024</td>\n",
       "      <td>Forening</td>\n",
       "      <td>{'topic': 5, 'confidence': 0.62}</td>\n",
       "    </tr>\n",
       "    <tr>\n",
       "      <th>4</th>\n",
       "      <td>Alliansen ny landbrukspolitikk</td>\n",
       "      <td>Takk for det grundige arbeidet med utredning, ...</td>\n",
       "      <td>28.02.2024</td>\n",
       "      <td>Forening</td>\n",
       "      <td>{'topic': 5, 'confidence': 0.99}</td>\n",
       "    </tr>\n",
       "    <tr>\n",
       "      <th>5</th>\n",
       "      <td>Animalia AS</td>\n",
       "      <td>Animalias innspill til Veivalg for klimapoliti...</td>\n",
       "      <td>30.01.2024</td>\n",
       "      <td>Aksjeselskap</td>\n",
       "      <td>{'topic': 5, 'confidence': 0.89}</td>\n",
       "    </tr>\n",
       "    <tr>\n",
       "      <th>6</th>\n",
       "      <td>Ann Norderhaug</td>\n",
       "      <td>Til Klima- og miljødepartementet  Nøtterøy 26....</td>\n",
       "      <td>27.02.2024</td>\n",
       "      <td>Enkeltpersonforetak</td>\n",
       "      <td>{'topic': 5, 'confidence': 0.99}</td>\n",
       "    </tr>\n",
       "    <tr>\n",
       "      <th>7</th>\n",
       "      <td>Arbeidsgiverforeningen Spekter</td>\n",
       "      <td>Spekters medlemsvirksomheter går i front i den...</td>\n",
       "      <td>30.01.2024</td>\n",
       "      <td>Forening</td>\n",
       "      <td>{'topic': 5, 'confidence': 0.85}</td>\n",
       "    </tr>\n",
       "    <tr>\n",
       "      <th>8</th>\n",
       "      <td>Arkitektorganisasjonene felles</td>\n",
       "      <td>Innspill til NOU 2023:25 Omstilling til lavuts...</td>\n",
       "      <td>28.02.2024</td>\n",
       "      <td>Forening</td>\n",
       "      <td>{'topic': 4, 'confidence': 0.77}</td>\n",
       "    </tr>\n",
       "    <tr>\n",
       "      <th>9</th>\n",
       "      <td>Arne Aasen</td>\n",
       "      <td>Høringssvar: 1 Norge følger EU i veldig mye. H...</td>\n",
       "      <td>23.02.2024</td>\n",
       "      <td>Enkeltpersonforetak</td>\n",
       "      <td>{'topic': 7, 'confidence': 0.97}</td>\n",
       "    </tr>\n",
       "    <tr>\n",
       "      <th>10</th>\n",
       "      <td>Asker kommune</td>\n",
       "      <td>Asker kommune viser til høring av Klimautvalge...</td>\n",
       "      <td>24.01.2024</td>\n",
       "      <td>Kommune</td>\n",
       "      <td>{'topic': 5, 'confidence': 0.96}</td>\n",
       "    </tr>\n",
       "    <tr>\n",
       "      <th>11</th>\n",
       "      <td>Askøy kommune</td>\n",
       "      <td>Askøy kommune slutter seg til utvalgets vurder...</td>\n",
       "      <td>29.01.2024</td>\n",
       "      <td>Kommune</td>\n",
       "      <td>{'topic': 4, 'confidence': 0.87}</td>\n",
       "    </tr>\n",
       "    <tr>\n",
       "      <th>12</th>\n",
       "      <td>Bergen INP</td>\n",
       "      <td>1. Bergen INP mener at skogen må regnes med i ...</td>\n",
       "      <td>23.02.2024</td>\n",
       "      <td>Forening</td>\n",
       "      <td>{'topic': 7, 'confidence': 1.0}</td>\n",
       "    </tr>\n",
       "    <tr>\n",
       "      <th>13</th>\n",
       "      <td>Bergen kommune</td>\n",
       "      <td>Vedlagt følger Bergen kommunes høringsuttalels...</td>\n",
       "      <td>02.02.2024</td>\n",
       "      <td>Kommune</td>\n",
       "      <td>{'topic': 2, 'confidence': 0.82}</td>\n",
       "    </tr>\n",
       "    <tr>\n",
       "      <th>14</th>\n",
       "      <td>Besteforeldrenes klimaaksjon</td>\n",
       "      <td>KLIMAUTVALGETS HOVEDANBEFALINGER BESTEFORELDRE...</td>\n",
       "      <td>29.01.2024</td>\n",
       "      <td>Forening</td>\n",
       "      <td>{'topic': 5, 'confidence': 0.92}</td>\n",
       "    </tr>\n",
       "    <tr>\n",
       "      <th>15</th>\n",
       "      <td>Besteforeldrenes klimaaksjon, samferdselsgruppa</td>\n",
       "      <td>Høringsuttalelse til KLIMAUTVALG 2050Pressemel...</td>\n",
       "      <td>28.02.2024</td>\n",
       "      <td>Forening</td>\n",
       "      <td>{'topic': 5, 'confidence': 0.51}</td>\n",
       "    </tr>\n",
       "    <tr>\n",
       "      <th>16</th>\n",
       "      <td>Biogass Norge</td>\n",
       "      <td>Biogass er sirkulær og en nødvendig del av løs...</td>\n",
       "      <td>20.02.2024</td>\n",
       "      <td>Forening</td>\n",
       "      <td>{'topic': 0, 'confidence': 0.52}</td>\n",
       "    </tr>\n",
       "    <tr>\n",
       "      <th>17</th>\n",
       "      <td>Bioteknologirådet</td>\n",
       "      <td>Vår ref.: 2023/75 Deres ref.: 23/5967- Vennlig...</td>\n",
       "      <td>08.01.2024</td>\n",
       "      <td>Organisasjonsledd</td>\n",
       "      <td>{'topic': 1, 'confidence': 0.9}</td>\n",
       "    </tr>\n",
       "    <tr>\n",
       "      <th>18</th>\n",
       "      <td>BirdLife Norge</td>\n",
       "      <td>BirdLife Norge takker for muligheten til å gi ...</td>\n",
       "      <td>28.02.2024</td>\n",
       "      <td>Forening</td>\n",
       "      <td>{'topic': 2, 'confidence': 0.94}</td>\n",
       "    </tr>\n",
       "    <tr>\n",
       "      <th>19</th>\n",
       "      <td>Bodø kommune</td>\n",
       "      <td>Bodø Kommunes høringssvar NOU 2023:25 Omstilli...</td>\n",
       "      <td>29.01.2024</td>\n",
       "      <td>Kommune</td>\n",
       "      <td>{'topic': 4, 'confidence': 0.56}</td>\n",
       "    </tr>\n",
       "  </tbody>\n",
       "</table>\n",
       "</div>"
      ],
      "text/plain": [
       "                                              actor  \\\n",
       "0                                            Abelia   \n",
       "1                                 Advokatforeningen   \n",
       "2                               Agder fylkeskommune   \n",
       "3                                      Akademikerne   \n",
       "4                    Alliansen ny landbrukspolitikk   \n",
       "5                                       Animalia AS   \n",
       "6                                    Ann Norderhaug   \n",
       "7                    Arbeidsgiverforeningen Spekter   \n",
       "8                    Arkitektorganisasjonene felles   \n",
       "9                                        Arne Aasen   \n",
       "10                                    Asker kommune   \n",
       "11                                    Askøy kommune   \n",
       "12                                       Bergen INP   \n",
       "13                                   Bergen kommune   \n",
       "14                     Besteforeldrenes klimaaksjon   \n",
       "15  Besteforeldrenes klimaaksjon, samferdselsgruppa   \n",
       "16                                    Biogass Norge   \n",
       "17                                Bioteknologirådet   \n",
       "18                                   BirdLife Norge   \n",
       "19                                     Bodø kommune   \n",
       "\n",
       "                                                 text        date  \\\n",
       "0   Abelia er foreningen for kunnskaps- og teknolo...  30.01.2024   \n",
       "1   Advokatforeningens tillitsvalgte advokater utf...  28.02.2024   \n",
       "2   Agder fylkeskommunes høringssvar til NOU 2023:...  27.02.2024   \n",
       "3   Akademikerne viser til brev av 31. oktober 202...  05.02.2024   \n",
       "4   Takk for det grundige arbeidet med utredning, ...  28.02.2024   \n",
       "5   Animalias innspill til Veivalg for klimapoliti...  30.01.2024   \n",
       "6   Til Klima- og miljødepartementet  Nøtterøy 26....  27.02.2024   \n",
       "7   Spekters medlemsvirksomheter går i front i den...  30.01.2024   \n",
       "8   Innspill til NOU 2023:25 Omstilling til lavuts...  28.02.2024   \n",
       "9   Høringssvar: 1 Norge følger EU i veldig mye. H...  23.02.2024   \n",
       "10  Asker kommune viser til høring av Klimautvalge...  24.01.2024   \n",
       "11  Askøy kommune slutter seg til utvalgets vurder...  29.01.2024   \n",
       "12  1. Bergen INP mener at skogen må regnes med i ...  23.02.2024   \n",
       "13  Vedlagt følger Bergen kommunes høringsuttalels...  02.02.2024   \n",
       "14  KLIMAUTVALGETS HOVEDANBEFALINGER BESTEFORELDRE...  29.01.2024   \n",
       "15  Høringsuttalelse til KLIMAUTVALG 2050Pressemel...  28.02.2024   \n",
       "16  Biogass er sirkulær og en nødvendig del av løs...  20.02.2024   \n",
       "17  Vår ref.: 2023/75 Deres ref.: 23/5967- Vennlig...  08.01.2024   \n",
       "18  BirdLife Norge takker for muligheten til å gi ...  28.02.2024   \n",
       "19  Bodø Kommunes høringssvar NOU 2023:25 Omstilli...  29.01.2024   \n",
       "\n",
       "            actor_label                 topic_predictions  \n",
       "0              Forening  {'topic': 4, 'confidence': 0.99}  \n",
       "1              Forening   {'topic': 5, 'confidence': 1.0}  \n",
       "2         Fylkeskommune  {'topic': 2, 'confidence': 0.94}  \n",
       "3              Forening  {'topic': 5, 'confidence': 0.62}  \n",
       "4              Forening  {'topic': 5, 'confidence': 0.99}  \n",
       "5          Aksjeselskap  {'topic': 5, 'confidence': 0.89}  \n",
       "6   Enkeltpersonforetak  {'topic': 5, 'confidence': 0.99}  \n",
       "7              Forening  {'topic': 5, 'confidence': 0.85}  \n",
       "8              Forening  {'topic': 4, 'confidence': 0.77}  \n",
       "9   Enkeltpersonforetak  {'topic': 7, 'confidence': 0.97}  \n",
       "10              Kommune  {'topic': 5, 'confidence': 0.96}  \n",
       "11              Kommune  {'topic': 4, 'confidence': 0.87}  \n",
       "12             Forening   {'topic': 7, 'confidence': 1.0}  \n",
       "13              Kommune  {'topic': 2, 'confidence': 0.82}  \n",
       "14             Forening  {'topic': 5, 'confidence': 0.92}  \n",
       "15             Forening  {'topic': 5, 'confidence': 0.51}  \n",
       "16             Forening  {'topic': 0, 'confidence': 0.52}  \n",
       "17    Organisasjonsledd   {'topic': 1, 'confidence': 0.9}  \n",
       "18             Forening  {'topic': 2, 'confidence': 0.94}  \n",
       "19              Kommune  {'topic': 4, 'confidence': 0.56}  "
      ]
     },
     "execution_count": 7,
     "metadata": {},
     "output_type": "execute_result"
    }
   ],
   "source": [
    "predictions = lda.predict_topics(relevancy=False)\n",
    "dataframe['topic_predictions'] = predictions\n",
    "\n",
    "dataframe.head(n=20)"
   ]
  },
  {
   "cell_type": "code",
   "execution_count": null,
   "id": "31bee203389afeeb",
   "metadata": {
    "ExecuteTime": {
     "end_time": "2024-04-14T12:05:23.362548Z",
     "start_time": "2024-04-14T12:05:23.362057Z"
    },
    "collapsed": false,
    "jupyter": {
     "outputs_hidden": false
    }
   },
   "outputs": [],
   "source": [
    "!python -m spacy validate"
   ]
  },
  {
   "cell_type": "code",
   "execution_count": 10,
   "id": "fa357a1f57757569",
   "metadata": {
    "ExecuteTime": {
     "end_time": "2024-04-14T09:55:17.105600Z",
     "start_time": "2024-04-14T09:55:17.103175Z"
    },
    "collapsed": false,
    "jupyter": {
     "outputs_hidden": false
    }
   },
   "outputs": [],
   "source": []
  },
  {
   "cell_type": "code",
   "execution_count": null,
   "id": "5a4b6fdab3f1a7b7",
   "metadata": {
    "collapsed": false,
    "jupyter": {
     "outputs_hidden": false
    }
   },
   "outputs": [],
   "source": []
  }
 ],
 "metadata": {
  "kernelspec": {
   "display_name": "Python 3 (ipykernel)",
   "language": "python",
   "name": "python3"
  },
  "language_info": {
   "codemirror_mode": {
    "name": "ipython",
    "version": 3
   },
   "file_extension": ".py",
   "mimetype": "text/x-python",
   "name": "python",
   "nbconvert_exporter": "python",
   "pygments_lexer": "ipython3",
   "version": "3.11.5"
  }
 },
 "nbformat": 4,
 "nbformat_minor": 5
}
