{
 "cells": [
  {
   "cell_type": "code",
   "execution_count": 1,
   "metadata": {},
   "outputs": [],
   "source": [
    "import json\n",
    "import pandas as pd"
   ]
  },
  {
   "cell_type": "code",
   "execution_count": 2,
   "metadata": {},
   "outputs": [],
   "source": [
    "# Load the data from the file\n",
    "\n",
    "\n",
    "def load_data():\n",
    "\n",
    "    with open('train.json') as file:\n",
    "        data = json.load(file)\n",
    "\n",
    "    with open('test.json') as file:\n",
    "        data_test = json.load(file)\n",
    "\n",
    "    with open(\"dev.json\") as file:\n",
    "        data_dev = json.load(file)\n",
    "\n",
    "\n",
    "    # Merge the dataframes\n",
    "    \n",
    "    return data, data_test, data_dev\n",
    "\n"
   ]
  },
  {
   "cell_type": "code",
   "execution_count": 3,
   "metadata": {},
   "outputs": [],
   "source": [
    "data, data_test, data_dev = load_data()"
   ]
  },
  {
   "cell_type": "code",
   "execution_count": 4,
   "metadata": {},
   "outputs": [
    {
     "name": "stdout",
     "output_type": "stream",
     "text": [
      "{'Positive Standard', 'Negative Strong', 'Positive Strong', 'Positive Slight', 'Negative Slight', 'Negative Standard', nan}\n"
     ]
    }
   ],
   "source": [
    "\n",
    "# Drop the rows with no opinions\n",
    "filtered_data = []\n",
    "for item in data:\n",
    "    if item['opinions']:\n",
    "        opinions = item['opinions']\n",
    "        for opinion in opinions:\n",
    "            filtered_data.append({\n",
    "                \"Polar_expression\": opinion[\"Polar_expression\"][0][0],\n",
    "                \"Polarity\": opinion[\"Polarity\"],\n",
    "                \"Intensity\": opinion[\"Intensity\"]\n",
    "            })\n",
    "for item in data_test:\n",
    "    if item['opinions']:\n",
    "        opinions = item['opinions']\n",
    "        for opinion in opinions:\n",
    "            filtered_data.append({\n",
    "                \"Polar_expression\": opinion[\"Polar_expression\"][0][0],\n",
    "                \"Polarity\": opinion[\"Polarity\"],\n",
    "                \"Intensity\": opinion[\"Intensity\"]\n",
    "            })\n",
    "for item in data_dev:\n",
    "    if item['opinions']:\n",
    "        opinions = item['opinions']\n",
    "        for opinion in opinions:\n",
    "            filtered_data.append({\n",
    "                \"Polar_expression\": opinion[\"Polar_expression\"][0][0],\n",
    "                \"Polarity\": opinion[\"Polarity\"],\n",
    "                \"Intensity\": opinion[\"Intensity\"]\n",
    "            })\n",
    "\n",
    "# Convert filtered data to JSON string\n",
    "filtered_json = json.dumps(filtered_data, ensure_ascii=False, indent=4)\n",
    "\n",
    "# Convert to dataframe\n",
    "df = pd.DataFrame(filtered_data)\n",
    "\n",
    "# Combine the polar expression and intensity into a single column\n",
    "df['Polarity'] = df['Polarity'] + ' ' + df['Intensity']\n",
    "df = df.drop(columns=['Intensity'])\n",
    "\n",
    "# Create label2idx dictionary\n",
    "label2idx = set(df['Polarity'])\n",
    "print(label2idx)\n",
    "\n",
    "dicti = {'Negative Slight': 1, 'Negative Standard': 2, 'Positive Slight': 3, 'Negative Strong': 4, 'Positive Standard': 5, 'Positive Strong': 6}\n",
    "\n",
    "# Normalize the dicti\n",
    "dicti = {k: v/6 for k, v in dicti.items()}\n",
    "\n",
    "label2idx = dicti\n",
    "\n",
    "\n",
    "\n",
    "# Convert the labels to integers\n",
    "df[\"Polarity\"] = df[\"Polarity\"].map(label2idx)\n",
    "\n",
    "\n",
    "df.to_csv(\"../../dataset/sentiment_data.csv\", index=False)"
   ]
  }
 ],
 "metadata": {
  "kernelspec": {
   "display_name": "TDT4310",
   "language": "python",
   "name": "python3"
  },
  "language_info": {
   "codemirror_mode": {
    "name": "ipython",
    "version": 3
   },
   "file_extension": ".py",
   "mimetype": "text/x-python",
   "name": "python",
   "nbconvert_exporter": "python",
   "pygments_lexer": "ipython3",
   "version": "3.12.2"
  }
 },
 "nbformat": 4,
 "nbformat_minor": 2
}
