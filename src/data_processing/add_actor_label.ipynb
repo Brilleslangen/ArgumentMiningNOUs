{
 "cells": [
  {
   "cell_type": "code",
   "execution_count": 57,
   "metadata": {},
   "outputs": [],
   "source": [
    "import pandas as pd"
   ]
  },
  {
   "cell_type": "code",
   "execution_count": 58,
   "metadata": {},
   "outputs": [],
   "source": [
    "#Import the csv file\n",
    "\n",
    "df_full = pd.read_csv('../../dataset/nou_hearings_full_text.csv')[[\"actor\", \"text\", \"date\"]]\n",
    "\n",
    "df_paragraphs = pd.read_csv('../../dataset/nou_hearings.csv')[[\"actor\",\"paragraph\", \"date\"]]\n",
    "df_actor_category = pd.read_csv('../../dataset/util/actor_urls.csv')\n",
    "\n",
    "df_actor_category = df_actor_category[[\"actor\", \"org_form\"]]"
   ]
  },
  {
   "cell_type": "code",
   "execution_count": 59,
   "metadata": {},
   "outputs": [],
   "source": [
    "# Merge the two dataframes\n",
    "for i, row in df_actor_category.iterrows():\n",
    "    df_full.loc[df_full['actor'] == row['actor'], 'actor_label'] = row['org_form']\n",
    "\n",
    "df_full.to_csv('../../dataset/nou_hearings_full_text.csv', index=False)"
   ]
  },
  {
   "cell_type": "code",
   "execution_count": 60,
   "metadata": {},
   "outputs": [],
   "source": [
    "# Merge the two dataframes for the paragraphs\n",
    "for i, row in df_actor_category.iterrows():\n",
    "    df_paragraphs.loc[df_paragraphs['actor'] == row['actor'], 'actor_label'] = row['org_form']\n",
    "\n",
    "df_paragraphs.to_csv('../../dataset/nou_hearings.csv', index=False)"
   ]
  }
 ],
 "metadata": {
  "kernelspec": {
   "display_name": "TDT4310",
   "language": "python",
   "name": "python3"
  },
  "language_info": {
   "codemirror_mode": {
    "name": "ipython",
    "version": 3
   },
   "file_extension": ".py",
   "mimetype": "text/x-python",
   "name": "python",
   "nbconvert_exporter": "python",
   "pygments_lexer": "ipython3",
   "version": "3.12.2"
  }
 },
 "nbformat": 4,
 "nbformat_minor": 2
}
