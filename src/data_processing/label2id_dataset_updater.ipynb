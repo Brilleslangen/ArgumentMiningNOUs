{
 "cells": [
  {
   "cell_type": "markdown",
   "metadata": {},
   "source": [
    "File to remove textual labels from the dataset and save the labels to a csv or pickle file"
   ]
  },
  {
   "cell_type": "code",
   "execution_count": 7,
   "metadata": {},
   "outputs": [],
   "source": [
    "import pandas as pd\n",
    "import json"
   ]
  },
  {
   "cell_type": "code",
   "execution_count": 4,
   "metadata": {},
   "outputs": [],
   "source": [
    "df = pd.read_csv('../../dataset/nou_hearings.csv')"
   ]
  },
  {
   "cell_type": "code",
   "execution_count": 5,
   "metadata": {},
   "outputs": [
    {
     "data": {
      "text/plain": [
       "{0: 0, 1: 1, 2: 2, 3: 3, 4: 4, 5: 5, 6: 6}"
      ]
     },
     "execution_count": 5,
     "metadata": {},
     "output_type": "execute_result"
    }
   ],
   "source": [
    "# Build labels\n",
    "\n",
    "label2id = {label: i for i, label in enumerate(df['label'].unique())}\n",
    "label2id\n"
   ]
  },
  {
   "cell_type": "code",
   "execution_count": 32,
   "metadata": {},
   "outputs": [],
   "source": [
    "# Save labels\n",
    "\n",
    "\n",
    "with open('../../dataset/label2id.json', 'w') as f:\n",
    "    json.dump(label2id, f)\n"
   ]
  },
  {
   "cell_type": "code",
   "execution_count": 8,
   "metadata": {},
   "outputs": [
    {
     "name": "stdout",
     "output_type": "stream",
     "text": [
      "{'Interessegruppe': 0, 'Offentlig forvaltning': 1, 'Bedrift': 2, 'Privatperson': 3, 'Politisk parti': 4, 'Frivillig organisasjon': 5, 'Akademisk institusjon': 6}\n"
     ]
    }
   ],
   "source": [
    "# Get the json file\n",
    "with open('../../dataset/label2id.json', 'r') as f:\n",
    "    label2id = json.load(f)\n",
    "\n",
    "print(label2id)"
   ]
  },
  {
   "cell_type": "code",
   "execution_count": 33,
   "metadata": {},
   "outputs": [],
   "source": [
    "# Update the datasets\n",
    "\n",
    "df_full_text = pd.read_csv('../../dataset/nou_hearings_full_text.csv')\n",
    "\n",
    "df_full_text['label'] = df_full_text['label'].map(label2id)\n",
    "\n",
    "df_full_text.to_csv('../../dataset/nou_hearings_full_text.csv', index=False)\n"
   ]
  },
  {
   "cell_type": "code",
   "execution_count": 34,
   "metadata": {},
   "outputs": [],
   "source": [
    "\n",
    "df_paragraphs = pd.read_csv('../../dataset/nou_hearings.csv')\n",
    "\n",
    "df_paragraphs['label'] = df_paragraphs['label'].map(label2id)\n",
    "\n",
    "df_paragraphs.to_csv('../../dataset/nou_hearings.csv', index=False)\n"
   ]
  },
  {
   "cell_type": "code",
   "execution_count": 10,
   "metadata": {},
   "outputs": [],
   "source": [
    "\n",
    "df_arguments = pd.read_csv('../../dataset/cleaned_arguments_in_context_learning.csv')\n",
    "\n",
    "df_arguments['label'] = df_arguments['label'].map(label2id)\n",
    "\n",
    "df_arguments.to_csv('../../dataset/cleaned_arguments_in_context_learning2.csv', index=False)\n"
   ]
  }
 ],
 "metadata": {
  "kernelspec": {
   "display_name": "nlp",
   "language": "python",
   "name": "python3"
  },
  "language_info": {
   "codemirror_mode": {
    "name": "ipython",
    "version": 3
   },
   "file_extension": ".py",
   "mimetype": "text/x-python",
   "name": "python",
   "nbconvert_exporter": "python",
   "pygments_lexer": "ipython3",
   "version": "3.12.2"
  }
 },
 "nbformat": 4,
 "nbformat_minor": 2
}
