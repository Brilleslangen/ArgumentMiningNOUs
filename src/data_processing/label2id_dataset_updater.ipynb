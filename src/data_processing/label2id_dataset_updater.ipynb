{
 "cells": [
  {
   "cell_type": "markdown",
   "metadata": {},
   "source": [
    "File to remove textual labels from the dataset and save the labels to a csv or pickle file"
   ]
  },
  {
   "cell_type": "code",
   "execution_count": 10,
   "metadata": {
    "ExecuteTime": {
     "end_time": "2024-04-20T13:38:50.128352Z",
     "start_time": "2024-04-20T13:38:49.243270Z"
    }
   },
   "outputs": [],
   "source": [
    "import pandas as pd\n",
    "import json\n",
    "from util.helpers import labels"
   ]
  },
  {
   "cell_type": "code",
   "execution_count": 11,
   "metadata": {
    "ExecuteTime": {
     "end_time": "2024-04-20T13:38:51.588519Z",
     "start_time": "2024-04-20T13:38:51.564040Z"
    }
   },
   "outputs": [],
   "source": [
    "df = pd.read_csv('../../dataset/nou_hearings.csv')"
   ]
  },
  {
   "cell_type": "code",
   "execution_count": 12,
   "metadata": {
    "ExecuteTime": {
     "end_time": "2024-04-20T13:38:52.411330Z",
     "start_time": "2024-04-20T13:38:52.392204Z"
    }
   },
   "outputs": [
    {
     "data": {
      "text/plain": "dict_keys(['Interessegruppe', 'Offentlig forvaltning', 'Bedrift', 'Privatperson', 'Politisk parti', 'Frivillig organisasjon', 'Akademisk institusjon'])"
     },
     "execution_count": 12,
     "metadata": {},
     "output_type": "execute_result"
    }
   ],
   "source": [
    "# Build labels\n",
    "\n",
    "label2id = {label: i for i, label in enumerate(df['label'].unique())}\n",
    "label2id\n"
   ]
  },
  {
   "cell_type": "code",
   "execution_count": 32,
   "metadata": {},
   "outputs": [],
   "source": [
    "# Save labels\n",
    "\n",
    "\n",
    "with open('../../dataset/label2id.json', 'w') as f:\n",
    "    json.dump(label2id, f)\n"
   ]
  },
  {
   "cell_type": "code",
   "execution_count": 13,
   "metadata": {
    "ExecuteTime": {
     "end_time": "2024-04-20T13:39:18.441652Z",
     "start_time": "2024-04-20T13:39:18.437343Z"
    }
   },
   "outputs": [
    {
     "name": "stdout",
     "output_type": "stream",
     "text": [
      "{'Interessegruppe': 0, 'Offentlig forvaltning': 1, 'Bedrift': 2, 'Privatperson': 3, 'Politisk parti': 4, 'Frivillig organisasjon': 5, 'Akademisk institusjon': 6}\n"
     ]
    }
   ],
   "source": [
    "# Get the json file\n",
    "with open('../../dataset/label2id.json', 'r') as f:\n",
    "    label2id = json.load(f)\n",
    "\n",
    "print(label2id)"
   ]
  },
  {
   "cell_type": "code",
   "execution_count": 33,
   "metadata": {},
   "outputs": [],
   "source": [
    "# Update the datasets\n",
    "\n",
    "df_full_text = pd.read_csv('../../dataset/nou_hearings_full_text.csv')\n",
    "\n",
    "df_full_text['label'] = df_full_text['label'].map(label2id)\n",
    "\n",
    "df_full_text.to_csv('../../dataset/nou_hearings_full_text.csv', index=False)\n"
   ]
  },
  {
   "cell_type": "code",
   "execution_count": 34,
   "metadata": {},
   "outputs": [],
   "source": [
    "\n",
    "df_paragraphs = pd.read_csv('../../dataset/nou_hearings.csv')\n",
    "\n",
    "df_paragraphs['label'] = df_paragraphs['label'].map(label2id)\n",
    "\n",
    "df_paragraphs.to_csv('../../dataset/nou_hearings.csv', index=False)\n"
   ]
  },
  {
   "cell_type": "code",
   "execution_count": 10,
   "metadata": {},
   "outputs": [],
   "source": [
    "\n",
    "df_arguments = pd.read_csv('../../dataset/cleaned_arguments_in_context_learning.csv')\n",
    "\n",
    "df_arguments['label'] = df_arguments['label'].map(label2id)\n",
    "\n",
    "df_arguments.to_csv('../../dataset/cleaned_arguments_in_context_learning2.csv', index=False)\n"
   ]
  },
  {
   "cell_type": "code",
   "execution_count": 16,
   "metadata": {
    "ExecuteTime": {
     "end_time": "2024-04-20T13:39:51.679776Z",
     "start_time": "2024-04-20T13:39:51.656139Z"
    }
   },
   "outputs": [],
   "source": [
    "import pandas as pd\n",
    "\n",
    "df_LDA = pd.read_csv(\"../../dataset/LDA_Arguments.csv\")\n",
    "\n",
    "df_LDA['label'] = df_LDA['label'].map(label2id)\n",
    "\n",
    "df_LDA.to_csv('../../dataset/LDA_Arguments.csv', index=False)\n"
   ]
  },
  {
   "cell_type": "code",
   "execution_count": 15,
   "outputs": [
    {
     "data": {
      "text/plain": "       actor                                               text        date  \\\n0     Abelia  Abelia er foreningen for kunnskaps- og teknolo...  30.01.2024   \n1     Abelia  Innledningsvis vil vi takke for det grundige o...  30.01.2024   \n2     Abelia  Vi er enig med utvalget i at klimapolitikken m...  30.01.2024   \n3     Abelia  Over de siste åtte årene har Abelia målt norsk...  30.01.2024   \n4     Abelia  Vi vil gjerne oppfordre til at det blir satt s...  30.01.2024   \n...      ...                                                ...         ...   \n3043    ZERO  Zero støtter utvalgets syn på viktigheten av å...  23.02.2024   \n3044    ZERO  Det finnes også andre måter å minimere eller e...  23.02.2024   \n3045    ZERO  Samtidig er det viktig å både holde fast på kl...  23.02.2024   \n3046    ZERO  Alle prosjekter som skal inn i NTP må kunne re...  23.02.2024   \n3047    ZERO  Vi bør også få på plass et totalt utslippsbuds...  23.02.2024   \n\n      label  \n0         0  \n1         0  \n2         0  \n3         0  \n4         0  \n...     ...  \n3043      5  \n3044      5  \n3045      5  \n3046      5  \n3047      5  \n\n[3048 rows x 4 columns]",
      "text/html": "<div>\n<style scoped>\n    .dataframe tbody tr th:only-of-type {\n        vertical-align: middle;\n    }\n\n    .dataframe tbody tr th {\n        vertical-align: top;\n    }\n\n    .dataframe thead th {\n        text-align: right;\n    }\n</style>\n<table border=\"1\" class=\"dataframe\">\n  <thead>\n    <tr style=\"text-align: right;\">\n      <th></th>\n      <th>actor</th>\n      <th>text</th>\n      <th>date</th>\n      <th>label</th>\n    </tr>\n  </thead>\n  <tbody>\n    <tr>\n      <th>0</th>\n      <td>Abelia</td>\n      <td>Abelia er foreningen for kunnskaps- og teknolo...</td>\n      <td>30.01.2024</td>\n      <td>0</td>\n    </tr>\n    <tr>\n      <th>1</th>\n      <td>Abelia</td>\n      <td>Innledningsvis vil vi takke for det grundige o...</td>\n      <td>30.01.2024</td>\n      <td>0</td>\n    </tr>\n    <tr>\n      <th>2</th>\n      <td>Abelia</td>\n      <td>Vi er enig med utvalget i at klimapolitikken m...</td>\n      <td>30.01.2024</td>\n      <td>0</td>\n    </tr>\n    <tr>\n      <th>3</th>\n      <td>Abelia</td>\n      <td>Over de siste åtte årene har Abelia målt norsk...</td>\n      <td>30.01.2024</td>\n      <td>0</td>\n    </tr>\n    <tr>\n      <th>4</th>\n      <td>Abelia</td>\n      <td>Vi vil gjerne oppfordre til at det blir satt s...</td>\n      <td>30.01.2024</td>\n      <td>0</td>\n    </tr>\n    <tr>\n      <th>...</th>\n      <td>...</td>\n      <td>...</td>\n      <td>...</td>\n      <td>...</td>\n    </tr>\n    <tr>\n      <th>3043</th>\n      <td>ZERO</td>\n      <td>Zero støtter utvalgets syn på viktigheten av å...</td>\n      <td>23.02.2024</td>\n      <td>5</td>\n    </tr>\n    <tr>\n      <th>3044</th>\n      <td>ZERO</td>\n      <td>Det finnes også andre måter å minimere eller e...</td>\n      <td>23.02.2024</td>\n      <td>5</td>\n    </tr>\n    <tr>\n      <th>3045</th>\n      <td>ZERO</td>\n      <td>Samtidig er det viktig å både holde fast på kl...</td>\n      <td>23.02.2024</td>\n      <td>5</td>\n    </tr>\n    <tr>\n      <th>3046</th>\n      <td>ZERO</td>\n      <td>Alle prosjekter som skal inn i NTP må kunne re...</td>\n      <td>23.02.2024</td>\n      <td>5</td>\n    </tr>\n    <tr>\n      <th>3047</th>\n      <td>ZERO</td>\n      <td>Vi bør også få på plass et totalt utslippsbuds...</td>\n      <td>23.02.2024</td>\n      <td>5</td>\n    </tr>\n  </tbody>\n</table>\n<p>3048 rows × 4 columns</p>\n</div>"
     },
     "execution_count": 15,
     "metadata": {},
     "output_type": "execute_result"
    }
   ],
   "source": [
    "df"
   ],
   "metadata": {
    "collapsed": false,
    "ExecuteTime": {
     "end_time": "2024-04-20T13:39:22.966704Z",
     "start_time": "2024-04-20T13:39:22.961855Z"
    }
   }
  },
  {
   "cell_type": "code",
   "execution_count": null,
   "outputs": [],
   "source": [],
   "metadata": {
    "collapsed": false
   }
  }
 ],
 "metadata": {
  "kernelspec": {
   "display_name": "nlp",
   "language": "python",
   "name": "python3"
  },
  "language_info": {
   "codemirror_mode": {
    "name": "ipython",
    "version": 3
   },
   "file_extension": ".py",
   "mimetype": "text/x-python",
   "name": "python",
   "nbconvert_exporter": "python",
   "pygments_lexer": "ipython3",
   "version": "3.12.2"
  }
 },
 "nbformat": 4,
 "nbformat_minor": 2
}
