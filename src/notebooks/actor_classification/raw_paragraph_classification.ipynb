{
 "cells": [
  {
   "cell_type": "markdown",
   "source": [
    "### Finetuning and evaluation of multiclass actor type classification"
   ],
   "metadata": {
    "collapsed": false
   },
   "id": "81d6adea46ae7eb7"
  },
  {
   "cell_type": "code",
   "execution_count": null,
   "id": "initial_id",
   "metadata": {
    "collapsed": true
   },
   "outputs": [],
   "source": [
    "from src.models.Finetuner import FineTuner\n",
    "\n",
    "# Run:\n",
    "finetuner = FineTuner(model_name=\"NBAiLab/nb-bert-large\",\n",
    "                      csv_path=\"../../dataset/nou_hearings.csv\",\n",
    "                      num_epochs=10,\n",
    "                      metric_names=('accuracy', 'recall', 'precision', 'f1'),\n",
    "                      wand_logging=True,\n",
    "                      eval_steps=50)\n",
    "finetuner.train()\n",
    "results = finetuner.evaluate()\n",
    "print(results)"
   ]
  }
 ],
 "metadata": {
  "kernelspec": {
   "display_name": "Python 3",
   "language": "python",
   "name": "python3"
  },
  "language_info": {
   "codemirror_mode": {
    "name": "ipython",
    "version": 2
   },
   "file_extension": ".py",
   "mimetype": "text/x-python",
   "name": "python",
   "nbconvert_exporter": "python",
   "pygments_lexer": "ipython2",
   "version": "2.7.6"
  }
 },
 "nbformat": 4,
 "nbformat_minor": 5
}
