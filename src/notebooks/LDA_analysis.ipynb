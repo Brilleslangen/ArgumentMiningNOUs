{
 "cells": [
  {
   "cell_type": "markdown",
   "id": "f4710a2a64930683",
   "metadata": {
    "collapsed": false
   },
   "source": [
    "## LDA-analysis\n",
    "Here we import our LDA_model and initialize it using our dataset. "
   ]
  },
  {
   "cell_type": "code",
   "execution_count": 2,
   "id": "cf8064363fe29006",
   "metadata": {
    "ExecuteTime": {
     "end_time": "2024-04-18T17:30:32.870910Z",
     "start_time": "2024-04-18T17:30:32.858333Z"
    },
    "collapsed": false
   },
   "outputs": [],
   "source": [
    "# !python -m spacy download nb_core_news_md # Uncomment to download Norsk Bokmål language package."
   ]
  },
  {
   "cell_type": "code",
   "execution_count": 1,
   "id": "b6de8633",
   "metadata": {},
   "outputs": [],
   "source": [
    "import sys\n",
    "sys.path.append('..')"
   ]
  },
  {
   "cell_type": "code",
   "execution_count": 4,
   "id": "f39004a0e59f8ec5",
   "metadata": {
    "ExecuteTime": {
     "end_time": "2024-04-18T22:54:42.648723Z",
     "start_time": "2024-04-18T22:54:34.372355Z"
    },
    "collapsed": false
   },
   "outputs": [],
   "source": [
    "from model_architecture.LDA import LDA, plot_topic_distribution, plot_coherence_scores\n",
    "import pandas as pd\n",
    "\n",
    "dataframe = pd.read_csv('../../dataset/nou_hearings.csv')\n",
    "texts = dataframe.text.tolist()\n",
    "lda = LDA(data=texts, no_below=5, no_above=0.5, language='nb_core_news_md')"
   ]
  },
  {
   "cell_type": "markdown",
   "id": "47d7c0abfe68c625",
   "metadata": {
    "collapsed": false
   },
   "source": [
    "### Estimate optimal number of topics"
   ]
  },
  {
   "cell_type": "code",
   "execution_count": 5,
   "id": "a833b96665f86be",
   "metadata": {
    "ExecuteTime": {
     "end_time": "2024-04-18T23:01:58.596236Z",
     "start_time": "2024-04-18T22:56:44.419650Z"
    },
    "collapsed": false
   },
   "outputs": [
    {
     "name": "stderr",
     "output_type": "stream",
     "text": [
      "Building LDA-models:   0%|          | 0/24 [00:00<?, ?it/s]"
     ]
    },
    {
     "ename": "",
     "evalue": "",
     "output_type": "error",
     "traceback": [
      "\u001b[1;31mThe Kernel crashed while executing code in the current cell or a previous cell. \n",
      "\u001b[1;31mPlease review the code in the cell(s) to identify a possible cause of the failure. \n",
      "\u001b[1;31mClick <a href='https://aka.ms/vscodeJupyterKernelCrash'>here</a> for more info. \n",
      "\u001b[1;31mView Jupyter <a href='command:jupyter.viewOutput'>log</a> for further details."
     ]
    }
   ],
   "source": [
    "coherence_values, model_list, topic_range, passes = lda.calculate_lda_model_coherences(topic_interval=(2, 25), passes=500)\n",
    "\n",
    "plot_coherence_scores(topic_range=topic_range, coherence_values=coherence_values, passes=passes)\n",
    "# plot_coherence_scores(topic_range=topic_range, coherence_values=coherence_values, passes=passes, savefig='../../plots/LDA_coherence-Large')"
   ]
  },
  {
   "cell_type": "markdown",
   "id": "1c253136c941c126",
   "metadata": {
    "collapsed": false
   },
   "source": [
    "### Select optimal model"
   ]
  },
  {
   "cell_type": "code",
   "execution_count": null,
   "id": "fa93778dfad7d526",
   "metadata": {
    "ExecuteTime": {
     "end_time": "2024-04-18T23:01:58.597975Z",
     "start_time": "2024-04-18T23:01:58.597788Z"
    },
    "collapsed": false
   },
   "outputs": [],
   "source": [
    "best_model = model_list[coherence_values.index(max(coherence_values))]\n",
    "selected_model = best_model"
   ]
  },
  {
   "cell_type": "code",
   "execution_count": null,
   "id": "673d68ea",
   "metadata": {},
   "outputs": [],
   "source": [
    "# Save model\n",
    "selected_model.save('../models/LDA_model')"
   ]
  },
  {
   "cell_type": "code",
   "execution_count": 14,
   "id": "ce9181e0",
   "metadata": {},
   "outputs": [],
   "source": [
    "# Load model\n",
    "from gensim.models.ldamodel import LdaModel\n",
    "selected_model = LdaModel.load('../model_instance/topics_18/LDA-model_18')"
   ]
  },
  {
   "cell_type": "markdown",
   "id": "303ba68b0037fc8d",
   "metadata": {
    "collapsed": false
   },
   "source": [
    "### Print topics"
   ]
  },
  {
   "cell_type": "code",
   "execution_count": 15,
   "id": "initial_id",
   "metadata": {
    "ExecuteTime": {
     "start_time": "2024-04-18T23:01:58.598575Z"
    },
    "collapsed": true
   },
   "outputs": [
    {
     "name": "stdout",
     "output_type": "stream",
     "text": [
      "(0, '0.021*\"krav\" + 0.020*\"støtte\" + 0.017*\"virkemiddel\" + 0.016*\"burde\" + 0.014*\"utvalg\" + 0.011*\"bruk\" + 0.011*\"vurdere\" + 0.010*\"sirkulær\" + 0.010*\"derfor\" + 0.009*\"bygg\"')\n",
      "(1, '0.017*\"natur\" + 0.011*\"tap\" + 0.011*\"øke\" + 0.010*\"utvalg\" + 0.010*\"burde\" + 0.009*\"klimagassutslipp\" + 0.009*\"økosystem\" + 0.009*\"viktig\" + 0.009*\"sammenheng\" + 0.008*\"areale\"')\n",
      "(2, '0.018*\"energi\" + 0.014*\"fornybar\" + 0.012*\"norge\" + 0.010*\"stor\" + 0.010*\"bruk\" + 0.010*\"øke\" + 0.010*\"liten\" + 0.009*\"behov\" + 0.009*\"infrastruktur\" + 0.009*\"mulig\"')\n",
      "(3, '0.017*\"utvalg\" + 0.015*\"omstilling\" + 0.012*\"norge\" + 0.012*\"ta\" + 0.011*\"utslippskutt\" + 0.009*\"peke\" + 0.009*\"redusere\" + 0.008*\"endring\" + 0.008*\"lavutslippssamfunn\" + 0.008*\"frem\"')\n",
      "(4, '0.066*\"omstilling\" + 0.061*\"nou\" + 0.056*\"klimapolitikk\" + 0.054*\"veivalg\" + 0.052*\"klimautvalget\" + 0.051*\"lavutslipp\" + 0.036*\"rapport\" + 0.033*\"innspill\" + 0.022*\"høring\" + 0.020*\"høringssvar\"')\n",
      "(5, '0.029*\"gass\" + 0.028*\"petroleumsvirksomhet\" + 0.024*\"strategi\" + 0.019*\"hva\" + 0.018*\"norsk\" + 0.018*\"ha\" + 0.017*\"eu\" + 0.016*\"norge\" + 0.014*\"mangle\" + 0.014*\"leverandør\"')\n",
      "(6, '0.014*\"natur\" + 0.013*\"klima\" + 0.009*\"norsk\" + 0.009*\"hvor\" + 0.009*\"derfor\" + 0.009*\"ressurs\" + 0.009*\"norge\" + 0.008*\"utvalg\" + 0.008*\"all\" + 0.008*\"miljø\"')\n",
      "(7, '0.028*\"utslipp\" + 0.020*\"norsk\" + 0.018*\"norge\" + 0.015*\"redusere\" + 0.013*\"produksjon\" + 0.012*\"matproduksjon\" + 0.012*\"burde\" + 0.011*\"produsere\" + 0.011*\"øke\" + 0.009*\"basere\"')\n",
      "(8, '0.047*\"ein\" + 0.029*\"ikkje\" + 0.023*\"dei\" + 0.022*\"økonomisk\" + 0.021*\"samfunn\" + 0.020*\"økonomi\" + 0.018*\"rapport\" + 0.015*\"samfunnsmessig\" + 0.015*\"en\" + 0.015*\"vert\"')\n",
      "(9, '0.020*\"norsk\" + 0.014*\"to\" + 0.014*\"the\" + 0.011*\"of\" + 0.011*\"prosjekt\" + 0.011*\"marked\" + 0.010*\"skape\" + 0.009*\"industri\" + 0.009*\"produkt\" + 0.009*\"høy\"')\n",
      "(10, '0.026*\"global\" + 0.018*\"effekt\" + 0.014*\"uansett\" + 0.013*\"parisavtalen\" + 0.013*\"beregne\" + 0.013*\"per\" + 0.012*\"negativ\" + 0.012*\"henhold\" + 0.012*\"million\" + 0.011*\"jo\"')\n",
      "(11, '0.036*\"norge\" + 0.023*\"utvalg\" + 0.019*\"utslipp\" + 0.018*\"mål\" + 0.015*\"klimamål\" + 0.015*\"norsk\" + 0.014*\"hvilken\" + 0.012*\"eu\" + 0.011*\"lavutslippssamfunn\" + 0.011*\"klimapolitikk\"')\n",
      "(12, '0.019*\"omstilling\" + 0.013*\"bidra\" + 0.011*\"kompetanse\" + 0.010*\"grønn\" + 0.009*\"samarbeid\" + 0.009*\"øke\" + 0.009*\"behov\" + 0.008*\"kreve\" + 0.008*\"etablere\" + 0.008*\"offentlig\"')\n",
      "(13, '0.025*\"fremme\" + 0.021*\"punkt\" + 0.016*\"inp\" + 0.014*\"innovasjon\" + 0.014*\"forslag\" + 0.014*\"sp\" + 0.013*\"stemme\" + 0.013*\"milliard\" + 0.012*\"dyr\" + 0.012*\"unødvendig\"')\n",
      "(14, '0.030*\"utslipp\" + 0.023*\"redusere\" + 0.017*\"skog\" + 0.016*\"opptak\" + 0.016*\"forhold\" + 0.014*\"tonn\" + 0.013*\"norsk\" + 0.013*\"liten\" + 0.012*\"norge\" + 0.011*\"miljødirektoratet\"')\n",
      "(15, '0.020*\"omstilling\" + 0.020*\"kommune\" + 0.019*\"bidra\" + 0.017*\"redusere\" + 0.017*\"miljø\" + 0.016*\"vedtak\" + 0.015*\"klima\" + 0.015*\"natur\" + 0.015*\"klimaomstilling\" + 0.014*\"gjerne\"')\n",
      "(16, '0.015*\"utvalg\" + 0.015*\"kommune\" + 0.013*\"tiltak\" + 0.012*\"lavutslippssamfunn\" + 0.012*\"helhetlig\" + 0.012*\"burde\" + 0.012*\"støtte\" + 0.010*\"nasjonal\" + 0.010*\"tydelig\" + 0.010*\"legge\"')\n",
      "(17, '0.032*\"kommune\" + 0.020*\"sette\" + 0.016*\"lokal\" + 0.014*\"krav\" + 0.014*\"feil\" + 0.013*\"rolle\" + 0.012*\"tidspunkt\" + 0.012*\"statsforvalter\" + 0.011*\"ansvar\" + 0.011*\"hos\"')\n"
     ]
    }
   ],
   "source": [
    "topics = selected_model.print_topics(num_words=10)\n",
    "sorted_topics = sorted(topics, key=lambda x: x[0])\n",
    "for topic in sorted_topics:\n",
    "    print(topic)"
   ]
  },
  {
   "cell_type": "markdown",
   "id": "d660222b2820f00d",
   "metadata": {
    "collapsed": false
   },
   "source": [
    "### Calculate text-topic pairs"
   ]
  },
  {
   "cell_type": "code",
   "execution_count": null,
   "id": "15f4e94c5b6b27c5",
   "metadata": {
    "ExecuteTime": {
     "start_time": "2024-04-18T23:01:58.599186Z"
    },
    "collapsed": false
   },
   "outputs": [],
   "source": [
    "predictions = lda.predict_topics(model=selected_model, relevancy=False)\n",
    "\n",
    "dataframe['topic_predictions'] = predictions\n",
    "dataframe.head(n=100)"
   ]
  },
  {
   "cell_type": "markdown",
   "id": "355760ba11b67312",
   "metadata": {
    "collapsed": false
   },
   "source": [
    "## Plot distributions"
   ]
  },
  {
   "cell_type": "code",
   "execution_count": null,
   "id": "873bf230f02680e5",
   "metadata": {
    "ExecuteTime": {
     "start_time": "2024-04-18T23:01:58.599889Z"
    },
    "collapsed": false
   },
   "outputs": [],
   "source": [
    "plot_topic_distribution(dataframe)"
   ]
  },
  {
   "cell_type": "markdown",
   "id": "4e84eec1e0e66202",
   "metadata": {
    "collapsed": false
   },
   "source": [
    "### Extract arguments"
   ]
  },
  {
   "cell_type": "code",
   "execution_count": null,
   "id": "31bee203389afeeb",
   "metadata": {
    "ExecuteTime": {
     "end_time": "2024-04-18T17:35:28.686642Z",
     "start_time": "2024-04-18T17:35:01.052877Z"
    },
    "collapsed": false
   },
   "outputs": [
    {
     "name": "stderr",
     "output_type": "stream",
     "text": [
      "Processing Documents: 100%|██████████| 212/212 [00:27<00:00,  7.67it/s]\n"
     ]
    }
   ],
   "source": [
    "arguments_df = lda.extract_arguments(dataframe, best_model)\n",
    "arguments_df.to_csv('../../dataset/LDA-Arguments.csv', index=False)"
   ]
  },
  {
   "cell_type": "code",
   "execution_count": null,
   "id": "895f1a58aad43bd6",
   "metadata": {
    "ExecuteTime": {
     "end_time": "2024-04-18T17:35:28.693291Z",
     "start_time": "2024-04-18T17:35:28.690329Z"
    },
    "collapsed": false
   },
   "outputs": [],
   "source": []
  }
 ],
 "metadata": {
  "kernelspec": {
   "display_name": "Python 3",
   "language": "python",
   "name": "python3"
  },
  "language_info": {
   "codemirror_mode": {
    "name": "ipython",
    "version": 3
   },
   "file_extension": ".py",
   "mimetype": "text/x-python",
   "name": "python",
   "nbconvert_exporter": "python",
   "pygments_lexer": "ipython3",
   "version": "3.12.2"
  }
 },
 "nbformat": 4,
 "nbformat_minor": 5
}
