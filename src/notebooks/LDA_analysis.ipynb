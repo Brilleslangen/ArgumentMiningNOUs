{
 "cells": [
  {
   "cell_type": "markdown",
   "id": "f4710a2a64930683",
   "metadata": {
    "collapsed": false
   },
   "source": [
    "## LDA-analysis\n",
    "Here we import our LDA_model and initialize it using our dataset. "
   ]
  },
  {
   "cell_type": "code",
   "execution_count": null,
   "id": "56381c12",
   "metadata": {},
   "outputs": [],
   "source": [
    "import sys"
   ]
  },
  {
   "cell_type": "code",
   "execution_count": 4,
   "id": "cf8064363fe29006",
   "metadata": {
    "ExecuteTime": {
     "end_time": "2024-04-12T15:52:39.336792Z",
     "start_time": "2024-04-12T15:52:39.321141Z"
    },
    "collapsed": false
   },
   "outputs": [],
   "source": [
    "# !python -m spacy download nb_core_news_md # Uncomment to download Norsk Bokmål language package."
   ]
  },
  {
   "cell_type": "code",
   "execution_count": 1,
   "id": "f39004a0e59f8ec5",
   "metadata": {
    "collapsed": false,
    "ExecuteTime": {
     "end_time": "2024-04-14T10:49:11.456047Z",
     "start_time": "2024-04-14T10:49:10.519424Z"
    }
   },
   "outputs": [],
   "source": [
    "from src.models.LDA import LDA\n",
    "import pandas as pd\n",
    "\n",
    "dataframe = pd.read_csv('../../dataset/nou_hearings_full.csv')\n",
    "texts = dataframe.paragraph.tolist()"
   ]
  },
  {
   "cell_type": "code",
   "execution_count": 2,
   "id": "initial_id",
   "metadata": {
    "collapsed": true,
    "ExecuteTime": {
     "end_time": "2024-04-14T10:49:23.184594Z",
     "start_time": "2024-04-14T10:49:11.456878Z"
    }
   },
   "outputs": [
    {
     "name": "stdout",
     "output_type": "stream",
     "text": [
      "(0, '0.025*\"norge\" + 0.024*\"utslipp\" + 0.018*\"norsk\" + 0.013*\"energi\" + 0.011*\"utslippskutt\"')\n",
      "(1, '0.012*\"norsk\" + 0.011*\"øke\" + 0.010*\"redusere\" + 0.009*\"norge\" + 0.009*\"stor\"')\n",
      "(2, '0.041*\"nou\" + 0.040*\"omstilling\" + 0.037*\"lavutslipp\" + 0.036*\"veivalg\" + 0.028*\"klimapolitikk\"')\n",
      "(3, '0.013*\"utvalg\" + 0.012*\"støtte\" + 0.011*\"burde\" + 0.010*\"nasjonal\" + 0.010*\"kommune\"')\n",
      "(4, '0.023*\"utvalg\" + 0.016*\"tiltak\" + 0.015*\"rapport\" + 0.015*\"omstilling\" + 0.011*\"støtte\"')\n"
     ]
    }
   ],
   "source": [
    "model = LDA(data=texts, num_topics=5, no_below=15, no_above=0.5, passes=10, language='nb_core_news_sm').model\n",
    "\n",
    "topics = model.print_topics(num_words=5)\n",
    "for topic in topics:\n",
    "    print(topic)"
   ]
  },
  {
   "cell_type": "code",
   "execution_count": 4,
   "id": "31bee203389afeeb",
   "metadata": {
    "collapsed": false,
    "ExecuteTime": {
     "end_time": "2024-04-14T10:45:18.317420Z",
     "start_time": "2024-04-14T10:45:17.218294Z"
    }
   },
   "outputs": [
    {
     "name": "stdout",
     "output_type": "stream",
     "text": [
      "\u001B[2K\u001B[38;5;2m✔ Loaded compatibility table\u001B[0m\r\n",
      "\u001B[1m\r\n",
      "================= Installed pipeline packages (spaCy v3.7.4) =================\u001B[0m\r\n",
      "\u001B[38;5;4mℹ spaCy installation:\r\n",
      "/Users/nicolaisivesind/miniconda3/lib/python3.11/site-packages/spacy\u001B[0m\r\n",
      "\r\n",
      "NAME              SPACY            VERSION                            \r\n",
      "en_core_web_trf   >=3.7.2,<3.8.0   \u001B[38;5;2m3.7.3\u001B[0m   \u001B[38;5;2m✔\u001B[0m\r\n",
      "nb_core_news_sm   >=3.7.0,<3.8.0   \u001B[38;5;2m3.7.0\u001B[0m   \u001B[38;5;2m✔\u001B[0m\r\n",
      "nb_core_news_md   >=3.7.0,<3.8.0   \u001B[38;5;2m3.7.0\u001B[0m   \u001B[38;5;2m✔\u001B[0m\r\n",
      "\r\n"
     ]
    }
   ],
   "source": [
    "!python -m spacy validate"
   ]
  },
  {
   "cell_type": "code",
   "execution_count": 10,
   "id": "fa357a1f57757569",
   "metadata": {
    "collapsed": false,
    "ExecuteTime": {
     "end_time": "2024-04-14T09:55:17.105600Z",
     "start_time": "2024-04-14T09:55:17.103175Z"
    }
   },
   "outputs": [],
   "source": []
  },
  {
   "cell_type": "code",
   "execution_count": null,
   "outputs": [],
   "source": [],
   "metadata": {
    "collapsed": false
   },
   "id": "5a4b6fdab3f1a7b7"
  }
 ],
 "metadata": {
  "kernelspec": {
   "display_name": "Python 3",
   "language": "python",
   "name": "python3"
  },
  "language_info": {
   "codemirror_mode": {
    "name": "ipython",
    "version": 2
   },
   "file_extension": ".py",
   "mimetype": "text/x-python",
   "name": "python",
   "nbconvert_exporter": "python",
   "pygments_lexer": "ipython2",
   "version": "2.7.6"
  }
 },
 "nbformat": 4,
 "nbformat_minor": 5
}
