{
 "cells": [
  {
   "cell_type": "markdown",
   "id": "f4710a2a64930683",
   "metadata": {
    "collapsed": false
   },
   "source": [
    "## LDA-analysis\n",
    "Here we import our LDA_model and initialize it using our dataset. "
   ]
  },
  {
   "cell_type": "code",
   "execution_count": 11,
   "id": "cf8064363fe29006",
   "metadata": {
    "collapsed": false,
    "ExecuteTime": {
     "end_time": "2024-04-18T17:30:32.870910Z",
     "start_time": "2024-04-18T17:30:32.858333Z"
    }
   },
   "outputs": [],
   "source": [
    "# !python -m spacy download nb_core_news_md # Uncomment to download Norsk Bokmål language package."
   ]
  },
  {
   "cell_type": "code",
   "execution_count": 37,
   "id": "f39004a0e59f8ec5",
   "metadata": {
    "collapsed": false,
    "ExecuteTime": {
     "end_time": "2024-04-18T22:54:42.648723Z",
     "start_time": "2024-04-18T22:54:34.372355Z"
    }
   },
   "outputs": [],
   "source": [
    "from src.models.LDA import LDA, plot_topic_distribution, plot_coherence_scores\n",
    "import pandas as pd\n",
    "\n",
    "dataframe = pd.read_csv('../../dataset/nou_hearings.csv')\n",
    "texts = dataframe.text.tolist()\n",
    "lda = LDA(data=texts, no_below=5, no_above=0.5, language='/Users/nicolaisivesind/miniconda3/lib/python3.11/site-packages/nb_core_news_md/nb_core_news_md-3.7.0')"
   ]
  },
  {
   "cell_type": "markdown",
   "id": "47d7c0abfe68c625",
   "metadata": {
    "collapsed": false
   },
   "source": [
    "### Estimate optimal number of topics"
   ]
  },
  {
   "cell_type": "code",
   "execution_count": 38,
   "id": "a833b96665f86be",
   "metadata": {
    "collapsed": false,
    "ExecuteTime": {
     "end_time": "2024-04-18T23:01:58.596236Z",
     "start_time": "2024-04-18T22:56:44.419650Z"
    }
   },
   "outputs": [
    {
     "name": "stderr",
     "output_type": "stream",
     "text": [
      "Building LDA-models:   4%|▍         | 1/24 [02:15<52:04, 135.85s/it]Traceback (most recent call last):\n",
      "Building LDA-models:   4%|▍         | 1/24 [05:14<2:00:23, 314.06s/it]  File \"<string>\", line 1, in <module>\n",
      "  File \"/Library/Frameworks/Python.framework/Versions/3.11/lib/python3.11/multiprocessing/spawn.py\", line 19, in <module>\n",
      "    from . import util\n",
      "  File \"/Library/Frameworks/Python.framework/Versions/3.11/lib/python3.11/multiprocessing/util.py\", line 17, in <module>\n",
      "    from subprocess import _args_from_interpreter_flags\n",
      "  File \"/Library/Frameworks/Python.framework/Versions/3.11/lib/python3.11/subprocess.py\", line 104, in <module>\n",
      "    from _posixsubprocess import fork_exec as _fork_exec\n",
      "KeyboardInterrupt\n",
      "\n"
     ]
    },
    {
     "ename": "KeyboardInterrupt",
     "evalue": "",
     "output_type": "error",
     "traceback": [
      "\u001B[0;31m---------------------------------------------------------------------------\u001B[0m",
      "\u001B[0;31mKeyboardInterrupt\u001B[0m                         Traceback (most recent call last)",
      "Cell \u001B[0;32mIn[38], line 1\u001B[0m\n\u001B[0;32m----> 1\u001B[0m coherence_values, model_list, topic_range, passes \u001B[38;5;241m=\u001B[39m \u001B[43mlda\u001B[49m\u001B[38;5;241;43m.\u001B[39;49m\u001B[43mcalculate_lda_model_coherences\u001B[49m\u001B[43m(\u001B[49m\u001B[43mtopic_interval\u001B[49m\u001B[38;5;241;43m=\u001B[39;49m\u001B[43m(\u001B[49m\u001B[38;5;241;43m2\u001B[39;49m\u001B[43m,\u001B[49m\u001B[43m \u001B[49m\u001B[38;5;241;43m25\u001B[39;49m\u001B[43m)\u001B[49m\u001B[43m,\u001B[49m\u001B[43m \u001B[49m\u001B[43mpasses\u001B[49m\u001B[38;5;241;43m=\u001B[39;49m\u001B[38;5;241;43m500\u001B[39;49m\u001B[43m)\u001B[49m\n\u001B[1;32m      3\u001B[0m plot_coherence_scores(topic_range\u001B[38;5;241m=\u001B[39mtopic_range, coherence_values\u001B[38;5;241m=\u001B[39mcoherence_values, passes\u001B[38;5;241m=\u001B[39mpasses)\n\u001B[1;32m      4\u001B[0m \u001B[38;5;66;03m# plot_coherence_scores(topic_range=topic_range, coherence_values=coherence_values, passes=passes, savefig='../../plots/LDA_coherence-Large')\u001B[39;00m\n",
      "File \u001B[0;32m~/Desktop/Datateknologi/NLP/Project/ArgumentMiningNOUs/src/models/LDA.py:147\u001B[0m, in \u001B[0;36mLDA.calculate_lda_model_coherences\u001B[0;34m(self, topic_interval, passes)\u001B[0m\n\u001B[1;32m    144\u001B[0m     model_list\u001B[38;5;241m.\u001B[39mappend(model)\n\u001B[1;32m    145\u001B[0m     coherence_model \u001B[38;5;241m=\u001B[39m CoherenceModel(model\u001B[38;5;241m=\u001B[39mmodel, texts\u001B[38;5;241m=\u001B[39m\u001B[38;5;28mself\u001B[39m\u001B[38;5;241m.\u001B[39mpreprocessed_data, dictionary\u001B[38;5;241m=\u001B[39m\u001B[38;5;28mself\u001B[39m\u001B[38;5;241m.\u001B[39mdictionary,\n\u001B[1;32m    146\u001B[0m                                      coherence\u001B[38;5;241m=\u001B[39m\u001B[38;5;124m'\u001B[39m\u001B[38;5;124mc_v\u001B[39m\u001B[38;5;124m'\u001B[39m)\n\u001B[0;32m--> 147\u001B[0m     coherence_values\u001B[38;5;241m.\u001B[39mappend(\u001B[43mcoherence_model\u001B[49m\u001B[38;5;241;43m.\u001B[39;49m\u001B[43mget_coherence\u001B[49m\u001B[43m(\u001B[49m\u001B[43m)\u001B[49m)\n\u001B[1;32m    149\u001B[0m \u001B[38;5;28;01mreturn\u001B[39;00m coherence_values, model_list, topic_range, passes\n",
      "File \u001B[0;32m/Library/Frameworks/Python.framework/Versions/3.11/lib/python3.11/site-packages/gensim/models/coherencemodel.py:614\u001B[0m, in \u001B[0;36mCoherenceModel.get_coherence\u001B[0;34m(self)\u001B[0m\n\u001B[1;32m    605\u001B[0m \u001B[38;5;28;01mdef\u001B[39;00m \u001B[38;5;21mget_coherence\u001B[39m(\u001B[38;5;28mself\u001B[39m):\n\u001B[1;32m    606\u001B[0m \u001B[38;5;250m    \u001B[39m\u001B[38;5;124;03m\"\"\"Get coherence value based on pipeline parameters.\u001B[39;00m\n\u001B[1;32m    607\u001B[0m \n\u001B[1;32m    608\u001B[0m \u001B[38;5;124;03m    Returns\u001B[39;00m\n\u001B[0;32m   (...)\u001B[0m\n\u001B[1;32m    612\u001B[0m \n\u001B[1;32m    613\u001B[0m \u001B[38;5;124;03m    \"\"\"\u001B[39;00m\n\u001B[0;32m--> 614\u001B[0m     confirmed_measures \u001B[38;5;241m=\u001B[39m \u001B[38;5;28;43mself\u001B[39;49m\u001B[38;5;241;43m.\u001B[39;49m\u001B[43mget_coherence_per_topic\u001B[49m\u001B[43m(\u001B[49m\u001B[43m)\u001B[49m\n\u001B[1;32m    615\u001B[0m     \u001B[38;5;28;01mreturn\u001B[39;00m \u001B[38;5;28mself\u001B[39m\u001B[38;5;241m.\u001B[39maggregate_measures(confirmed_measures)\n",
      "File \u001B[0;32m/Library/Frameworks/Python.framework/Versions/3.11/lib/python3.11/site-packages/gensim/models/coherencemodel.py:574\u001B[0m, in \u001B[0;36mCoherenceModel.get_coherence_per_topic\u001B[0;34m(self, segmented_topics, with_std, with_support)\u001B[0m\n\u001B[1;32m    572\u001B[0m     segmented_topics \u001B[38;5;241m=\u001B[39m measure\u001B[38;5;241m.\u001B[39mseg(\u001B[38;5;28mself\u001B[39m\u001B[38;5;241m.\u001B[39mtopics)\n\u001B[1;32m    573\u001B[0m \u001B[38;5;28;01mif\u001B[39;00m \u001B[38;5;28mself\u001B[39m\u001B[38;5;241m.\u001B[39m_accumulator \u001B[38;5;129;01mis\u001B[39;00m \u001B[38;5;28;01mNone\u001B[39;00m:\n\u001B[0;32m--> 574\u001B[0m     \u001B[38;5;28;43mself\u001B[39;49m\u001B[38;5;241;43m.\u001B[39;49m\u001B[43mestimate_probabilities\u001B[49m\u001B[43m(\u001B[49m\u001B[43msegmented_topics\u001B[49m\u001B[43m)\u001B[49m\n\u001B[1;32m    576\u001B[0m kwargs \u001B[38;5;241m=\u001B[39m \u001B[38;5;28mdict\u001B[39m(with_std\u001B[38;5;241m=\u001B[39mwith_std, with_support\u001B[38;5;241m=\u001B[39mwith_support)\n\u001B[1;32m    577\u001B[0m \u001B[38;5;28;01mif\u001B[39;00m \u001B[38;5;28mself\u001B[39m\u001B[38;5;241m.\u001B[39mcoherence \u001B[38;5;129;01min\u001B[39;00m BOOLEAN_DOCUMENT_BASED \u001B[38;5;129;01mor\u001B[39;00m \u001B[38;5;28mself\u001B[39m\u001B[38;5;241m.\u001B[39mcoherence \u001B[38;5;241m==\u001B[39m \u001B[38;5;124m'\u001B[39m\u001B[38;5;124mc_w2v\u001B[39m\u001B[38;5;124m'\u001B[39m:\n",
      "File \u001B[0;32m/Library/Frameworks/Python.framework/Versions/3.11/lib/python3.11/site-packages/gensim/models/coherencemodel.py:546\u001B[0m, in \u001B[0;36mCoherenceModel.estimate_probabilities\u001B[0;34m(self, segmented_topics)\u001B[0m\n\u001B[1;32m    543\u001B[0m     \u001B[38;5;28;01mif\u001B[39;00m \u001B[38;5;28mself\u001B[39m\u001B[38;5;241m.\u001B[39mcoherence \u001B[38;5;241m==\u001B[39m \u001B[38;5;124m'\u001B[39m\u001B[38;5;124mc_w2v\u001B[39m\u001B[38;5;124m'\u001B[39m:\n\u001B[1;32m    544\u001B[0m         kwargs[\u001B[38;5;124m'\u001B[39m\u001B[38;5;124mmodel\u001B[39m\u001B[38;5;124m'\u001B[39m] \u001B[38;5;241m=\u001B[39m \u001B[38;5;28mself\u001B[39m\u001B[38;5;241m.\u001B[39mkeyed_vectors\n\u001B[0;32m--> 546\u001B[0m     \u001B[38;5;28mself\u001B[39m\u001B[38;5;241m.\u001B[39m_accumulator \u001B[38;5;241m=\u001B[39m \u001B[38;5;28;43mself\u001B[39;49m\u001B[38;5;241;43m.\u001B[39;49m\u001B[43mmeasure\u001B[49m\u001B[38;5;241;43m.\u001B[39;49m\u001B[43mprob\u001B[49m\u001B[43m(\u001B[49m\u001B[38;5;241;43m*\u001B[39;49m\u001B[38;5;241;43m*\u001B[39;49m\u001B[43mkwargs\u001B[49m\u001B[43m)\u001B[49m\n\u001B[1;32m    548\u001B[0m \u001B[38;5;28;01mreturn\u001B[39;00m \u001B[38;5;28mself\u001B[39m\u001B[38;5;241m.\u001B[39m_accumulator\n",
      "File \u001B[0;32m/Library/Frameworks/Python.framework/Versions/3.11/lib/python3.11/site-packages/gensim/topic_coherence/probability_estimation.py:156\u001B[0m, in \u001B[0;36mp_boolean_sliding_window\u001B[0;34m(texts, segmented_topics, dictionary, window_size, processes)\u001B[0m\n\u001B[1;32m    154\u001B[0m     accumulator \u001B[38;5;241m=\u001B[39m ParallelWordOccurrenceAccumulator(processes, top_ids, dictionary)\n\u001B[1;32m    155\u001B[0m logger\u001B[38;5;241m.\u001B[39minfo(\u001B[38;5;124m\"\u001B[39m\u001B[38;5;124musing \u001B[39m\u001B[38;5;132;01m%s\u001B[39;00m\u001B[38;5;124m to estimate probabilities from sliding windows\u001B[39m\u001B[38;5;124m\"\u001B[39m, accumulator)\n\u001B[0;32m--> 156\u001B[0m \u001B[38;5;28;01mreturn\u001B[39;00m \u001B[43maccumulator\u001B[49m\u001B[38;5;241;43m.\u001B[39;49m\u001B[43maccumulate\u001B[49m\u001B[43m(\u001B[49m\u001B[43mtexts\u001B[49m\u001B[43m,\u001B[49m\u001B[43m \u001B[49m\u001B[43mwindow_size\u001B[49m\u001B[43m)\u001B[49m\n",
      "File \u001B[0;32m/Library/Frameworks/Python.framework/Versions/3.11/lib/python3.11/site-packages/gensim/topic_coherence/text_analysis.py:437\u001B[0m, in \u001B[0;36mParallelWordOccurrenceAccumulator.accumulate\u001B[0;34m(self, texts, window_size)\u001B[0m\n\u001B[1;32m    436\u001B[0m \u001B[38;5;28;01mdef\u001B[39;00m \u001B[38;5;21maccumulate\u001B[39m(\u001B[38;5;28mself\u001B[39m, texts, window_size):\n\u001B[0;32m--> 437\u001B[0m     workers, input_q, output_q \u001B[38;5;241m=\u001B[39m \u001B[38;5;28;43mself\u001B[39;49m\u001B[38;5;241;43m.\u001B[39;49m\u001B[43mstart_workers\u001B[49m\u001B[43m(\u001B[49m\u001B[43mwindow_size\u001B[49m\u001B[43m)\u001B[49m\n\u001B[1;32m    438\u001B[0m     \u001B[38;5;28;01mtry\u001B[39;00m:\n\u001B[1;32m    439\u001B[0m         \u001B[38;5;28mself\u001B[39m\u001B[38;5;241m.\u001B[39mqueue_all_texts(input_q, texts, window_size)\n",
      "File \u001B[0;32m/Library/Frameworks/Python.framework/Versions/3.11/lib/python3.11/site-packages/gensim/topic_coherence/text_analysis.py:471\u001B[0m, in \u001B[0;36mParallelWordOccurrenceAccumulator.start_workers\u001B[0;34m(self, window_size)\u001B[0m\n\u001B[1;32m    469\u001B[0m     accumulator \u001B[38;5;241m=\u001B[39m PatchedWordOccurrenceAccumulator(\u001B[38;5;28mself\u001B[39m\u001B[38;5;241m.\u001B[39mrelevant_ids, \u001B[38;5;28mself\u001B[39m\u001B[38;5;241m.\u001B[39mdictionary)\n\u001B[1;32m    470\u001B[0m     worker \u001B[38;5;241m=\u001B[39m AccumulatingWorker(input_q, output_q, accumulator, window_size)\n\u001B[0;32m--> 471\u001B[0m     \u001B[43mworker\u001B[49m\u001B[38;5;241;43m.\u001B[39;49m\u001B[43mstart\u001B[49m\u001B[43m(\u001B[49m\u001B[43m)\u001B[49m\n\u001B[1;32m    472\u001B[0m     workers\u001B[38;5;241m.\u001B[39mappend(worker)\n\u001B[1;32m    474\u001B[0m \u001B[38;5;28;01mreturn\u001B[39;00m workers, input_q, output_q\n",
      "File \u001B[0;32m/Library/Frameworks/Python.framework/Versions/3.11/lib/python3.11/multiprocessing/process.py:121\u001B[0m, in \u001B[0;36mBaseProcess.start\u001B[0;34m(self)\u001B[0m\n\u001B[1;32m    118\u001B[0m \u001B[38;5;28;01massert\u001B[39;00m \u001B[38;5;129;01mnot\u001B[39;00m _current_process\u001B[38;5;241m.\u001B[39m_config\u001B[38;5;241m.\u001B[39mget(\u001B[38;5;124m'\u001B[39m\u001B[38;5;124mdaemon\u001B[39m\u001B[38;5;124m'\u001B[39m), \\\n\u001B[1;32m    119\u001B[0m        \u001B[38;5;124m'\u001B[39m\u001B[38;5;124mdaemonic processes are not allowed to have children\u001B[39m\u001B[38;5;124m'\u001B[39m\n\u001B[1;32m    120\u001B[0m _cleanup()\n\u001B[0;32m--> 121\u001B[0m \u001B[38;5;28mself\u001B[39m\u001B[38;5;241m.\u001B[39m_popen \u001B[38;5;241m=\u001B[39m \u001B[38;5;28;43mself\u001B[39;49m\u001B[38;5;241;43m.\u001B[39;49m\u001B[43m_Popen\u001B[49m\u001B[43m(\u001B[49m\u001B[38;5;28;43mself\u001B[39;49m\u001B[43m)\u001B[49m\n\u001B[1;32m    122\u001B[0m \u001B[38;5;28mself\u001B[39m\u001B[38;5;241m.\u001B[39m_sentinel \u001B[38;5;241m=\u001B[39m \u001B[38;5;28mself\u001B[39m\u001B[38;5;241m.\u001B[39m_popen\u001B[38;5;241m.\u001B[39msentinel\n\u001B[1;32m    123\u001B[0m \u001B[38;5;66;03m# Avoid a refcycle if the target function holds an indirect\u001B[39;00m\n\u001B[1;32m    124\u001B[0m \u001B[38;5;66;03m# reference to the process object (see bpo-30775)\u001B[39;00m\n",
      "File \u001B[0;32m/Library/Frameworks/Python.framework/Versions/3.11/lib/python3.11/multiprocessing/context.py:224\u001B[0m, in \u001B[0;36mProcess._Popen\u001B[0;34m(process_obj)\u001B[0m\n\u001B[1;32m    222\u001B[0m \u001B[38;5;129m@staticmethod\u001B[39m\n\u001B[1;32m    223\u001B[0m \u001B[38;5;28;01mdef\u001B[39;00m \u001B[38;5;21m_Popen\u001B[39m(process_obj):\n\u001B[0;32m--> 224\u001B[0m     \u001B[38;5;28;01mreturn\u001B[39;00m \u001B[43m_default_context\u001B[49m\u001B[38;5;241;43m.\u001B[39;49m\u001B[43mget_context\u001B[49m\u001B[43m(\u001B[49m\u001B[43m)\u001B[49m\u001B[38;5;241;43m.\u001B[39;49m\u001B[43mProcess\u001B[49m\u001B[38;5;241;43m.\u001B[39;49m\u001B[43m_Popen\u001B[49m\u001B[43m(\u001B[49m\u001B[43mprocess_obj\u001B[49m\u001B[43m)\u001B[49m\n",
      "File \u001B[0;32m/Library/Frameworks/Python.framework/Versions/3.11/lib/python3.11/multiprocessing/context.py:288\u001B[0m, in \u001B[0;36mSpawnProcess._Popen\u001B[0;34m(process_obj)\u001B[0m\n\u001B[1;32m    285\u001B[0m \u001B[38;5;129m@staticmethod\u001B[39m\n\u001B[1;32m    286\u001B[0m \u001B[38;5;28;01mdef\u001B[39;00m \u001B[38;5;21m_Popen\u001B[39m(process_obj):\n\u001B[1;32m    287\u001B[0m     \u001B[38;5;28;01mfrom\u001B[39;00m \u001B[38;5;21;01m.\u001B[39;00m\u001B[38;5;21;01mpopen_spawn_posix\u001B[39;00m \u001B[38;5;28;01mimport\u001B[39;00m Popen\n\u001B[0;32m--> 288\u001B[0m     \u001B[38;5;28;01mreturn\u001B[39;00m \u001B[43mPopen\u001B[49m\u001B[43m(\u001B[49m\u001B[43mprocess_obj\u001B[49m\u001B[43m)\u001B[49m\n",
      "File \u001B[0;32m/Library/Frameworks/Python.framework/Versions/3.11/lib/python3.11/multiprocessing/popen_spawn_posix.py:32\u001B[0m, in \u001B[0;36mPopen.__init__\u001B[0;34m(self, process_obj)\u001B[0m\n\u001B[1;32m     30\u001B[0m \u001B[38;5;28;01mdef\u001B[39;00m \u001B[38;5;21m__init__\u001B[39m(\u001B[38;5;28mself\u001B[39m, process_obj):\n\u001B[1;32m     31\u001B[0m     \u001B[38;5;28mself\u001B[39m\u001B[38;5;241m.\u001B[39m_fds \u001B[38;5;241m=\u001B[39m []\n\u001B[0;32m---> 32\u001B[0m     \u001B[38;5;28;43msuper\u001B[39;49m\u001B[43m(\u001B[49m\u001B[43m)\u001B[49m\u001B[38;5;241;43m.\u001B[39;49m\u001B[38;5;21;43m__init__\u001B[39;49m\u001B[43m(\u001B[49m\u001B[43mprocess_obj\u001B[49m\u001B[43m)\u001B[49m\n",
      "File \u001B[0;32m/Library/Frameworks/Python.framework/Versions/3.11/lib/python3.11/multiprocessing/popen_fork.py:19\u001B[0m, in \u001B[0;36mPopen.__init__\u001B[0;34m(self, process_obj)\u001B[0m\n\u001B[1;32m     17\u001B[0m \u001B[38;5;28mself\u001B[39m\u001B[38;5;241m.\u001B[39mreturncode \u001B[38;5;241m=\u001B[39m \u001B[38;5;28;01mNone\u001B[39;00m\n\u001B[1;32m     18\u001B[0m \u001B[38;5;28mself\u001B[39m\u001B[38;5;241m.\u001B[39mfinalizer \u001B[38;5;241m=\u001B[39m \u001B[38;5;28;01mNone\u001B[39;00m\n\u001B[0;32m---> 19\u001B[0m \u001B[38;5;28;43mself\u001B[39;49m\u001B[38;5;241;43m.\u001B[39;49m\u001B[43m_launch\u001B[49m\u001B[43m(\u001B[49m\u001B[43mprocess_obj\u001B[49m\u001B[43m)\u001B[49m\n",
      "File \u001B[0;32m/Library/Frameworks/Python.framework/Versions/3.11/lib/python3.11/multiprocessing/popen_spawn_posix.py:62\u001B[0m, in \u001B[0;36mPopen._launch\u001B[0;34m(self, process_obj)\u001B[0m\n\u001B[1;32m     60\u001B[0m     \u001B[38;5;28mself\u001B[39m\u001B[38;5;241m.\u001B[39msentinel \u001B[38;5;241m=\u001B[39m parent_r\n\u001B[1;32m     61\u001B[0m     \u001B[38;5;28;01mwith\u001B[39;00m \u001B[38;5;28mopen\u001B[39m(parent_w, \u001B[38;5;124m'\u001B[39m\u001B[38;5;124mwb\u001B[39m\u001B[38;5;124m'\u001B[39m, closefd\u001B[38;5;241m=\u001B[39m\u001B[38;5;28;01mFalse\u001B[39;00m) \u001B[38;5;28;01mas\u001B[39;00m f:\n\u001B[0;32m---> 62\u001B[0m         f\u001B[38;5;241m.\u001B[39mwrite(fp\u001B[38;5;241m.\u001B[39mgetbuffer())\n\u001B[1;32m     63\u001B[0m \u001B[38;5;28;01mfinally\u001B[39;00m:\n\u001B[1;32m     64\u001B[0m     fds_to_close \u001B[38;5;241m=\u001B[39m []\n",
      "\u001B[0;31mKeyboardInterrupt\u001B[0m: "
     ]
    }
   ],
   "source": [
    "coherence_values, model_list, topic_range, passes = lda.calculate_lda_model_coherences(topic_interval=(2, 25), passes=500)\n",
    "\n",
    "plot_coherence_scores(topic_range=topic_range, coherence_values=coherence_values, passes=passes)\n",
    "# plot_coherence_scores(topic_range=topic_range, coherence_values=coherence_values, passes=passes, savefig='../../plots/LDA_coherence-Large')"
   ]
  },
  {
   "cell_type": "markdown",
   "source": [
    "### Select optimal model"
   ],
   "metadata": {
    "collapsed": false
   },
   "id": "1c253136c941c126"
  },
  {
   "cell_type": "code",
   "execution_count": null,
   "outputs": [],
   "source": [
    "best_model = model_list[coherence_values.index(max(coherence_values))]\n",
    "selected_model = best_model"
   ],
   "metadata": {
    "collapsed": false,
    "ExecuteTime": {
     "end_time": "2024-04-18T23:01:58.597975Z",
     "start_time": "2024-04-18T23:01:58.597788Z"
    }
   },
   "id": "fa93778dfad7d526"
  },
  {
   "cell_type": "markdown",
   "id": "303ba68b0037fc8d",
   "metadata": {
    "collapsed": false
   },
   "source": [
    "### Print topics"
   ]
  },
  {
   "cell_type": "code",
   "execution_count": null,
   "id": "initial_id",
   "metadata": {
    "collapsed": true,
    "ExecuteTime": {
     "start_time": "2024-04-18T23:01:58.598575Z"
    }
   },
   "outputs": [],
   "source": [
    "topics = selected_model.print_topics(num_words=10)\n",
    "sorted_topics = sorted(topics, key=lambda x: x[0])\n",
    "for topic in sorted_topics:\n",
    "    print(topic)"
   ]
  },
  {
   "cell_type": "markdown",
   "id": "d660222b2820f00d",
   "metadata": {
    "collapsed": false
   },
   "source": [
    "### Calculate text-topic pairs"
   ]
  },
  {
   "cell_type": "code",
   "execution_count": null,
   "id": "15f4e94c5b6b27c5",
   "metadata": {
    "collapsed": false,
    "ExecuteTime": {
     "start_time": "2024-04-18T23:01:58.599186Z"
    }
   },
   "outputs": [],
   "source": [
    "predictions = lda.predict_topics(model=selected_model, relevancy=False)\n",
    "\n",
    "dataframe['topic_predictions'] = predictions\n",
    "dataframe.head(n=100)"
   ]
  },
  {
   "cell_type": "markdown",
   "id": "355760ba11b67312",
   "metadata": {
    "collapsed": false
   },
   "source": [
    "## Plot distributions"
   ]
  },
  {
   "cell_type": "code",
   "execution_count": null,
   "id": "873bf230f02680e5",
   "metadata": {
    "collapsed": false,
    "ExecuteTime": {
     "start_time": "2024-04-18T23:01:58.599889Z"
    }
   },
   "outputs": [],
   "source": [
    "plot_topic_distribution(dataframe)"
   ]
  },
  {
   "cell_type": "markdown",
   "source": [
    "### Extract arguments"
   ],
   "metadata": {
    "collapsed": false
   },
   "id": "4e84eec1e0e66202"
  },
  {
   "cell_type": "code",
   "execution_count": 18,
   "id": "31bee203389afeeb",
   "metadata": {
    "collapsed": false,
    "ExecuteTime": {
     "end_time": "2024-04-18T17:35:28.686642Z",
     "start_time": "2024-04-18T17:35:01.052877Z"
    }
   },
   "outputs": [
    {
     "name": "stderr",
     "output_type": "stream",
     "text": [
      "Processing Documents: 100%|██████████| 212/212 [00:27<00:00,  7.67it/s]\n"
     ]
    }
   ],
   "source": [
    "arguments_df = lda.extract_arguments(dataframe, best_model)\n",
    "arguments_df.to_csv('../../dataset/LDA-Arguments.csv', index=False)"
   ]
  },
  {
   "cell_type": "code",
   "execution_count": 18,
   "outputs": [],
   "source": [],
   "metadata": {
    "collapsed": false,
    "ExecuteTime": {
     "end_time": "2024-04-18T17:35:28.693291Z",
     "start_time": "2024-04-18T17:35:28.690329Z"
    }
   },
   "id": "895f1a58aad43bd6"
  }
 ],
 "metadata": {
  "kernelspec": {
   "display_name": "Python 3",
   "language": "python",
   "name": "python3"
  },
  "language_info": {
   "codemirror_mode": {
    "name": "ipython",
    "version": 2
   },
   "file_extension": ".py",
   "mimetype": "text/x-python",
   "name": "python",
   "nbconvert_exporter": "python",
   "pygments_lexer": "ipython2",
   "version": "3.12.2"
  }
 },
 "nbformat": 4,
 "nbformat_minor": 5
}
