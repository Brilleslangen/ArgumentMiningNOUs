{
 "cells": [
  {
   "cell_type": "markdown",
   "source": [
    "## LDA-analysis\n",
    "Here we import our LDA_model and initialize it using our dataset. "
   ],
   "metadata": {
    "collapsed": false
   },
   "id": "f4710a2a64930683"
  },
  {
   "cell_type": "code",
   "execution_count": 4,
   "outputs": [],
   "source": [
    "# !python -m spacy download nb_core_news_md # Uncomment to download Norsk Bokmål language package."
   ],
   "metadata": {
    "collapsed": false,
    "ExecuteTime": {
     "end_time": "2024-04-12T15:52:39.336792Z",
     "start_time": "2024-04-12T15:52:39.321141Z"
    }
   },
   "id": "cf8064363fe29006"
  },
  {
   "cell_type": "code",
   "execution_count": 5,
   "outputs": [],
   "source": [
    "from src.models.LDA import LDA\n",
    "import pandas as pd\n",
    "\n",
    "dataframe = pd.read_csv('../../dataset/nou_hearings.csv')\n",
    "texts = dataframe.paragraph.tolist()"
   ],
   "metadata": {
    "collapsed": false,
    "ExecuteTime": {
     "end_time": "2024-04-12T15:52:39.345634Z",
     "start_time": "2024-04-12T15:52:39.325069Z"
    }
   },
   "id": "f39004a0e59f8ec5"
  },
  {
   "cell_type": "code",
   "execution_count": 6,
   "id": "initial_id",
   "metadata": {
    "collapsed": true,
    "ExecuteTime": {
     "end_time": "2024-04-12T15:52:46.444137Z",
     "start_time": "2024-04-12T15:52:39.341393Z"
    }
   },
   "outputs": [
    {
     "name": "stdout",
     "output_type": "stream",
     "text": [
      "(0, '0.040*\"nou\" + 0.040*\"omstilling\" + 0.034*\"lavutslipp\" + 0.033*\"veivalg\" + 0.028*\"klimapolitikk\"')\n",
      "(1, '0.021*\"norsk\" + 0.018*\"energi\" + 0.016*\"øke\" + 0.014*\"fornybar\" + 0.012*\"stor\"')\n",
      "(2, '0.020*\"norge\" + 0.016*\"omstilling\" + 0.015*\"utvalg\" + 0.009*\"norsk\" + 0.009*\"lavutslippssamfunn\"')\n",
      "(3, '0.019*\"utvalg\" + 0.013*\"tiltak\" + 0.013*\"utslipp\" + 0.011*\"burde\" + 0.011*\"kommune\"')\n",
      "(4, '0.022*\"norge\" + 0.016*\"bruke\" + 0.014*\"utslipp\" + 0.014*\"ikkje\" + 0.013*\"energi\"')\n"
     ]
    }
   ],
   "source": [
    "model = LDA(data=texts, num_topics=5, language='nb_core_news_sm').model\n",
    "\n",
    "topics = model.print_topics(num_words=5)\n",
    "for topic in topics:\n",
    "    print(topic)"
   ]
  },
  {
   "cell_type": "code",
   "execution_count": 7,
   "outputs": [
    {
     "name": "stdout",
     "output_type": "stream",
     "text": [
      "\u001B[2K\u001B[38;5;2m✔ Loaded compatibility table\u001B[0m\r\n",
      "\u001B[1m\r\n",
      "================= Installed pipeline packages (spaCy v3.7.4) =================\u001B[0m\r\n",
      "\u001B[38;5;4mℹ spaCy installation:\r\n",
      "/Users/nicolaisivesind/miniconda3/lib/python3.11/site-packages/spacy\u001B[0m\r\n",
      "\r\n",
      "NAME              SPACY            VERSION                            \r\n",
      "en_core_web_trf   >=3.7.2,<3.8.0   \u001B[38;5;2m3.7.3\u001B[0m   \u001B[38;5;2m✔\u001B[0m\r\n",
      "nb_core_news_sm   >=3.7.0,<3.8.0   \u001B[38;5;2m3.7.0\u001B[0m   \u001B[38;5;2m✔\u001B[0m\r\n",
      "nb_core_news_md   >=3.7.0,<3.8.0   \u001B[38;5;2m3.7.0\u001B[0m   \u001B[38;5;2m✔\u001B[0m\r\n",
      "\r\n"
     ]
    }
   ],
   "source": [
    "!python -m spacy validate"
   ],
   "metadata": {
    "collapsed": false,
    "ExecuteTime": {
     "end_time": "2024-04-12T15:52:47.699039Z",
     "start_time": "2024-04-12T15:52:46.443059Z"
    }
   },
   "id": "31bee203389afeeb"
  },
  {
   "cell_type": "code",
   "execution_count": 7,
   "outputs": [],
   "source": [],
   "metadata": {
    "collapsed": false,
    "ExecuteTime": {
     "end_time": "2024-04-12T15:52:47.702457Z",
     "start_time": "2024-04-12T15:52:47.699931Z"
    }
   },
   "id": "fa357a1f57757569"
  }
 ],
 "metadata": {
  "kernelspec": {
   "display_name": "Python 3",
   "language": "python",
   "name": "python3"
  },
  "language_info": {
   "codemirror_mode": {
    "name": "ipython",
    "version": 2
   },
   "file_extension": ".py",
   "mimetype": "text/x-python",
   "name": "python",
   "nbconvert_exporter": "python",
   "pygments_lexer": "ipython2",
   "version": "2.7.6"
  }
 },
 "nbformat": 4,
 "nbformat_minor": 5
}
