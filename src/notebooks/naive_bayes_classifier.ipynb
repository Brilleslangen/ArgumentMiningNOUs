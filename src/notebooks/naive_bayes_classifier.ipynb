{
 "cells": [
  {
   "cell_type": "code",
   "execution_count": 250,
   "metadata": {},
   "outputs": [],
   "source": [
    "from sklearn.naive_bayes import MultinomialNB\n",
    "from sklearn.feature_extraction.text import TfidfVectorizer,CountVectorizer\n",
    "from sklearn.metrics import confusion_matrix\n",
    "from sklearn.model_selection import train_test_split\n",
    "import seaborn as sns\n",
    "\n",
    "import pandas as pd\n",
    "import numpy as np"
   ]
  },
  {
   "cell_type": "code",
   "execution_count": 251,
   "metadata": {},
   "outputs": [],
   "source": [
    "def accuracy(y_true, y_pred):\n",
    "    return np.mean(y_true == y_pred)"
   ]
  },
  {
   "cell_type": "code",
   "execution_count": 252,
   "metadata": {},
   "outputs": [
    {
     "name": "stdout",
     "output_type": "stream",
     "text": [
      "['Interessegruppe' 'Interessegruppe' 'Interessegruppe' ...\n",
      " 'Frivillig organisasjon' 'Frivillig organisasjon'\n",
      " 'Frivillig organisasjon']\n",
      "[5 6 5 ... 4 3 5]\n"
     ]
    }
   ],
   "source": [
    "df = pd.read_csv('../../dataset/cleaned_arguments_in_context_learning.csv')\n",
    "\n",
    "\n",
    "\n",
    "vector = TfidfVectorizer()\n",
    "\n",
    "X = vector.fit_transform(df[\"arguments\"])\n",
    "y = df[\"actor_label\"].to_numpy()\n",
    "print(y)\n",
    "\n",
    "# Convert labels to numbers\n",
    "id2label = {i: label for i, label in enumerate(np.unique(y))}\n",
    "label2id = {label: i for i, label in id2label.items()}\n",
    "\n",
    "y = np.array([label2id[label] for label in y])\n",
    "\n",
    "X_train, X_test, y_train, y_test = train_test_split(X, y, test_size=0.2, random_state=42)\n",
    "print(y_train)"
   ]
  },
  {
   "cell_type": "code",
   "execution_count": 253,
   "metadata": {},
   "outputs": [
    {
     "name": "stdout",
     "output_type": "stream",
     "text": [
      "0.3117428486397535\n"
     ]
    }
   ],
   "source": [
    "mnb = MultinomialNB()\n",
    "\n",
    "model = mnb.fit(X_train, y_train)\n",
    "\n",
    "y_pred = model.predict(X_test)\n",
    "y_pred = np.array(y_pred)\n",
    "y_pred = y_pred.reshape(-1, 1)\n",
    "print(accuracy(y_test, y_pred))\n"
   ]
  },
  {
   "cell_type": "code",
   "execution_count": 254,
   "metadata": {},
   "outputs": [
    {
     "name": "stdout",
     "output_type": "stream",
     "text": [
      "['Interessegruppe' 'Interessegruppe' 'Interessegruppe' ...\n",
      " 'Frivillig organisasjon' 'Frivillig organisasjon'\n",
      " 'Frivillig organisasjon']\n",
      "{'Akademisk institusjon': 0, 'Bedrift': 1, 'Frivillig organisasjon': 2, 'Interessegruppe': 3, 'Offentlig forvaltning': 4, 'Politisk parti': 5, 'Privatperson': 6}\n"
     ]
    }
   ],
   "source": [
    "# Try with a binary classifier\n",
    "vector = TfidfVectorizer()\n",
    "\n",
    "X = vector.fit_transform(df[\"arguments\"])\n",
    "y = df[\"actor_label\"].to_numpy()\n",
    "print(y)\n",
    "\n",
    "# Convert labels to numbers\n",
    "id2label = {i: label for i, label in enumerate(np.unique(y))}\n",
    "label2id = {label: i for i, label in id2label.items()}\n",
    "\n",
    "print(label2id)\n",
    "\n",
    "y = np.array([label2id[label] for label in y])\n",
    "\n",
    "# Remove set all labels that are not 3 (Interessegruppe) to 0\n",
    "y = np.where(y == 5, 1, 0)\n",
    "\n",
    "X_train, X_test, y_train, y_test = train_test_split(X, y, test_size=0.4, random_state=42)"
   ]
  },
  {
   "cell_type": "code",
   "execution_count": 255,
   "metadata": {},
   "outputs": [
    {
     "name": "stdout",
     "output_type": "stream",
     "text": [
      "0.9138357375442037\n"
     ]
    }
   ],
   "source": [
    "mnb = MultinomialNB()\n",
    "\n",
    "model = mnb.fit(X_train, y_train)\n",
    "\n",
    "y_pred = model.predict(X_test)\n",
    "y_pred = y_pred.reshape(-1, 1)\n",
    "\n",
    "print(accuracy(y_test, y_pred))"
   ]
  },
  {
   "cell_type": "code",
   "execution_count": 256,
   "metadata": {},
   "outputs": [
    {
     "data": {
      "text/plain": [
       "<Axes: >"
      ]
     },
     "execution_count": 256,
     "metadata": {},
     "output_type": "execute_result"
    },
    {
     "data": {
      "image/png": "[encoded data removed]",
      "text/plain": [
       "<Figure size 640x480 with 2 Axes>"
      ]
     },
     "metadata": {},
     "output_type": "display_data"
    }
   ],
   "source": [
    "# Confusion matrix\n",
    "conf_mat = confusion_matrix(y_test, y_pred)\n",
    "sns.heatmap(conf_mat, annot=True, fmt='d', cmap='Blues')\n"
   ]
  },
  {
   "cell_type": "code",
   "execution_count": 257,
   "metadata": {},
   "outputs": [
    {
     "name": "stdout",
     "output_type": "stream",
     "text": [
      "['Interessegruppe' 'Interessegruppe' 'Interessegruppe' ...\n",
      " 'Frivillig organisasjon' 'Frivillig organisasjon'\n",
      " 'Frivillig organisasjon']\n",
      "{'Akademisk institusjon': 0, 'Bedrift': 1, 'Frivillig organisasjon': 2, 'Interessegruppe': 3, 'Offentlig forvaltning': 4, 'Politisk parti': 5, 'Privatperson': 6}\n"
     ]
    }
   ],
   "source": [
    "# Try with a binary classifier\n",
    "vector = CountVectorizer()\n",
    "\n",
    "X = vector.fit_transform(df[\"arguments\"])\n",
    "y = df[\"actor_label\"].to_numpy()\n",
    "print(y)\n",
    "\n",
    "# Convert labels to numbers\n",
    "id2label = {i: label for i, label in enumerate(np.unique(y))}\n",
    "label2id = {label: i for i, label in id2label.items()}\n",
    "\n",
    "print(label2id)\n",
    "\n",
    "y = np.array([label2id[label] for label in y])\n",
    "\n",
    "# Remove set all labels that are not 3 (Interessegruppe) to 0\n",
    "y = np.where(y == 5, 1, 0)\n",
    "\n",
    "X_train, X_test, y_train, y_test = train_test_split(X, y, test_size=0.4, random_state=42)"
   ]
  },
  {
   "cell_type": "code",
   "execution_count": 258,
   "metadata": {},
   "outputs": [
    {
     "name": "stdout",
     "output_type": "stream",
     "text": [
      "0.8750962851440776\n"
     ]
    }
   ],
   "source": [
    "mnb = MultinomialNB()\n",
    "\n",
    "model = mnb.fit(X_train, y_train)\n",
    "\n",
    "y_pred = model.predict(X_test)\n",
    "y_pred = y_pred.reshape(-1, 1)\n",
    "\n",
    "print(accuracy(y_test, y_pred))"
   ]
  },
  {
   "cell_type": "code",
   "execution_count": 259,
   "metadata": {},
   "outputs": [
    {
     "data": {
      "text/plain": [
       "<Axes: >"
      ]
     },
     "execution_count": 259,
     "metadata": {},
     "output_type": "execute_result"
    },
    {
     "data": {
      "image/png": "[encoded data removed]",
      "text/plain": [
       "<Figure size 640x480 with 2 Axes>"
      ]
     },
     "metadata": {},
     "output_type": "display_data"
    }
   ],
   "source": [
    "# Confusion matrix\n",
    "conf_mat = confusion_matrix(y_test, y_pred)\n",
    "sns.heatmap(conf_mat, annot=True, fmt='d', cmap='Blues')"
   ]
  },
  {
   "cell_type": "markdown",
   "metadata": {},
   "source": [
    "## SVM"
   ]
  },
  {
   "cell_type": "code",
   "execution_count": null,
   "metadata": {},
   "outputs": [],
   "source": []
  }
 ],
 "metadata": {
  "kernelspec": {
   "display_name": "TDT4310",
   "language": "python",
   "name": "python3"
  },
  "language_info": {
   "codemirror_mode": {
    "name": "ipython",
    "version": 3
   },
   "file_extension": ".py",
   "mimetype": "text/x-python",
   "name": "python",
   "nbconvert_exporter": "python",
   "pygments_lexer": "ipython3",
   "version": "3.12.2"
  }
 },
 "nbformat": 4,
 "nbformat_minor": 2
}
