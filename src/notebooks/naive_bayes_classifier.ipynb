{
 "cells": [
  {
   "cell_type": "code",
   "execution_count": 521,
   "metadata": {},
   "outputs": [],
   "source": [
    "from sklearn.naive_bayes import MultinomialNB\n",
    "from sklearn.feature_extraction.text import TfidfVectorizer,CountVectorizer\n",
    "from sklearn.metrics import confusion_matrix\n",
    "from sklearn.model_selection import train_test_split\n",
    "import seaborn as sns\n",
    "\n",
    "import pandas as pd\n",
    "import numpy as np"
   ]
  },
  {
   "cell_type": "code",
   "execution_count": 522,
   "metadata": {},
   "outputs": [
    {
     "name": "stdout",
     "output_type": "stream",
     "text": [
      "(3048, 4)\n"
     ]
    },
    {
     "data": {
      "text/html": [
       "<div>\n",
       "<style scoped>\n",
       "    .dataframe tbody tr th:only-of-type {\n",
       "        vertical-align: middle;\n",
       "    }\n",
       "\n",
       "    .dataframe tbody tr th {\n",
       "        vertical-align: top;\n",
       "    }\n",
       "\n",
       "    .dataframe thead th {\n",
       "        text-align: right;\n",
       "    }\n",
       "</style>\n",
       "<table border=\"1\" class=\"dataframe\">\n",
       "  <thead>\n",
       "    <tr style=\"text-align: right;\">\n",
       "      <th></th>\n",
       "      <th>actor</th>\n",
       "      <th>text</th>\n",
       "      <th>date</th>\n",
       "      <th>label</th>\n",
       "    </tr>\n",
       "  </thead>\n",
       "  <tbody>\n",
       "    <tr>\n",
       "      <th>300</th>\n",
       "      <td>Besteforeldrenes klimaaksjon</td>\n",
       "      <td>Ad c: BKA ønsker å understreke at når det gjel...</td>\n",
       "      <td>29.01.2024</td>\n",
       "      <td>Frivillig organisasjon</td>\n",
       "    </tr>\n",
       "    <tr>\n",
       "      <th>301</th>\n",
       "      <td>Besteforeldrenes klimaaksjon</td>\n",
       "      <td>...arealpolitikken må begrense tap av natur og...</td>\n",
       "      <td>29.01.2024</td>\n",
       "      <td>Frivillig organisasjon</td>\n",
       "    </tr>\n",
       "    <tr>\n",
       "      <th>302</th>\n",
       "      <td>Besteforeldrenes klimaaksjon</td>\n",
       "      <td>a. nedbygging av naturlige arealer begrenses v...</td>\n",
       "      <td>29.01.2024</td>\n",
       "      <td>Frivillig organisasjon</td>\n",
       "    </tr>\n",
       "    <tr>\n",
       "      <th>303</th>\n",
       "      <td>Besteforeldrenes klimaaksjon</td>\n",
       "      <td>b. det nasjonale vernet av økosystemer økes.</td>\n",
       "      <td>29.01.2024</td>\n",
       "      <td>Frivillig organisasjon</td>\n",
       "    </tr>\n",
       "    <tr>\n",
       "      <th>304</th>\n",
       "      <td>Besteforeldrenes klimaaksjon</td>\n",
       "      <td>c. det utvikles bindende, helhetlige planer fo...</td>\n",
       "      <td>29.01.2024</td>\n",
       "      <td>Frivillig organisasjon</td>\n",
       "    </tr>\n",
       "    <tr>\n",
       "      <th>...</th>\n",
       "      <td>...</td>\n",
       "      <td>...</td>\n",
       "      <td>...</td>\n",
       "      <td>...</td>\n",
       "    </tr>\n",
       "    <tr>\n",
       "      <th>3043</th>\n",
       "      <td>ZERO</td>\n",
       "      <td>Zero støtter utvalgets syn på viktigheten av å...</td>\n",
       "      <td>23.02.2024</td>\n",
       "      <td>Frivillig organisasjon</td>\n",
       "    </tr>\n",
       "    <tr>\n",
       "      <th>3044</th>\n",
       "      <td>ZERO</td>\n",
       "      <td>Det finnes også andre måter å minimere eller e...</td>\n",
       "      <td>23.02.2024</td>\n",
       "      <td>Frivillig organisasjon</td>\n",
       "    </tr>\n",
       "    <tr>\n",
       "      <th>3045</th>\n",
       "      <td>ZERO</td>\n",
       "      <td>Samtidig er det viktig å både holde fast på kl...</td>\n",
       "      <td>23.02.2024</td>\n",
       "      <td>Frivillig organisasjon</td>\n",
       "    </tr>\n",
       "    <tr>\n",
       "      <th>3046</th>\n",
       "      <td>ZERO</td>\n",
       "      <td>Alle prosjekter som skal inn i NTP må kunne re...</td>\n",
       "      <td>23.02.2024</td>\n",
       "      <td>Frivillig organisasjon</td>\n",
       "    </tr>\n",
       "    <tr>\n",
       "      <th>3047</th>\n",
       "      <td>ZERO</td>\n",
       "      <td>Vi bør også få på plass et totalt utslippsbuds...</td>\n",
       "      <td>23.02.2024</td>\n",
       "      <td>Frivillig organisasjon</td>\n",
       "    </tr>\n",
       "  </tbody>\n",
       "</table>\n",
       "<p>2748 rows × 4 columns</p>\n",
       "</div>"
      ],
      "text/plain": [
       "                             actor  \\\n",
       "300   Besteforeldrenes klimaaksjon   \n",
       "301   Besteforeldrenes klimaaksjon   \n",
       "302   Besteforeldrenes klimaaksjon   \n",
       "303   Besteforeldrenes klimaaksjon   \n",
       "304   Besteforeldrenes klimaaksjon   \n",
       "...                            ...   \n",
       "3043                          ZERO   \n",
       "3044                          ZERO   \n",
       "3045                          ZERO   \n",
       "3046                          ZERO   \n",
       "3047                          ZERO   \n",
       "\n",
       "                                                   text        date  \\\n",
       "300   Ad c: BKA ønsker å understreke at når det gjel...  29.01.2024   \n",
       "301   ...arealpolitikken må begrense tap av natur og...  29.01.2024   \n",
       "302   a. nedbygging av naturlige arealer begrenses v...  29.01.2024   \n",
       "303        b. det nasjonale vernet av økosystemer økes.  29.01.2024   \n",
       "304   c. det utvikles bindende, helhetlige planer fo...  29.01.2024   \n",
       "...                                                 ...         ...   \n",
       "3043  Zero støtter utvalgets syn på viktigheten av å...  23.02.2024   \n",
       "3044  Det finnes også andre måter å minimere eller e...  23.02.2024   \n",
       "3045  Samtidig er det viktig å både holde fast på kl...  23.02.2024   \n",
       "3046  Alle prosjekter som skal inn i NTP må kunne re...  23.02.2024   \n",
       "3047  Vi bør også få på plass et totalt utslippsbuds...  23.02.2024   \n",
       "\n",
       "                       label  \n",
       "300   Frivillig organisasjon  \n",
       "301   Frivillig organisasjon  \n",
       "302   Frivillig organisasjon  \n",
       "303   Frivillig organisasjon  \n",
       "304   Frivillig organisasjon  \n",
       "...                      ...  \n",
       "3043  Frivillig organisasjon  \n",
       "3044  Frivillig organisasjon  \n",
       "3045  Frivillig organisasjon  \n",
       "3046  Frivillig organisasjon  \n",
       "3047  Frivillig organisasjon  \n",
       "\n",
       "[2748 rows x 4 columns]"
      ]
     },
     "execution_count": 522,
     "metadata": {},
     "output_type": "execute_result"
    }
   ],
   "source": [
    "df = pd.read_csv('../../dataset/nou_hearings.csv')\n",
    "df"
   ]
  },
  {
   "cell_type": "code",
   "execution_count": 523,
   "metadata": {},
   "outputs": [
    {
     "data": {
      "text/plain": [
       "array(['Interessegruppe', 'Offentlig forvaltning', 'Bedrift',\n",
       "       'Privatperson', 'Politisk parti', 'Frivillig organisasjon',\n",
       "       'Akademisk institusjon'], dtype=object)"
      ]
     },
     "execution_count": 523,
     "metadata": {},
     "output_type": "execute_result"
    }
   ],
   "source": [
    "df[\"label\"].unique()"
   ]
  },
  {
   "cell_type": "code",
   "execution_count": 524,
   "metadata": {},
   "outputs": [],
   "source": [
    "def accuracy(y_true, y_pred):\n",
    "    return np.mean(y_true == y_pred)"
   ]
  },
  {
   "cell_type": "code",
   "execution_count": 525,
   "metadata": {},
   "outputs": [],
   "source": [
    "vector = TfidfVectorizer()\n",
    "\n",
    "X = vector.fit_transform(df[\"text\"])\n",
    "y = df[\"label\"].to_numpy()\n",
    "\n",
    "# Convert labels to numbers\n",
    "id2label = {i: label for i, label in enumerate(set(y))}\n",
    "label2id = {label: i for i, label in id2label.items()}\n",
    "\n",
    "y = np.array([label2id[label] for label in y])\n",
    "\n",
    "X_train, X_test, y_train, y_test = train_test_split(X, y, test_size=0.2, random_state=42)"
   ]
  },
  {
   "cell_type": "code",
   "execution_count": 526,
   "metadata": {},
   "outputs": [
    {
     "name": "stdout",
     "output_type": "stream",
     "text": [
      "0.33570814297231927\n"
     ]
    }
   ],
   "source": [
    "mnb = MultinomialNB()\n",
    "\n",
    "model = mnb.fit(X_train, y_train)\n",
    "\n",
    "y_pred = model.predict(X_test)\n",
    "y_pred = np.array(y_pred)\n",
    "y_pred = y_pred.reshape(-1, 1)\n",
    "print(accuracy(y_test, y_pred))\n"
   ]
  },
  {
   "cell_type": "code",
   "execution_count": 527,
   "metadata": {},
   "outputs": [
    {
     "data": {
      "text/plain": [
       "<AxesSubplot:>"
      ]
     },
     "execution_count": 527,
     "metadata": {},
     "output_type": "execute_result"
    },
    {
     "data": {
      "image/png": "[encoded data removed]",
      "text/plain": [
       "<Figure size 432x288 with 2 Axes>"
      ]
     },
     "metadata": {
      "needs_background": "light"
     },
     "output_type": "display_data"
    }
   ],
   "source": [
    "# Convert ids to labels\n",
    "def ids_to_labels(y, id2label):\n",
    "\n",
    "    labels = [id2label[i] for i in np.array(y)]\n",
    "\n",
    "    return labels\n",
    "\n",
    "y_test = ids_to_labels(y_test, id2label)\n",
    "# Flatten list\n",
    "y_pred = y_pred.flatten()\n",
    "\n",
    "y_pred = ids_to_labels(y_pred, id2label)\n",
    "\n",
    "labels = list(id2label.values())\n",
    "\n",
    "# Confusion matrix\n",
    "conf_mat = confusion_matrix(y_test, y_pred)\n",
    "\n",
    "sns.heatmap(conf_mat, annot=True, fmt='', cmap='Blues', xticklabels=labels, yticklabels=labels)"
   ]
  },
  {
   "cell_type": "markdown",
   "metadata": {},
   "source": [
    "### Countvectorizer"
   ]
  },
  {
   "cell_type": "code",
   "execution_count": 528,
   "metadata": {},
   "outputs": [
    {
     "name": "stdout",
     "output_type": "stream",
     "text": [
      "0.25608438591776406\n"
     ]
    },
    {
     "data": {
      "text/plain": [
       "<AxesSubplot:>"
      ]
     },
     "execution_count": 528,
     "metadata": {},
     "output_type": "execute_result"
    },
    {
     "data": {
      "image/png": "[encoded data removed]",
      "text/plain": [
       "<Figure size 432x288 with 2 Axes>"
      ]
     },
     "metadata": {
      "needs_background": "light"
     },
     "output_type": "display_data"
    }
   ],
   "source": [
    "vector = CountVectorizer()\n",
    "\n",
    "X = vector.fit_transform(df[\"text\"])\n",
    "y = df[\"label\"].to_numpy()\n",
    "\n",
    "# Convert labels to numbers\n",
    "id2label = {i: label for i, label in enumerate(set(y))}\n",
    "label2id = {label: i for i, label in id2label.items()}\n",
    "\n",
    "y = np.array([label2id[label] for label in y])\n",
    "\n",
    "X_train, X_test, y_train, y_test = train_test_split(X, y, test_size=0.2, random_state=42)\n",
    "\n",
    "\n",
    "mnb = MultinomialNB()\n",
    "\n",
    "model = mnb.fit(X_train, y_train)\n",
    "\n",
    "y_pred = model.predict(X_test)\n",
    "y_pred = np.array(y_pred)\n",
    "y_pred = y_pred.reshape(-1, 1)\n",
    "print(accuracy(y_test, y_pred))\n",
    "\n",
    "# Convert ids to labels\n",
    "def ids_to_labels(y, id2label):\n",
    "\n",
    "    labels = [id2label[i] for i in np.array(y)]\n",
    "\n",
    "    return labels\n",
    "\n",
    "y_test = ids_to_labels(y_test, id2label)\n",
    "# Flatten list\n",
    "y_pred = y_pred.flatten()\n",
    "\n",
    "y_pred = ids_to_labels(y_pred, id2label)\n",
    "\n",
    "labels = list(id2label.values())\n",
    "\n",
    "# Confusion matrix\n",
    "conf_mat = confusion_matrix(y_test, y_pred)\n",
    "\n",
    "sns.heatmap(conf_mat, annot=True, fmt='', cmap='Blues', xticklabels=labels, yticklabels=labels)"
   ]
  },
  {
   "cell_type": "markdown",
   "metadata": {},
   "source": [
    "## Binary classifier MNB"
   ]
  },
  {
   "cell_type": "markdown",
   "metadata": {},
   "source": [
    "## MNB binary classifier with count vectorizer"
   ]
  },
  {
   "cell_type": "code",
   "execution_count": 529,
   "metadata": {},
   "outputs": [
    {
     "name": "stdout",
     "output_type": "stream",
     "text": [
      "[2 4 4 ... 4 4 6]\n"
     ]
    }
   ],
   "source": [
    "vector = CountVectorizer()\n",
    "\n",
    "X = vector.fit_transform(df[\"text\"])\n",
    "y = df[\"label\"].to_numpy()\n",
    "\n",
    "# Convert labels to numbers\n",
    "id2label = {i: label for i, label in enumerate(np.unique(y))}\n",
    "label2id = {label: i for i, label in id2label.items()}\n",
    "\n",
    "y = np.array([label2id[label] for label in y])\n",
    "\n",
    "X_train, X_test, y_train, y_test = train_test_split(X, y, test_size=0.2, random_state=42)\n",
    "print(y_train)"
   ]
  },
  {
   "cell_type": "code",
   "execution_count": 530,
   "metadata": {},
   "outputs": [
    {
     "name": "stdout",
     "output_type": "stream",
     "text": [
      "['Interessegruppe' 'Interessegruppe' 'Interessegruppe' ...\n",
      " 'Frivillig organisasjon' 'Frivillig organisasjon'\n",
      " 'Frivillig organisasjon']\n"
     ]
    }
   ],
   "source": [
    "# Try with a binary classifier\n",
    "vector = TfidfVectorizer()\n",
    "\n",
    "X = vector.fit_transform(df[\"text\"])\n",
    "y = df[\"label\"].to_numpy()\n",
    "print(y)\n",
    "\n",
    "# Convert labels to numbers\n",
    "id2label = {i: label for i, label in enumerate(np.unique(y))}\n",
    "label2id = {label: i for i, label in id2label.items()}\n",
    "\n",
    "\n",
    "y = np.array([label2id[label] for label in y])\n",
    "\n",
    "# Remove set all labels that are not 3 (Interessegruppe) to 0\n",
    "y = np.where(y == 5, 1, 0)\n",
    "\n",
    "X_train, X_test, y_train, y_test = train_test_split(X, y, test_size=0.4, random_state=42)"
   ]
  },
  {
   "cell_type": "code",
   "execution_count": 531,
   "metadata": {},
   "outputs": [
    {
     "name": "stdout",
     "output_type": "stream",
     "text": [
      "0.9385245901639344\n"
     ]
    }
   ],
   "source": [
    "mnb = MultinomialNB()\n",
    "\n",
    "model = mnb.fit(X_train, y_train)\n",
    "\n",
    "y_pred = model.predict(X_test)\n",
    "y_pred = y_pred.reshape(-1, 1)\n",
    "\n",
    "print(accuracy(y_test, y_pred))"
   ]
  },
  {
   "cell_type": "code",
   "execution_count": 532,
   "metadata": {},
   "outputs": [
    {
     "data": {
      "text/plain": [
       "<AxesSubplot:>"
      ]
     },
     "execution_count": 532,
     "metadata": {},
     "output_type": "execute_result"
    },
    {
     "data": {
      "image/png": "[encoded data removed]",
      "text/plain": [
       "<Figure size 432x288 with 2 Axes>"
      ]
     },
     "metadata": {
      "needs_background": "light"
     },
     "output_type": "display_data"
    }
   ],
   "source": [
    "# Confusion matrix\n",
    "conf_mat = confusion_matrix(y_test, y_pred)\n",
    "sns.heatmap(conf_mat, annot=True, fmt='d', cmap='Blues', xticklabels=['Not Interessegruppe', 'Interessegruppe'], yticklabels=['Not Interessegruppe', 'Interessegruppe'])\n"
   ]
  },
  {
   "cell_type": "markdown",
   "metadata": {},
   "source": [
    "### Binary classifer with CountVectorizer\n"
   ]
  },
  {
   "cell_type": "code",
   "execution_count": 533,
   "metadata": {},
   "outputs": [
    {
     "name": "stdout",
     "output_type": "stream",
     "text": [
      "['Interessegruppe' 'Interessegruppe' 'Interessegruppe' ...\n",
      " 'Frivillig organisasjon' 'Frivillig organisasjon'\n",
      " 'Frivillig organisasjon']\n",
      "{'Akademisk institusjon': 0, 'Bedrift': 1, 'Frivillig organisasjon': 2, 'Interessegruppe': 3, 'Offentlig forvaltning': 4, 'Politisk parti': 5, 'Privatperson': 6}\n"
     ]
    }
   ],
   "source": [
    "# Try with a binary classifier\n",
    "vector = CountVectorizer()\n",
    "\n",
    "X = vector.fit_transform(df[\"text\"])\n",
    "y = df[\"label\"].to_numpy()\n",
    "print(y)\n",
    "\n",
    "# Convert labels to numbers\n",
    "id2label = {i: label for i, label in enumerate(np.unique(y))}\n",
    "label2id = {label: i for i, label in id2label.items()}\n",
    "\n",
    "print(label2id)\n",
    "\n",
    "y = np.array([label2id[label] for label in y])\n",
    "\n",
    "# Remove set all labels that are not 3 (Interessegruppe) to 0\n",
    "y = np.where(y == 3, 1, 0)\n",
    "\n",
    "X_train, X_test, y_train, y_test = train_test_split(X, y, test_size=0.4, random_state=42)"
   ]
  },
  {
   "cell_type": "code",
   "execution_count": 534,
   "metadata": {},
   "outputs": [
    {
     "name": "stdout",
     "output_type": "stream",
     "text": [
      "0.57529427573233\n"
     ]
    }
   ],
   "source": [
    "mnb = MultinomialNB()\n",
    "\n",
    "model = mnb.fit(X_train, y_train)\n",
    "\n",
    "y_pred = model.predict(X_test)\n",
    "y_pred = y_pred.reshape(-1, 1)\n",
    "\n",
    "print(accuracy(y_test, y_pred))"
   ]
  },
  {
   "cell_type": "code",
   "execution_count": 535,
   "metadata": {},
   "outputs": [
    {
     "data": {
      "text/plain": [
       "<AxesSubplot:>"
      ]
     },
     "execution_count": 535,
     "metadata": {},
     "output_type": "execute_result"
    },
    {
     "data": {
      "image/png": "[encoded data removed]",
      "text/plain": [
       "<Figure size 432x288 with 2 Axes>"
      ]
     },
     "metadata": {
      "needs_background": "light"
     },
     "output_type": "display_data"
    }
   ],
   "source": [
    "# Confusion matrix\n",
    "conf_mat = confusion_matrix(y_test, y_pred)\n",
    "sns.heatmap(conf_mat, annot=True, fmt='d', cmap='Blues', xticklabels=['Not Interessegruppe', 'Interessegruppe'], yticklabels=['Not Interessegruppe', 'Interessegruppe'])"
   ]
  }
 ],
 "metadata": {
  "kernelspec": {
   "display_name": "TDT4310",
   "language": "python",
   "name": "python3"
  },
  "language_info": {
   "codemirror_mode": {
    "name": "ipython",
    "version": 3
   },
   "file_extension": ".py",
   "mimetype": "text/x-python",
   "name": "python",
   "nbconvert_exporter": "python",
   "pygments_lexer": "ipython3",
   "version": "3.12.2"
  }
 },
 "nbformat": 4,
 "nbformat_minor": 2
}
