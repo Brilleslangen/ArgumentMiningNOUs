{
 "cells": [
  {
   "cell_type": "code",
   "execution_count": 178,
   "metadata": {},
   "outputs": [],
   "source": [
    "from sklearn.naive_bayes import MultinomialNB\n",
    "from sklearn.feature_extraction.text import TfidfVectorizer,CountVectorizer\n",
    "from sklearn.metrics import confusion_matrix\n",
    "from sklearn.model_selection import train_test_split\n",
    "import seaborn as sns\n",
    "\n",
    "import pandas as pd\n",
    "import numpy as np"
   ]
  },
  {
   "cell_type": "code",
   "execution_count": 179,
   "metadata": {},
   "outputs": [
    {
     "name": "stdout",
     "output_type": "stream",
     "text": [
      "(3048, 4)\n"
     ]
    },
    {
     "data": {
      "text/html": [
       "<div>\n",
       "<style scoped>\n",
       "    .dataframe tbody tr th:only-of-type {\n",
       "        vertical-align: middle;\n",
       "    }\n",
       "\n",
       "    .dataframe tbody tr th {\n",
       "        vertical-align: top;\n",
       "    }\n",
       "\n",
       "    .dataframe thead th {\n",
       "        text-align: right;\n",
       "    }\n",
       "</style>\n",
       "<table border=\"1\" class=\"dataframe\">\n",
       "  <thead>\n",
       "    <tr style=\"text-align: right;\">\n",
       "      <th></th>\n",
       "      <th>actor</th>\n",
       "      <th>text</th>\n",
       "      <th>date</th>\n",
       "      <th>label</th>\n",
       "    </tr>\n",
       "  </thead>\n",
       "  <tbody>\n",
       "    <tr>\n",
       "      <th>300</th>\n",
       "      <td>Besteforeldrenes klimaaksjon</td>\n",
       "      <td>Ad c: BKA ønsker å understreke at når det gjel...</td>\n",
       "      <td>29.01.2024</td>\n",
       "      <td>Frivillig organisasjon</td>\n",
       "    </tr>\n",
       "    <tr>\n",
       "      <th>301</th>\n",
       "      <td>Besteforeldrenes klimaaksjon</td>\n",
       "      <td>...arealpolitikken må begrense tap av natur og...</td>\n",
       "      <td>29.01.2024</td>\n",
       "      <td>Frivillig organisasjon</td>\n",
       "    </tr>\n",
       "    <tr>\n",
       "      <th>302</th>\n",
       "      <td>Besteforeldrenes klimaaksjon</td>\n",
       "      <td>a. nedbygging av naturlige arealer begrenses v...</td>\n",
       "      <td>29.01.2024</td>\n",
       "      <td>Frivillig organisasjon</td>\n",
       "    </tr>\n",
       "    <tr>\n",
       "      <th>303</th>\n",
       "      <td>Besteforeldrenes klimaaksjon</td>\n",
       "      <td>b. det nasjonale vernet av økosystemer økes.</td>\n",
       "      <td>29.01.2024</td>\n",
       "      <td>Frivillig organisasjon</td>\n",
       "    </tr>\n",
       "    <tr>\n",
       "      <th>304</th>\n",
       "      <td>Besteforeldrenes klimaaksjon</td>\n",
       "      <td>c. det utvikles bindende, helhetlige planer fo...</td>\n",
       "      <td>29.01.2024</td>\n",
       "      <td>Frivillig organisasjon</td>\n",
       "    </tr>\n",
       "    <tr>\n",
       "      <th>...</th>\n",
       "      <td>...</td>\n",
       "      <td>...</td>\n",
       "      <td>...</td>\n",
       "      <td>...</td>\n",
       "    </tr>\n",
       "    <tr>\n",
       "      <th>3043</th>\n",
       "      <td>ZERO</td>\n",
       "      <td>Zero støtter utvalgets syn på viktigheten av å...</td>\n",
       "      <td>23.02.2024</td>\n",
       "      <td>Frivillig organisasjon</td>\n",
       "    </tr>\n",
       "    <tr>\n",
       "      <th>3044</th>\n",
       "      <td>ZERO</td>\n",
       "      <td>Det finnes også andre måter å minimere eller e...</td>\n",
       "      <td>23.02.2024</td>\n",
       "      <td>Frivillig organisasjon</td>\n",
       "    </tr>\n",
       "    <tr>\n",
       "      <th>3045</th>\n",
       "      <td>ZERO</td>\n",
       "      <td>Samtidig er det viktig å både holde fast på kl...</td>\n",
       "      <td>23.02.2024</td>\n",
       "      <td>Frivillig organisasjon</td>\n",
       "    </tr>\n",
       "    <tr>\n",
       "      <th>3046</th>\n",
       "      <td>ZERO</td>\n",
       "      <td>Alle prosjekter som skal inn i NTP må kunne re...</td>\n",
       "      <td>23.02.2024</td>\n",
       "      <td>Frivillig organisasjon</td>\n",
       "    </tr>\n",
       "    <tr>\n",
       "      <th>3047</th>\n",
       "      <td>ZERO</td>\n",
       "      <td>Vi bør også få på plass et totalt utslippsbuds...</td>\n",
       "      <td>23.02.2024</td>\n",
       "      <td>Frivillig organisasjon</td>\n",
       "    </tr>\n",
       "  </tbody>\n",
       "</table>\n",
       "<p>2748 rows × 4 columns</p>\n",
       "</div>"
      ],
      "text/plain": [
       "                             actor  \\\n",
       "300   Besteforeldrenes klimaaksjon   \n",
       "301   Besteforeldrenes klimaaksjon   \n",
       "302   Besteforeldrenes klimaaksjon   \n",
       "303   Besteforeldrenes klimaaksjon   \n",
       "304   Besteforeldrenes klimaaksjon   \n",
       "...                            ...   \n",
       "3043                          ZERO   \n",
       "3044                          ZERO   \n",
       "3045                          ZERO   \n",
       "3046                          ZERO   \n",
       "3047                          ZERO   \n",
       "\n",
       "                                                   text        date  \\\n",
       "300   Ad c: BKA ønsker å understreke at når det gjel...  29.01.2024   \n",
       "301   ...arealpolitikken må begrense tap av natur og...  29.01.2024   \n",
       "302   a. nedbygging av naturlige arealer begrenses v...  29.01.2024   \n",
       "303        b. det nasjonale vernet av økosystemer økes.  29.01.2024   \n",
       "304   c. det utvikles bindende, helhetlige planer fo...  29.01.2024   \n",
       "...                                                 ...         ...   \n",
       "3043  Zero støtter utvalgets syn på viktigheten av å...  23.02.2024   \n",
       "3044  Det finnes også andre måter å minimere eller e...  23.02.2024   \n",
       "3045  Samtidig er det viktig å både holde fast på kl...  23.02.2024   \n",
       "3046  Alle prosjekter som skal inn i NTP må kunne re...  23.02.2024   \n",
       "3047  Vi bør også få på plass et totalt utslippsbuds...  23.02.2024   \n",
       "\n",
       "                       label  \n",
       "300   Frivillig organisasjon  \n",
       "301   Frivillig organisasjon  \n",
       "302   Frivillig organisasjon  \n",
       "303   Frivillig organisasjon  \n",
       "304   Frivillig organisasjon  \n",
       "...                      ...  \n",
       "3043  Frivillig organisasjon  \n",
       "3044  Frivillig organisasjon  \n",
       "3045  Frivillig organisasjon  \n",
       "3046  Frivillig organisasjon  \n",
       "3047  Frivillig organisasjon  \n",
       "\n",
       "[2748 rows x 4 columns]"
      ]
     },
     "execution_count": 179,
     "metadata": {},
     "output_type": "execute_result"
    }
   ],
   "source": [
    "df = pd.read_csv('../../dataset/nou_hearings.csv')\n",
    "print(df.shape)\n",
    "# Drop rows with empty lists\n",
    "df.loc[300:]"
   ]
  },
  {
   "cell_type": "code",
   "execution_count": 180,
   "metadata": {},
   "outputs": [
    {
     "data": {
      "text/plain": [
       "array(['Interessegruppe', 'Offentlig forvaltning', 'Bedrift',\n",
       "       'Privatperson', 'Politisk parti', 'Frivillig organisasjon',\n",
       "       'Akademisk institusjon'], dtype=object)"
      ]
     },
     "execution_count": 180,
     "metadata": {},
     "output_type": "execute_result"
    }
   ],
   "source": [
    "df[\"label\"].unique()"
   ]
  },
  {
   "cell_type": "code",
   "execution_count": 181,
   "metadata": {},
   "outputs": [],
   "source": [
    "def accuracy(y_true, y_pred):\n",
    "    return np.mean(y_true == y_pred)"
   ]
  },
  {
   "cell_type": "code",
   "execution_count": 182,
   "metadata": {},
   "outputs": [
    {
     "name": "stdout",
     "output_type": "stream",
     "text": [
      "['Interessegruppe' 'Interessegruppe' 'Interessegruppe' ...\n",
      " 'Frivillig organisasjon' 'Frivillig organisasjon'\n",
      " 'Frivillig organisasjon']\n",
      "[4 2 2 ... 2 2 5]\n"
     ]
    }
   ],
   "source": [
    "vector = TfidfVectorizer()\n",
    "\n",
    "X = vector.fit_transform(df[\"text\"])\n",
    "y = df[\"label\"].to_numpy()\n",
    "print(y)\n",
    "\n",
    "# Convert labels to numbers\n",
    "id2label = {i: label for i, label in enumerate(set(y))}\n",
    "label2id = {label: i for i, label in id2label.items()}\n",
    "\n",
    "y = np.array([label2id[label] for label in y])\n",
    "\n",
    "X_train, X_test, y_train, y_test = train_test_split(X, y, test_size=0.2, random_state=42)\n",
    "print(y_train)"
   ]
  },
  {
   "cell_type": "code",
   "execution_count": 183,
   "metadata": {},
   "outputs": [
    {
     "name": "stdout",
     "output_type": "stream",
     "text": [
      "0.34911582907820476\n"
     ]
    }
   ],
   "source": [
    "mnb = MultinomialNB()\n",
    "\n",
    "model = mnb.fit(X_train, y_train)\n",
    "\n",
    "y_pred = model.predict(X_test)\n",
    "y_pred = np.array(y_pred)\n",
    "y_pred = y_pred.reshape(-1, 1)\n",
    "print(accuracy(y_test, y_pred))\n"
   ]
  },
  {
   "cell_type": "code",
   "execution_count": 184,
   "metadata": {},
   "outputs": [
    {
     "name": "stdout",
     "output_type": "stream",
     "text": [
      "['Interessegruppe', 'Bedrift', 'Privatperson', 'Frivillig organisasjon', 'Bedrift', 'Offentlig forvaltning', 'Interessegruppe', 'Offentlig forvaltning', 'Interessegruppe', 'Offentlig forvaltning', 'Bedrift', 'Interessegruppe', 'Interessegruppe', 'Privatperson', 'Frivillig organisasjon', 'Bedrift', 'Privatperson', 'Bedrift', 'Privatperson', 'Interessegruppe', 'Offentlig forvaltning', 'Bedrift', 'Interessegruppe', 'Bedrift', 'Offentlig forvaltning', 'Interessegruppe', 'Politisk parti', 'Bedrift', 'Frivillig organisasjon', 'Bedrift', 'Privatperson', 'Offentlig forvaltning', 'Politisk parti', 'Bedrift', 'Interessegruppe', 'Interessegruppe', 'Privatperson', 'Frivillig organisasjon', 'Bedrift', 'Interessegruppe', 'Interessegruppe', 'Interessegruppe', 'Privatperson', 'Offentlig forvaltning', 'Bedrift', 'Bedrift', 'Bedrift', 'Frivillig organisasjon', 'Interessegruppe', 'Interessegruppe', 'Bedrift', 'Offentlig forvaltning', 'Offentlig forvaltning', 'Interessegruppe', 'Privatperson', 'Offentlig forvaltning', 'Privatperson', 'Interessegruppe', 'Privatperson', 'Frivillig organisasjon', 'Interessegruppe', 'Bedrift', 'Offentlig forvaltning', 'Politisk parti', 'Frivillig organisasjon', 'Frivillig organisasjon', 'Interessegruppe', 'Interessegruppe', 'Interessegruppe', 'Privatperson', 'Politisk parti', 'Interessegruppe', 'Interessegruppe', 'Frivillig organisasjon', 'Interessegruppe', 'Offentlig forvaltning', 'Interessegruppe', 'Frivillig organisasjon', 'Bedrift', 'Frivillig organisasjon', 'Offentlig forvaltning', 'Frivillig organisasjon', 'Bedrift', 'Interessegruppe', 'Interessegruppe', 'Interessegruppe', 'Offentlig forvaltning', 'Interessegruppe', 'Interessegruppe', 'Politisk parti', 'Interessegruppe', 'Bedrift', 'Interessegruppe', 'Interessegruppe', 'Interessegruppe', 'Offentlig forvaltning', 'Interessegruppe', 'Frivillig organisasjon', 'Politisk parti', 'Bedrift', 'Interessegruppe', 'Privatperson', 'Frivillig organisasjon', 'Politisk parti', 'Offentlig forvaltning', 'Bedrift', 'Interessegruppe', 'Offentlig forvaltning', 'Interessegruppe', 'Frivillig organisasjon', 'Privatperson', 'Interessegruppe', 'Interessegruppe', 'Bedrift', 'Interessegruppe', 'Offentlig forvaltning', 'Frivillig organisasjon', 'Bedrift', 'Politisk parti', 'Interessegruppe', 'Frivillig organisasjon', 'Interessegruppe', 'Interessegruppe', 'Offentlig forvaltning', 'Interessegruppe', 'Bedrift', 'Privatperson', 'Offentlig forvaltning', 'Politisk parti', 'Interessegruppe', 'Interessegruppe', 'Offentlig forvaltning', 'Interessegruppe', 'Offentlig forvaltning', 'Offentlig forvaltning', 'Privatperson', 'Bedrift', 'Interessegruppe', 'Offentlig forvaltning', 'Interessegruppe', 'Interessegruppe', 'Interessegruppe', 'Interessegruppe', 'Interessegruppe', 'Interessegruppe', 'Offentlig forvaltning', 'Privatperson', 'Bedrift', 'Privatperson', 'Offentlig forvaltning', 'Offentlig forvaltning', 'Offentlig forvaltning', 'Interessegruppe', 'Offentlig forvaltning', 'Bedrift', 'Bedrift', 'Interessegruppe', 'Interessegruppe', 'Interessegruppe', 'Privatperson', 'Frivillig organisasjon', 'Bedrift', 'Interessegruppe', 'Frivillig organisasjon', 'Interessegruppe', 'Offentlig forvaltning', 'Interessegruppe', 'Interessegruppe', 'Privatperson', 'Privatperson', 'Politisk parti', 'Interessegruppe', 'Interessegruppe', 'Bedrift', 'Interessegruppe', 'Privatperson', 'Frivillig organisasjon', 'Frivillig organisasjon', 'Interessegruppe', 'Interessegruppe', 'Frivillig organisasjon', 'Interessegruppe', 'Privatperson', 'Interessegruppe', 'Bedrift', 'Politisk parti', 'Frivillig organisasjon', 'Privatperson', 'Frivillig organisasjon', 'Frivillig organisasjon', 'Frivillig organisasjon', 'Interessegruppe', 'Offentlig forvaltning', 'Offentlig forvaltning', 'Bedrift', 'Interessegruppe', 'Frivillig organisasjon', 'Privatperson', 'Interessegruppe', 'Privatperson', 'Interessegruppe', 'Interessegruppe', 'Bedrift', 'Privatperson', 'Frivillig organisasjon', 'Interessegruppe', 'Interessegruppe', 'Politisk parti', 'Privatperson', 'Bedrift', 'Privatperson', 'Interessegruppe', 'Privatperson', 'Privatperson', 'Interessegruppe', 'Bedrift', 'Interessegruppe', 'Interessegruppe', 'Interessegruppe', 'Interessegruppe', 'Interessegruppe', 'Interessegruppe', 'Offentlig forvaltning', 'Interessegruppe', 'Frivillig organisasjon', 'Bedrift', 'Interessegruppe', 'Politisk parti', 'Interessegruppe', 'Politisk parti', 'Interessegruppe', 'Politisk parti', 'Bedrift', 'Politisk parti', 'Offentlig forvaltning', 'Interessegruppe', 'Offentlig forvaltning', 'Interessegruppe', 'Interessegruppe', 'Frivillig organisasjon', 'Interessegruppe', 'Bedrift', 'Frivillig organisasjon', 'Bedrift', 'Frivillig organisasjon', 'Offentlig forvaltning', 'Interessegruppe', 'Privatperson', 'Privatperson', 'Offentlig forvaltning', 'Bedrift', 'Politisk parti', 'Bedrift', 'Interessegruppe', 'Interessegruppe', 'Interessegruppe', 'Bedrift', 'Offentlig forvaltning', 'Interessegruppe', 'Bedrift', 'Interessegruppe', 'Bedrift', 'Interessegruppe', 'Interessegruppe', 'Offentlig forvaltning', 'Offentlig forvaltning', 'Privatperson', 'Interessegruppe', 'Interessegruppe', 'Offentlig forvaltning', 'Interessegruppe', 'Bedrift', 'Bedrift', 'Offentlig forvaltning', 'Privatperson', 'Privatperson', 'Interessegruppe', 'Privatperson', 'Offentlig forvaltning', 'Interessegruppe', 'Offentlig forvaltning', 'Frivillig organisasjon', 'Bedrift', 'Interessegruppe', 'Bedrift', 'Privatperson', 'Interessegruppe', 'Interessegruppe', 'Privatperson', 'Bedrift', 'Frivillig organisasjon', 'Interessegruppe', 'Offentlig forvaltning', 'Interessegruppe', 'Bedrift', 'Bedrift', 'Privatperson', 'Interessegruppe', 'Offentlig forvaltning', 'Interessegruppe', 'Privatperson', 'Bedrift', 'Interessegruppe', 'Frivillig organisasjon', 'Interessegruppe', 'Privatperson', 'Interessegruppe', 'Interessegruppe', 'Privatperson', 'Interessegruppe', 'Interessegruppe', 'Offentlig forvaltning', 'Frivillig organisasjon', 'Privatperson', 'Frivillig organisasjon', 'Privatperson', 'Interessegruppe', 'Bedrift', 'Interessegruppe', 'Frivillig organisasjon', 'Interessegruppe', 'Bedrift', 'Privatperson', 'Interessegruppe', 'Interessegruppe', 'Bedrift', 'Offentlig forvaltning', 'Offentlig forvaltning', 'Offentlig forvaltning', 'Interessegruppe', 'Politisk parti', 'Interessegruppe', 'Privatperson', 'Offentlig forvaltning', 'Interessegruppe', 'Offentlig forvaltning', 'Interessegruppe', 'Privatperson', 'Offentlig forvaltning', 'Offentlig forvaltning', 'Bedrift', 'Bedrift', 'Interessegruppe', 'Interessegruppe', 'Privatperson', 'Privatperson', 'Interessegruppe', 'Interessegruppe', 'Interessegruppe', 'Frivillig organisasjon', 'Frivillig organisasjon', 'Bedrift', 'Interessegruppe', 'Privatperson', 'Offentlig forvaltning', 'Bedrift', 'Bedrift', 'Interessegruppe', 'Privatperson', 'Interessegruppe', 'Interessegruppe', 'Offentlig forvaltning', 'Interessegruppe', 'Frivillig organisasjon', 'Interessegruppe', 'Bedrift', 'Bedrift', 'Interessegruppe', 'Interessegruppe', 'Offentlig forvaltning', 'Privatperson', 'Frivillig organisasjon', 'Offentlig forvaltning', 'Frivillig organisasjon', 'Interessegruppe', 'Privatperson', 'Bedrift', 'Interessegruppe', 'Offentlig forvaltning', 'Politisk parti', 'Interessegruppe', 'Offentlig forvaltning', 'Interessegruppe', 'Interessegruppe', 'Interessegruppe', 'Frivillig organisasjon', 'Politisk parti', 'Bedrift', 'Interessegruppe', 'Privatperson', 'Offentlig forvaltning', 'Privatperson', 'Interessegruppe', 'Bedrift', 'Bedrift', 'Politisk parti', 'Bedrift', 'Frivillig organisasjon', 'Interessegruppe', 'Interessegruppe', 'Interessegruppe', 'Bedrift', 'Offentlig forvaltning', 'Offentlig forvaltning', 'Politisk parti', 'Offentlig forvaltning', 'Interessegruppe', 'Offentlig forvaltning', 'Interessegruppe', 'Interessegruppe', 'Frivillig organisasjon', 'Interessegruppe', 'Interessegruppe', 'Bedrift', 'Bedrift', 'Bedrift', 'Privatperson', 'Privatperson', 'Frivillig organisasjon', 'Interessegruppe', 'Privatperson', 'Offentlig forvaltning', 'Privatperson', 'Offentlig forvaltning', 'Bedrift', 'Bedrift', 'Frivillig organisasjon', 'Privatperson', 'Interessegruppe', 'Frivillig organisasjon', 'Offentlig forvaltning', 'Offentlig forvaltning', 'Bedrift', 'Offentlig forvaltning', 'Interessegruppe', 'Offentlig forvaltning', 'Bedrift', 'Bedrift', 'Interessegruppe', 'Offentlig forvaltning', 'Bedrift', 'Interessegruppe', 'Offentlig forvaltning', 'Offentlig forvaltning', 'Bedrift', 'Interessegruppe', 'Privatperson', 'Frivillig organisasjon', 'Offentlig forvaltning', 'Offentlig forvaltning', 'Interessegruppe', 'Interessegruppe', 'Interessegruppe', 'Interessegruppe', 'Bedrift', 'Interessegruppe', 'Bedrift', 'Interessegruppe', 'Interessegruppe', 'Offentlig forvaltning', 'Frivillig organisasjon', 'Frivillig organisasjon', 'Interessegruppe', 'Interessegruppe', 'Privatperson', 'Frivillig organisasjon', 'Offentlig forvaltning', 'Offentlig forvaltning', 'Offentlig forvaltning', 'Interessegruppe', 'Offentlig forvaltning', 'Offentlig forvaltning', 'Privatperson', 'Interessegruppe', 'Frivillig organisasjon', 'Offentlig forvaltning', 'Privatperson', 'Politisk parti', 'Politisk parti', 'Politisk parti', 'Offentlig forvaltning', 'Bedrift', 'Interessegruppe', 'Frivillig organisasjon', 'Bedrift', 'Interessegruppe', 'Bedrift', 'Privatperson', 'Privatperson', 'Frivillig organisasjon', 'Bedrift', 'Offentlig forvaltning', 'Interessegruppe', 'Bedrift', 'Interessegruppe', 'Privatperson', 'Frivillig organisasjon', 'Offentlig forvaltning', 'Politisk parti', 'Interessegruppe', 'Offentlig forvaltning', 'Interessegruppe', 'Interessegruppe', 'Bedrift', 'Bedrift', 'Offentlig forvaltning', 'Offentlig forvaltning', 'Offentlig forvaltning', 'Offentlig forvaltning', 'Bedrift', 'Interessegruppe', 'Privatperson', 'Interessegruppe', 'Interessegruppe', 'Privatperson', 'Offentlig forvaltning', 'Frivillig organisasjon', 'Interessegruppe', 'Privatperson', 'Privatperson', 'Privatperson', 'Interessegruppe', 'Interessegruppe', 'Bedrift', 'Frivillig organisasjon', 'Interessegruppe', 'Interessegruppe', 'Bedrift', 'Interessegruppe', 'Bedrift', 'Frivillig organisasjon', 'Interessegruppe', 'Interessegruppe', 'Bedrift', 'Interessegruppe', 'Frivillig organisasjon', 'Offentlig forvaltning', 'Bedrift', 'Interessegruppe', 'Privatperson', 'Privatperson', 'Interessegruppe', 'Interessegruppe', 'Privatperson', 'Bedrift', 'Frivillig organisasjon', 'Interessegruppe', 'Interessegruppe', 'Interessegruppe', 'Interessegruppe', 'Interessegruppe', 'Privatperson', 'Offentlig forvaltning', 'Offentlig forvaltning', 'Offentlig forvaltning', 'Bedrift', 'Offentlig forvaltning', 'Interessegruppe', 'Akademisk institusjon', 'Frivillig organisasjon', 'Bedrift', 'Offentlig forvaltning', 'Interessegruppe', 'Interessegruppe', 'Interessegruppe', 'Interessegruppe', 'Offentlig forvaltning', 'Frivillig organisasjon', 'Offentlig forvaltning', 'Privatperson', 'Offentlig forvaltning', 'Interessegruppe', 'Interessegruppe', 'Interessegruppe', 'Interessegruppe', 'Interessegruppe', 'Politisk parti', 'Interessegruppe', 'Politisk parti', 'Privatperson', 'Politisk parti', 'Interessegruppe', 'Offentlig forvaltning', 'Privatperson', 'Frivillig organisasjon', 'Interessegruppe', 'Offentlig forvaltning', 'Bedrift', 'Interessegruppe', 'Interessegruppe', 'Interessegruppe', 'Offentlig forvaltning', 'Offentlig forvaltning', 'Interessegruppe', 'Interessegruppe', 'Interessegruppe', 'Interessegruppe', 'Offentlig forvaltning', 'Offentlig forvaltning', 'Privatperson', 'Interessegruppe', 'Offentlig forvaltning', 'Bedrift', 'Interessegruppe', 'Frivillig organisasjon', 'Interessegruppe', 'Interessegruppe', 'Offentlig forvaltning', 'Offentlig forvaltning', 'Frivillig organisasjon']\n",
      "['Interessegruppe', 'Interessegruppe', 'Interessegruppe', 'Interessegruppe', 'Interessegruppe', 'Interessegruppe', 'Interessegruppe', 'Offentlig forvaltning', 'Interessegruppe', 'Offentlig forvaltning', 'Interessegruppe', 'Interessegruppe', 'Interessegruppe', 'Interessegruppe', 'Interessegruppe', 'Interessegruppe', 'Interessegruppe', 'Interessegruppe', 'Interessegruppe', 'Interessegruppe', 'Interessegruppe', 'Interessegruppe', 'Interessegruppe', 'Interessegruppe', 'Interessegruppe', 'Interessegruppe', 'Interessegruppe', 'Interessegruppe', 'Interessegruppe', 'Offentlig forvaltning', 'Interessegruppe', 'Interessegruppe', 'Interessegruppe', 'Interessegruppe', 'Interessegruppe', 'Interessegruppe', 'Privatperson', 'Interessegruppe', 'Interessegruppe', 'Interessegruppe', 'Interessegruppe', 'Interessegruppe', 'Interessegruppe', 'Interessegruppe', 'Interessegruppe', 'Interessegruppe', 'Interessegruppe', 'Interessegruppe', 'Interessegruppe', 'Interessegruppe', 'Interessegruppe', 'Interessegruppe', 'Interessegruppe', 'Interessegruppe', 'Interessegruppe', 'Offentlig forvaltning', 'Interessegruppe', 'Interessegruppe', 'Interessegruppe', 'Interessegruppe', 'Interessegruppe', 'Interessegruppe', 'Offentlig forvaltning', 'Interessegruppe', 'Interessegruppe', 'Interessegruppe', 'Interessegruppe', 'Interessegruppe', 'Interessegruppe', 'Interessegruppe', 'Politisk parti', 'Interessegruppe', 'Interessegruppe', 'Interessegruppe', 'Interessegruppe', 'Offentlig forvaltning', 'Interessegruppe', 'Interessegruppe', 'Interessegruppe', 'Interessegruppe', 'Interessegruppe', 'Interessegruppe', 'Interessegruppe', 'Interessegruppe', 'Interessegruppe', 'Interessegruppe', 'Interessegruppe', 'Interessegruppe', 'Interessegruppe', 'Interessegruppe', 'Interessegruppe', 'Interessegruppe', 'Interessegruppe', 'Interessegruppe', 'Interessegruppe', 'Offentlig forvaltning', 'Interessegruppe', 'Interessegruppe', 'Interessegruppe', 'Interessegruppe', 'Interessegruppe', 'Interessegruppe', 'Interessegruppe', 'Interessegruppe', 'Interessegruppe', 'Interessegruppe', 'Interessegruppe', 'Interessegruppe', 'Interessegruppe', 'Interessegruppe', 'Interessegruppe', 'Interessegruppe', 'Interessegruppe', 'Interessegruppe', 'Interessegruppe', 'Interessegruppe', 'Interessegruppe', 'Interessegruppe', 'Interessegruppe', 'Interessegruppe', 'Interessegruppe', 'Interessegruppe', 'Interessegruppe', 'Offentlig forvaltning', 'Interessegruppe', 'Interessegruppe', 'Interessegruppe', 'Interessegruppe', 'Interessegruppe', 'Interessegruppe', 'Interessegruppe', 'Interessegruppe', 'Interessegruppe', 'Offentlig forvaltning', 'Interessegruppe', 'Interessegruppe', 'Interessegruppe', 'Interessegruppe', 'Offentlig forvaltning', 'Interessegruppe', 'Interessegruppe', 'Interessegruppe', 'Interessegruppe', 'Interessegruppe', 'Interessegruppe', 'Interessegruppe', 'Interessegruppe', 'Interessegruppe', 'Interessegruppe', 'Offentlig forvaltning', 'Offentlig forvaltning', 'Interessegruppe', 'Interessegruppe', 'Interessegruppe', 'Interessegruppe', 'Interessegruppe', 'Interessegruppe', 'Interessegruppe', 'Interessegruppe', 'Interessegruppe', 'Interessegruppe', 'Interessegruppe', 'Interessegruppe', 'Interessegruppe', 'Interessegruppe', 'Interessegruppe', 'Interessegruppe', 'Interessegruppe', 'Interessegruppe', 'Interessegruppe', 'Interessegruppe', 'Interessegruppe', 'Interessegruppe', 'Interessegruppe', 'Interessegruppe', 'Interessegruppe', 'Interessegruppe', 'Interessegruppe', 'Interessegruppe', 'Interessegruppe', 'Interessegruppe', 'Interessegruppe', 'Interessegruppe', 'Interessegruppe', 'Interessegruppe', 'Interessegruppe', 'Interessegruppe', 'Privatperson', 'Interessegruppe', 'Interessegruppe', 'Interessegruppe', 'Interessegruppe', 'Interessegruppe', 'Offentlig forvaltning', 'Interessegruppe', 'Interessegruppe', 'Interessegruppe', 'Interessegruppe', 'Interessegruppe', 'Interessegruppe', 'Interessegruppe', 'Interessegruppe', 'Interessegruppe', 'Interessegruppe', 'Interessegruppe', 'Interessegruppe', 'Interessegruppe', 'Interessegruppe', 'Interessegruppe', 'Interessegruppe', 'Interessegruppe', 'Interessegruppe', 'Interessegruppe', 'Interessegruppe', 'Interessegruppe', 'Offentlig forvaltning', 'Interessegruppe', 'Interessegruppe', 'Interessegruppe', 'Interessegruppe', 'Interessegruppe', 'Interessegruppe', 'Offentlig forvaltning', 'Interessegruppe', 'Interessegruppe', 'Interessegruppe', 'Interessegruppe', 'Privatperson', 'Interessegruppe', 'Interessegruppe', 'Interessegruppe', 'Interessegruppe', 'Interessegruppe', 'Interessegruppe', 'Interessegruppe', 'Interessegruppe', 'Interessegruppe', 'Interessegruppe', 'Interessegruppe', 'Interessegruppe', 'Interessegruppe', 'Interessegruppe', 'Interessegruppe', 'Interessegruppe', 'Interessegruppe', 'Interessegruppe', 'Interessegruppe', 'Interessegruppe', 'Interessegruppe', 'Interessegruppe', 'Interessegruppe', 'Interessegruppe', 'Interessegruppe', 'Interessegruppe', 'Interessegruppe', 'Interessegruppe', 'Interessegruppe', 'Offentlig forvaltning', 'Interessegruppe', 'Interessegruppe', 'Interessegruppe', 'Interessegruppe', 'Interessegruppe', 'Interessegruppe', 'Interessegruppe', 'Interessegruppe', 'Privatperson', 'Interessegruppe', 'Interessegruppe', 'Offentlig forvaltning', 'Interessegruppe', 'Bedrift', 'Interessegruppe', 'Offentlig forvaltning', 'Interessegruppe', 'Interessegruppe', 'Interessegruppe', 'Interessegruppe', 'Interessegruppe', 'Interessegruppe', 'Interessegruppe', 'Interessegruppe', 'Interessegruppe', 'Interessegruppe', 'Interessegruppe', 'Privatperson', 'Interessegruppe', 'Interessegruppe', 'Interessegruppe', 'Interessegruppe', 'Interessegruppe', 'Interessegruppe', 'Interessegruppe', 'Interessegruppe', 'Interessegruppe', 'Interessegruppe', 'Interessegruppe', 'Interessegruppe', 'Offentlig forvaltning', 'Interessegruppe', 'Interessegruppe', 'Interessegruppe', 'Interessegruppe', 'Offentlig forvaltning', 'Interessegruppe', 'Interessegruppe', 'Interessegruppe', 'Interessegruppe', 'Interessegruppe', 'Interessegruppe', 'Interessegruppe', 'Interessegruppe', 'Interessegruppe', 'Interessegruppe', 'Interessegruppe', 'Interessegruppe', 'Interessegruppe', 'Interessegruppe', 'Interessegruppe', 'Interessegruppe', 'Interessegruppe', 'Interessegruppe', 'Interessegruppe', 'Interessegruppe', 'Interessegruppe', 'Interessegruppe', 'Interessegruppe', 'Offentlig forvaltning', 'Interessegruppe', 'Interessegruppe', 'Interessegruppe', 'Interessegruppe', 'Interessegruppe', 'Interessegruppe', 'Interessegruppe', 'Interessegruppe', 'Interessegruppe', 'Interessegruppe', 'Interessegruppe', 'Offentlig forvaltning', 'Interessegruppe', 'Interessegruppe', 'Interessegruppe', 'Interessegruppe', 'Interessegruppe', 'Interessegruppe', 'Interessegruppe', 'Interessegruppe', 'Interessegruppe', 'Interessegruppe', 'Interessegruppe', 'Interessegruppe', 'Interessegruppe', 'Interessegruppe', 'Interessegruppe', 'Interessegruppe', 'Interessegruppe', 'Interessegruppe', 'Interessegruppe', 'Interessegruppe', 'Interessegruppe', 'Interessegruppe', 'Interessegruppe', 'Interessegruppe', 'Interessegruppe', 'Interessegruppe', 'Interessegruppe', 'Interessegruppe', 'Interessegruppe', 'Offentlig forvaltning', 'Interessegruppe', 'Interessegruppe', 'Interessegruppe', 'Interessegruppe', 'Interessegruppe', 'Privatperson', 'Interessegruppe', 'Interessegruppe', 'Offentlig forvaltning', 'Interessegruppe', 'Interessegruppe', 'Interessegruppe', 'Interessegruppe', 'Interessegruppe', 'Interessegruppe', 'Interessegruppe', 'Interessegruppe', 'Interessegruppe', 'Interessegruppe', 'Privatperson', 'Interessegruppe', 'Interessegruppe', 'Offentlig forvaltning', 'Interessegruppe', 'Interessegruppe', 'Interessegruppe', 'Interessegruppe', 'Offentlig forvaltning', 'Interessegruppe', 'Interessegruppe', 'Interessegruppe', 'Interessegruppe', 'Interessegruppe', 'Interessegruppe', 'Politisk parti', 'Offentlig forvaltning', 'Interessegruppe', 'Offentlig forvaltning', 'Interessegruppe', 'Interessegruppe', 'Interessegruppe', 'Interessegruppe', 'Interessegruppe', 'Interessegruppe', 'Interessegruppe', 'Interessegruppe', 'Interessegruppe', 'Interessegruppe', 'Interessegruppe', 'Interessegruppe', 'Interessegruppe', 'Interessegruppe', 'Privatperson', 'Interessegruppe', 'Interessegruppe', 'Interessegruppe', 'Interessegruppe', 'Interessegruppe', 'Interessegruppe', 'Interessegruppe', 'Offentlig forvaltning', 'Interessegruppe', 'Interessegruppe', 'Interessegruppe', 'Interessegruppe', 'Interessegruppe', 'Interessegruppe', 'Interessegruppe', 'Interessegruppe', 'Interessegruppe', 'Interessegruppe', 'Interessegruppe', 'Interessegruppe', 'Offentlig forvaltning', 'Interessegruppe', 'Interessegruppe', 'Interessegruppe', 'Interessegruppe', 'Offentlig forvaltning', 'Interessegruppe', 'Interessegruppe', 'Interessegruppe', 'Interessegruppe', 'Interessegruppe', 'Interessegruppe', 'Interessegruppe', 'Interessegruppe', 'Interessegruppe', 'Interessegruppe', 'Offentlig forvaltning', 'Interessegruppe', 'Interessegruppe', 'Interessegruppe', 'Interessegruppe', 'Interessegruppe', 'Interessegruppe', 'Offentlig forvaltning', 'Offentlig forvaltning', 'Interessegruppe', 'Interessegruppe', 'Interessegruppe', 'Interessegruppe', 'Interessegruppe', 'Interessegruppe', 'Interessegruppe', 'Interessegruppe', 'Interessegruppe', 'Interessegruppe', 'Interessegruppe', 'Interessegruppe', 'Offentlig forvaltning', 'Interessegruppe', 'Interessegruppe', 'Interessegruppe', 'Interessegruppe', 'Interessegruppe', 'Interessegruppe', 'Interessegruppe', 'Interessegruppe', 'Interessegruppe', 'Interessegruppe', 'Offentlig forvaltning', 'Interessegruppe', 'Interessegruppe', 'Interessegruppe', 'Interessegruppe', 'Interessegruppe', 'Offentlig forvaltning', 'Interessegruppe', 'Interessegruppe', 'Interessegruppe', 'Interessegruppe', 'Interessegruppe', 'Interessegruppe', 'Interessegruppe', 'Offentlig forvaltning', 'Offentlig forvaltning', 'Offentlig forvaltning', 'Interessegruppe', 'Interessegruppe', 'Interessegruppe', 'Interessegruppe', 'Interessegruppe', 'Interessegruppe', 'Interessegruppe', 'Interessegruppe', 'Interessegruppe', 'Interessegruppe', 'Interessegruppe', 'Interessegruppe', 'Interessegruppe', 'Interessegruppe', 'Interessegruppe', 'Interessegruppe', 'Interessegruppe', 'Interessegruppe', 'Interessegruppe', 'Interessegruppe', 'Interessegruppe', 'Interessegruppe', 'Interessegruppe', 'Interessegruppe', 'Interessegruppe', 'Interessegruppe', 'Interessegruppe', 'Interessegruppe', 'Offentlig forvaltning', 'Interessegruppe', 'Interessegruppe', 'Interessegruppe', 'Interessegruppe', 'Interessegruppe', 'Interessegruppe', 'Interessegruppe', 'Interessegruppe', 'Interessegruppe', 'Interessegruppe', 'Interessegruppe', 'Interessegruppe', 'Interessegruppe', 'Interessegruppe', 'Interessegruppe', 'Offentlig forvaltning', 'Interessegruppe', 'Interessegruppe', 'Interessegruppe', 'Interessegruppe', 'Interessegruppe', 'Interessegruppe', 'Interessegruppe', 'Interessegruppe', 'Interessegruppe', 'Interessegruppe', 'Interessegruppe', 'Interessegruppe', 'Interessegruppe', 'Interessegruppe', 'Interessegruppe', 'Offentlig forvaltning', 'Interessegruppe', 'Offentlig forvaltning', 'Interessegruppe', 'Offentlig forvaltning', 'Interessegruppe', 'Interessegruppe', 'Interessegruppe', 'Interessegruppe', 'Interessegruppe', 'Interessegruppe', 'Interessegruppe', 'Privatperson', 'Interessegruppe', 'Offentlig forvaltning', 'Interessegruppe', 'Interessegruppe', 'Interessegruppe', 'Interessegruppe', 'Interessegruppe', 'Interessegruppe', 'Interessegruppe', 'Interessegruppe', 'Interessegruppe', 'Offentlig forvaltning', 'Interessegruppe', 'Interessegruppe', 'Interessegruppe', 'Interessegruppe', 'Interessegruppe', 'Interessegruppe', 'Interessegruppe', 'Interessegruppe', 'Offentlig forvaltning', 'Interessegruppe', 'Interessegruppe', 'Interessegruppe', 'Interessegruppe', 'Interessegruppe', 'Interessegruppe', 'Interessegruppe', 'Interessegruppe']\n",
      "['Interessegruppe', 'Bedrift', 'Privatperson', 'Frivillig organisasjon', 'Bedrift', 'Offentlig forvaltning', 'Interessegruppe', 'Offentlig forvaltning', 'Interessegruppe', 'Offentlig forvaltning', 'Bedrift', 'Interessegruppe', 'Interessegruppe', 'Privatperson', 'Frivillig organisasjon', 'Bedrift', 'Privatperson', 'Bedrift', 'Privatperson', 'Interessegruppe', 'Offentlig forvaltning', 'Bedrift', 'Interessegruppe', 'Bedrift', 'Offentlig forvaltning', 'Interessegruppe', 'Politisk parti', 'Bedrift', 'Frivillig organisasjon', 'Bedrift', 'Privatperson', 'Offentlig forvaltning', 'Politisk parti', 'Bedrift', 'Interessegruppe', 'Interessegruppe', 'Privatperson', 'Frivillig organisasjon', 'Bedrift', 'Interessegruppe', 'Interessegruppe', 'Interessegruppe', 'Privatperson', 'Offentlig forvaltning', 'Bedrift', 'Bedrift', 'Bedrift', 'Frivillig organisasjon', 'Interessegruppe', 'Interessegruppe', 'Bedrift', 'Offentlig forvaltning', 'Offentlig forvaltning', 'Interessegruppe', 'Privatperson', 'Offentlig forvaltning', 'Privatperson', 'Interessegruppe', 'Privatperson', 'Frivillig organisasjon', 'Interessegruppe', 'Bedrift', 'Offentlig forvaltning', 'Politisk parti', 'Frivillig organisasjon', 'Frivillig organisasjon', 'Interessegruppe', 'Interessegruppe', 'Interessegruppe', 'Privatperson', 'Politisk parti', 'Interessegruppe', 'Interessegruppe', 'Frivillig organisasjon', 'Interessegruppe', 'Offentlig forvaltning', 'Interessegruppe', 'Frivillig organisasjon', 'Bedrift', 'Frivillig organisasjon', 'Offentlig forvaltning', 'Frivillig organisasjon', 'Bedrift', 'Interessegruppe', 'Interessegruppe', 'Interessegruppe', 'Offentlig forvaltning', 'Interessegruppe', 'Interessegruppe', 'Politisk parti', 'Interessegruppe', 'Bedrift', 'Interessegruppe', 'Interessegruppe', 'Interessegruppe', 'Offentlig forvaltning', 'Interessegruppe', 'Frivillig organisasjon', 'Politisk parti', 'Bedrift', 'Interessegruppe', 'Privatperson', 'Frivillig organisasjon', 'Politisk parti', 'Offentlig forvaltning', 'Bedrift', 'Interessegruppe', 'Offentlig forvaltning', 'Interessegruppe', 'Frivillig organisasjon', 'Privatperson', 'Interessegruppe', 'Interessegruppe', 'Bedrift', 'Interessegruppe', 'Offentlig forvaltning', 'Frivillig organisasjon', 'Bedrift', 'Politisk parti', 'Interessegruppe', 'Frivillig organisasjon', 'Interessegruppe', 'Interessegruppe', 'Offentlig forvaltning', 'Interessegruppe', 'Bedrift', 'Privatperson', 'Offentlig forvaltning', 'Politisk parti', 'Interessegruppe', 'Interessegruppe', 'Offentlig forvaltning', 'Interessegruppe', 'Offentlig forvaltning', 'Offentlig forvaltning', 'Privatperson', 'Bedrift', 'Interessegruppe', 'Offentlig forvaltning', 'Interessegruppe', 'Interessegruppe', 'Interessegruppe', 'Interessegruppe', 'Interessegruppe', 'Interessegruppe', 'Offentlig forvaltning', 'Privatperson', 'Bedrift', 'Privatperson', 'Offentlig forvaltning', 'Offentlig forvaltning', 'Offentlig forvaltning', 'Interessegruppe', 'Offentlig forvaltning', 'Bedrift', 'Bedrift', 'Interessegruppe', 'Interessegruppe', 'Interessegruppe', 'Privatperson', 'Frivillig organisasjon', 'Bedrift', 'Interessegruppe', 'Frivillig organisasjon', 'Interessegruppe', 'Offentlig forvaltning', 'Interessegruppe', 'Interessegruppe', 'Privatperson', 'Privatperson', 'Politisk parti', 'Interessegruppe', 'Interessegruppe', 'Bedrift', 'Interessegruppe', 'Privatperson', 'Frivillig organisasjon', 'Frivillig organisasjon', 'Interessegruppe', 'Interessegruppe', 'Frivillig organisasjon', 'Interessegruppe', 'Privatperson', 'Interessegruppe', 'Bedrift', 'Politisk parti', 'Frivillig organisasjon', 'Privatperson', 'Frivillig organisasjon', 'Frivillig organisasjon', 'Frivillig organisasjon', 'Interessegruppe', 'Offentlig forvaltning', 'Offentlig forvaltning', 'Bedrift', 'Interessegruppe', 'Frivillig organisasjon', 'Privatperson', 'Interessegruppe', 'Privatperson', 'Interessegruppe', 'Interessegruppe', 'Bedrift', 'Privatperson', 'Frivillig organisasjon', 'Interessegruppe', 'Interessegruppe', 'Politisk parti', 'Privatperson', 'Bedrift', 'Privatperson', 'Interessegruppe', 'Privatperson', 'Privatperson', 'Interessegruppe', 'Bedrift', 'Interessegruppe', 'Interessegruppe', 'Interessegruppe', 'Interessegruppe', 'Interessegruppe', 'Interessegruppe', 'Offentlig forvaltning', 'Interessegruppe', 'Frivillig organisasjon', 'Bedrift', 'Interessegruppe', 'Politisk parti', 'Interessegruppe', 'Politisk parti', 'Interessegruppe', 'Politisk parti', 'Bedrift', 'Politisk parti', 'Offentlig forvaltning', 'Interessegruppe', 'Offentlig forvaltning', 'Interessegruppe', 'Interessegruppe', 'Frivillig organisasjon', 'Interessegruppe', 'Bedrift', 'Frivillig organisasjon', 'Bedrift', 'Frivillig organisasjon', 'Offentlig forvaltning', 'Interessegruppe', 'Privatperson', 'Privatperson', 'Offentlig forvaltning', 'Bedrift', 'Politisk parti', 'Bedrift', 'Interessegruppe', 'Interessegruppe', 'Interessegruppe', 'Bedrift', 'Offentlig forvaltning', 'Interessegruppe', 'Bedrift', 'Interessegruppe', 'Bedrift', 'Interessegruppe', 'Interessegruppe', 'Offentlig forvaltning', 'Offentlig forvaltning', 'Privatperson', 'Interessegruppe', 'Interessegruppe', 'Offentlig forvaltning', 'Interessegruppe', 'Bedrift', 'Bedrift', 'Offentlig forvaltning', 'Privatperson', 'Privatperson', 'Interessegruppe', 'Privatperson', 'Offentlig forvaltning', 'Interessegruppe', 'Offentlig forvaltning', 'Frivillig organisasjon', 'Bedrift', 'Interessegruppe', 'Bedrift', 'Privatperson', 'Interessegruppe', 'Interessegruppe', 'Privatperson', 'Bedrift', 'Frivillig organisasjon', 'Interessegruppe', 'Offentlig forvaltning', 'Interessegruppe', 'Bedrift', 'Bedrift', 'Privatperson', 'Interessegruppe', 'Offentlig forvaltning', 'Interessegruppe', 'Privatperson', 'Bedrift', 'Interessegruppe', 'Frivillig organisasjon', 'Interessegruppe', 'Privatperson', 'Interessegruppe', 'Interessegruppe', 'Privatperson', 'Interessegruppe', 'Interessegruppe', 'Offentlig forvaltning', 'Frivillig organisasjon', 'Privatperson', 'Frivillig organisasjon', 'Privatperson', 'Interessegruppe', 'Bedrift', 'Interessegruppe', 'Frivillig organisasjon', 'Interessegruppe', 'Bedrift', 'Privatperson', 'Interessegruppe', 'Interessegruppe', 'Bedrift', 'Offentlig forvaltning', 'Offentlig forvaltning', 'Offentlig forvaltning', 'Interessegruppe', 'Politisk parti', 'Interessegruppe', 'Privatperson', 'Offentlig forvaltning', 'Interessegruppe', 'Offentlig forvaltning', 'Interessegruppe', 'Privatperson', 'Offentlig forvaltning', 'Offentlig forvaltning', 'Bedrift', 'Bedrift', 'Interessegruppe', 'Interessegruppe', 'Privatperson', 'Privatperson', 'Interessegruppe', 'Interessegruppe', 'Interessegruppe', 'Frivillig organisasjon', 'Frivillig organisasjon', 'Bedrift', 'Interessegruppe', 'Privatperson', 'Offentlig forvaltning', 'Bedrift', 'Bedrift', 'Interessegruppe', 'Privatperson', 'Interessegruppe', 'Interessegruppe', 'Offentlig forvaltning', 'Interessegruppe', 'Frivillig organisasjon', 'Interessegruppe', 'Bedrift', 'Bedrift', 'Interessegruppe', 'Interessegruppe', 'Offentlig forvaltning', 'Privatperson', 'Frivillig organisasjon', 'Offentlig forvaltning', 'Frivillig organisasjon', 'Interessegruppe', 'Privatperson', 'Bedrift', 'Interessegruppe', 'Offentlig forvaltning', 'Politisk parti', 'Interessegruppe', 'Offentlig forvaltning', 'Interessegruppe', 'Interessegruppe', 'Interessegruppe', 'Frivillig organisasjon', 'Politisk parti', 'Bedrift', 'Interessegruppe', 'Privatperson', 'Offentlig forvaltning', 'Privatperson', 'Interessegruppe', 'Bedrift', 'Bedrift', 'Politisk parti', 'Bedrift', 'Frivillig organisasjon', 'Interessegruppe', 'Interessegruppe', 'Interessegruppe', 'Bedrift', 'Offentlig forvaltning', 'Offentlig forvaltning', 'Politisk parti', 'Offentlig forvaltning', 'Interessegruppe', 'Offentlig forvaltning', 'Interessegruppe', 'Interessegruppe', 'Frivillig organisasjon', 'Interessegruppe', 'Interessegruppe', 'Bedrift', 'Bedrift', 'Bedrift', 'Privatperson', 'Privatperson', 'Frivillig organisasjon', 'Interessegruppe', 'Privatperson', 'Offentlig forvaltning', 'Privatperson', 'Offentlig forvaltning', 'Bedrift', 'Bedrift', 'Frivillig organisasjon', 'Privatperson', 'Interessegruppe', 'Frivillig organisasjon', 'Offentlig forvaltning', 'Offentlig forvaltning', 'Bedrift', 'Offentlig forvaltning', 'Interessegruppe', 'Offentlig forvaltning', 'Bedrift', 'Bedrift', 'Interessegruppe', 'Offentlig forvaltning', 'Bedrift', 'Interessegruppe', 'Offentlig forvaltning', 'Offentlig forvaltning', 'Bedrift', 'Interessegruppe', 'Privatperson', 'Frivillig organisasjon', 'Offentlig forvaltning', 'Offentlig forvaltning', 'Interessegruppe', 'Interessegruppe', 'Interessegruppe', 'Interessegruppe', 'Bedrift', 'Interessegruppe', 'Bedrift', 'Interessegruppe', 'Interessegruppe', 'Offentlig forvaltning', 'Frivillig organisasjon', 'Frivillig organisasjon', 'Interessegruppe', 'Interessegruppe', 'Privatperson', 'Frivillig organisasjon', 'Offentlig forvaltning', 'Offentlig forvaltning', 'Offentlig forvaltning', 'Interessegruppe', 'Offentlig forvaltning', 'Offentlig forvaltning', 'Privatperson', 'Interessegruppe', 'Frivillig organisasjon', 'Offentlig forvaltning', 'Privatperson', 'Politisk parti', 'Politisk parti', 'Politisk parti', 'Offentlig forvaltning', 'Bedrift', 'Interessegruppe', 'Frivillig organisasjon', 'Bedrift', 'Interessegruppe', 'Bedrift', 'Privatperson', 'Privatperson', 'Frivillig organisasjon', 'Bedrift', 'Offentlig forvaltning', 'Interessegruppe', 'Bedrift', 'Interessegruppe', 'Privatperson', 'Frivillig organisasjon', 'Offentlig forvaltning', 'Politisk parti', 'Interessegruppe', 'Offentlig forvaltning', 'Interessegruppe', 'Interessegruppe', 'Bedrift', 'Bedrift', 'Offentlig forvaltning', 'Offentlig forvaltning', 'Offentlig forvaltning', 'Offentlig forvaltning', 'Bedrift', 'Interessegruppe', 'Privatperson', 'Interessegruppe', 'Interessegruppe', 'Privatperson', 'Offentlig forvaltning', 'Frivillig organisasjon', 'Interessegruppe', 'Privatperson', 'Privatperson', 'Privatperson', 'Interessegruppe', 'Interessegruppe', 'Bedrift', 'Frivillig organisasjon', 'Interessegruppe', 'Interessegruppe', 'Bedrift', 'Interessegruppe', 'Bedrift', 'Frivillig organisasjon', 'Interessegruppe', 'Interessegruppe', 'Bedrift', 'Interessegruppe', 'Frivillig organisasjon', 'Offentlig forvaltning', 'Bedrift', 'Interessegruppe', 'Privatperson', 'Privatperson', 'Interessegruppe', 'Interessegruppe', 'Privatperson', 'Bedrift', 'Frivillig organisasjon', 'Interessegruppe', 'Interessegruppe', 'Interessegruppe', 'Interessegruppe', 'Interessegruppe', 'Privatperson', 'Offentlig forvaltning', 'Offentlig forvaltning', 'Offentlig forvaltning', 'Bedrift', 'Offentlig forvaltning', 'Interessegruppe', 'Akademisk institusjon', 'Frivillig organisasjon', 'Bedrift', 'Offentlig forvaltning', 'Interessegruppe', 'Interessegruppe', 'Interessegruppe', 'Interessegruppe', 'Offentlig forvaltning', 'Frivillig organisasjon', 'Offentlig forvaltning', 'Privatperson', 'Offentlig forvaltning', 'Interessegruppe', 'Interessegruppe', 'Interessegruppe', 'Interessegruppe', 'Interessegruppe', 'Politisk parti', 'Interessegruppe', 'Politisk parti', 'Privatperson', 'Politisk parti', 'Interessegruppe', 'Offentlig forvaltning', 'Privatperson', 'Frivillig organisasjon', 'Interessegruppe', 'Offentlig forvaltning', 'Bedrift', 'Interessegruppe', 'Interessegruppe', 'Interessegruppe', 'Offentlig forvaltning', 'Offentlig forvaltning', 'Interessegruppe', 'Interessegruppe', 'Interessegruppe', 'Interessegruppe', 'Offentlig forvaltning', 'Offentlig forvaltning', 'Privatperson', 'Interessegruppe', 'Offentlig forvaltning', 'Bedrift', 'Interessegruppe', 'Frivillig organisasjon', 'Interessegruppe', 'Interessegruppe', 'Offentlig forvaltning', 'Offentlig forvaltning', 'Frivillig organisasjon']\n",
      "[[  0   0   0   1   0   0   0]\n",
      " [  0   1   0  95   2   0   0]\n",
      " [  0   0   0  65   2   0   0]\n",
      " [  0   0   0 223   2   0   0]\n",
      " [  0   0   0  68  42   0   0]\n",
      " [  0   0   0  25   0   2   2]\n",
      " [  0   0   0  73   0   0   7]]\n"
     ]
    },
    {
     "ename": "ValueError",
     "evalue": "`data` and `annot` must have same shape.",
     "output_type": "error",
     "traceback": [
      "\u001b[0;31m---------------------------------------------------------------------------\u001b[0m",
      "\u001b[0;31mValueError\u001b[0m                                Traceback (most recent call last)",
      "\u001b[1;32m/home/henrik/ArgumentMiningNOUs/src/notebooks/naive_bayes_classifier.ipynb Cell 7\u001b[0m line \u001b[0;36m<cell line: 23>\u001b[0;34m()\u001b[0m\n\u001b[1;32m     <a href='vscode-notebook-cell://wsl%2Bubuntu/home/henrik/ArgumentMiningNOUs/src/notebooks/naive_bayes_classifier.ipynb#W5sdnNjb2RlLXJlbW90ZQ%3D%3D?line=19'>20</a>\u001b[0m conf_mat \u001b[39m=\u001b[39m confusion_matrix(y_test, y_pred)\n\u001b[1;32m     <a href='vscode-notebook-cell://wsl%2Bubuntu/home/henrik/ArgumentMiningNOUs/src/notebooks/naive_bayes_classifier.ipynb#W5sdnNjb2RlLXJlbW90ZQ%3D%3D?line=20'>21</a>\u001b[0m \u001b[39mprint\u001b[39m(conf_mat)\n\u001b[0;32m---> <a href='vscode-notebook-cell://wsl%2Bubuntu/home/henrik/ArgumentMiningNOUs/src/notebooks/naive_bayes_classifier.ipynb#W5sdnNjb2RlLXJlbW90ZQ%3D%3D?line=22'>23</a>\u001b[0m sns\u001b[39m.\u001b[39;49mheatmap(conf_mat, annot\u001b[39m=\u001b[39;49mlabels, fmt\u001b[39m=\u001b[39;49m\u001b[39m'\u001b[39;49m\u001b[39m'\u001b[39;49m, cmap\u001b[39m=\u001b[39;49m\u001b[39m'\u001b[39;49m\u001b[39mBlues\u001b[39;49m\u001b[39m'\u001b[39;49m )\n",
      "File \u001b[0;32m~/anaconda3/lib/python3.9/site-packages/seaborn/_decorators.py:46\u001b[0m, in \u001b[0;36m_deprecate_positional_args.<locals>.inner_f\u001b[0;34m(*args, **kwargs)\u001b[0m\n\u001b[1;32m     36\u001b[0m     warnings\u001b[39m.\u001b[39mwarn(\n\u001b[1;32m     37\u001b[0m         \u001b[39m\"\u001b[39m\u001b[39mPass the following variable\u001b[39m\u001b[39m{}\u001b[39;00m\u001b[39m as \u001b[39m\u001b[39m{}\u001b[39;00m\u001b[39mkeyword arg\u001b[39m\u001b[39m{}\u001b[39;00m\u001b[39m: \u001b[39m\u001b[39m{}\u001b[39;00m\u001b[39m. \u001b[39m\u001b[39m\"\u001b[39m\n\u001b[1;32m     38\u001b[0m         \u001b[39m\"\u001b[39m\u001b[39mFrom version 0.12, the only valid positional argument \u001b[39m\u001b[39m\"\u001b[39m\n\u001b[0;32m   (...)\u001b[0m\n\u001b[1;32m     43\u001b[0m         \u001b[39mFutureWarning\u001b[39;00m\n\u001b[1;32m     44\u001b[0m     )\n\u001b[1;32m     45\u001b[0m kwargs\u001b[39m.\u001b[39mupdate({k: arg \u001b[39mfor\u001b[39;00m k, arg \u001b[39min\u001b[39;00m \u001b[39mzip\u001b[39m(sig\u001b[39m.\u001b[39mparameters, args)})\n\u001b[0;32m---> 46\u001b[0m \u001b[39mreturn\u001b[39;00m f(\u001b[39m*\u001b[39;49m\u001b[39m*\u001b[39;49mkwargs)\n",
      "File \u001b[0;32m~/anaconda3/lib/python3.9/site-packages/seaborn/matrix.py:540\u001b[0m, in \u001b[0;36mheatmap\u001b[0;34m(data, vmin, vmax, cmap, center, robust, annot, fmt, annot_kws, linewidths, linecolor, cbar, cbar_kws, cbar_ax, square, xticklabels, yticklabels, mask, ax, **kwargs)\u001b[0m\n\u001b[1;32m    362\u001b[0m \u001b[39m\"\"\"Plot rectangular data as a color-encoded matrix.\u001b[39;00m\n\u001b[1;32m    363\u001b[0m \n\u001b[1;32m    364\u001b[0m \u001b[39mThis is an Axes-level function and will draw the heatmap into the\u001b[39;00m\n\u001b[0;32m   (...)\u001b[0m\n\u001b[1;32m    537\u001b[0m \u001b[39m    ...     ax = sns.heatmap(corr, mask=mask, vmax=.3, square=True)\u001b[39;00m\n\u001b[1;32m    538\u001b[0m \u001b[39m\"\"\"\u001b[39;00m\n\u001b[1;32m    539\u001b[0m \u001b[39m# Initialize the plotter object\u001b[39;00m\n\u001b[0;32m--> 540\u001b[0m plotter \u001b[39m=\u001b[39m _HeatMapper(data, vmin, vmax, cmap, center, robust, annot, fmt,\n\u001b[1;32m    541\u001b[0m                       annot_kws, cbar, cbar_kws, xticklabels,\n\u001b[1;32m    542\u001b[0m                       yticklabels, mask)\n\u001b[1;32m    544\u001b[0m \u001b[39m# Add the pcolormesh kwargs here\u001b[39;00m\n\u001b[1;32m    545\u001b[0m kwargs[\u001b[39m\"\u001b[39m\u001b[39mlinewidths\u001b[39m\u001b[39m\"\u001b[39m] \u001b[39m=\u001b[39m linewidths\n",
      "File \u001b[0;32m~/anaconda3/lib/python3.9/site-packages/seaborn/matrix.py:173\u001b[0m, in \u001b[0;36m_HeatMapper.__init__\u001b[0;34m(self, data, vmin, vmax, cmap, center, robust, annot, fmt, annot_kws, cbar, cbar_kws, xticklabels, yticklabels, mask)\u001b[0m\n\u001b[1;32m    171\u001b[0m         \u001b[39mif\u001b[39;00m annot_data\u001b[39m.\u001b[39mshape \u001b[39m!=\u001b[39m plot_data\u001b[39m.\u001b[39mshape:\n\u001b[1;32m    172\u001b[0m             err \u001b[39m=\u001b[39m \u001b[39m\"\u001b[39m\u001b[39m`data` and `annot` must have same shape.\u001b[39m\u001b[39m\"\u001b[39m\n\u001b[0;32m--> 173\u001b[0m             \u001b[39mraise\u001b[39;00m \u001b[39mValueError\u001b[39;00m(err)\n\u001b[1;32m    174\u001b[0m     annot \u001b[39m=\u001b[39m \u001b[39mTrue\u001b[39;00m\n\u001b[1;32m    176\u001b[0m \u001b[39m# Save other attributes to the object\u001b[39;00m\n",
      "\u001b[0;31mValueError\u001b[0m: `data` and `annot` must have same shape."
     ]
    }
   ],
   "source": [
    "# Convert ids to labels\n",
    "def ids_to_labels(y, id2label):\n",
    "\n",
    "    labels = [id2label[i] for i in np.array(y)]\n",
    "    print(labels)\n",
    "    return labels\n",
    "\n",
    "y_test = ids_to_labels(y_test, id2label)\n",
    "# Flatten list\n",
    "y_pred = y_pred.flatten()\n",
    "\n",
    "y_pred = ids_to_labels(y_pred, id2label)\n",
    "print(y_test)\n",
    "\n",
    "labels = list(id2label.values())\n",
    "print(labels)\n",
    "\n",
    "\n",
    "# Confusion matrix\n",
    "conf_mat = confusion_matrix(y_test, y_pred)\n",
    "print(conf_mat)\n",
    "\n",
    "sns.heatmap(conf_mat, annot=labels, fmt='', cmap='Blues' )"
   ]
  },
  {
   "cell_type": "markdown",
   "metadata": {},
   "source": [
    "## MNB with count vectorizer"
   ]
  },
  {
   "cell_type": "code",
   "execution_count": null,
   "metadata": {},
   "outputs": [
    {
     "name": "stdout",
     "output_type": "stream",
     "text": [
      "['Interessegruppe' 'Interessegruppe' 'Interessegruppe' ...\n",
      " 'Frivillig organisasjon' 'Frivillig organisasjon'\n",
      " 'Frivillig organisasjon']\n",
      "[3 4 4 ... 4 4 6]\n"
     ]
    }
   ],
   "source": [
    "vector = CountVectorizer()\n",
    "\n",
    "X = vector.fit_transform(df[\"text\"])\n",
    "y = df[\"label\"].to_numpy()\n",
    "print(y)\n",
    "\n",
    "# Convert labels to numbers\n",
    "id2label = {i: label for i, label in enumerate(np.unique(y))}\n",
    "label2id = {label: i for i, label in id2label.items()}\n",
    "\n",
    "y = np.array([label2id[label] for label in y])\n",
    "\n",
    "X_train, X_test, y_train, y_test = train_test_split(X, y, test_size=0.2, random_state=42)\n",
    "print(y_train)"
   ]
  },
  {
   "cell_type": "code",
   "execution_count": null,
   "metadata": {},
   "outputs": [
    {
     "name": "stdout",
     "output_type": "stream",
     "text": [
      "['Interessegruppe' 'Interessegruppe' 'Interessegruppe' ...\n",
      " 'Frivillig organisasjon' 'Frivillig organisasjon'\n",
      " 'Frivillig organisasjon']\n",
      "{'Akademisk institusjon': 0, 'Bedrift': 1, 'Frivillig organisasjon': 2, 'Interessegruppe': 3, 'Offentlig forvaltning': 4, 'Politisk parti': 5, 'Privatperson': 6}\n"
     ]
    }
   ],
   "source": [
    "# Try with a binary classifier\n",
    "vector = TfidfVectorizer()\n",
    "\n",
    "X = vector.fit_transform(df[\"text\"])\n",
    "y = df[\"label\"].to_numpy()\n",
    "print(y)\n",
    "\n",
    "# Convert labels to numbers\n",
    "id2label = {i: label for i, label in enumerate(np.unique(y))}\n",
    "label2id = {label: i for i, label in id2label.items()}\n",
    "\n",
    "print(label2id)\n",
    "\n",
    "y = np.array([label2id[label] for label in y])\n",
    "\n",
    "# Remove set all labels that are not 3 (Interessegruppe) to 0\n",
    "y = np.where(y == 5, 1, 0)\n",
    "\n",
    "X_train, X_test, y_train, y_test = train_test_split(X, y, test_size=0.4, random_state=42)"
   ]
  },
  {
   "cell_type": "code",
   "execution_count": null,
   "metadata": {},
   "outputs": [
    {
     "name": "stdout",
     "output_type": "stream",
     "text": [
      "0.9385245901639344\n"
     ]
    }
   ],
   "source": [
    "mnb = MultinomialNB()\n",
    "\n",
    "model = mnb.fit(X_train, y_train)\n",
    "\n",
    "y_pred = model.predict(X_test)\n",
    "y_pred = y_pred.reshape(-1, 1)\n",
    "\n",
    "print(accuracy(y_test, y_pred))"
   ]
  },
  {
   "cell_type": "code",
   "execution_count": null,
   "metadata": {},
   "outputs": [
    {
     "data": {
      "text/plain": [
       "<AxesSubplot:>"
      ]
     },
     "execution_count": 176,
     "metadata": {},
     "output_type": "execute_result"
    },
    {
     "data": {
      "image/png": "[encoded data removed]",
      "text/plain": [
       "<Figure size 432x288 with 2 Axes>"
      ]
     },
     "metadata": {
      "needs_background": "light"
     },
     "output_type": "display_data"
    }
   ],
   "source": [
    "# Confusion matrix\n",
    "conf_mat = confusion_matrix(y_test, y_pred)\n",
    "sns.heatmap(conf_mat, annot=True, fmt='d', cmap='Blues')\n"
   ]
  },
  {
   "cell_type": "code",
   "execution_count": null,
   "metadata": {},
   "outputs": [
    {
     "ename": "KeyError",
     "evalue": "'arguments'",
     "output_type": "error",
     "traceback": [
      "\u001b[0;31m---------------------------------------------------------------------------\u001b[0m",
      "\u001b[0;31mKeyError\u001b[0m                                  Traceback (most recent call last)",
      "File \u001b[0;32m~/anaconda3/lib/python3.9/site-packages/pandas/core/indexes/base.py:3621\u001b[0m, in \u001b[0;36mIndex.get_loc\u001b[0;34m(self, key, method, tolerance)\u001b[0m\n\u001b[1;32m   3620\u001b[0m \u001b[39mtry\u001b[39;00m:\n\u001b[0;32m-> 3621\u001b[0m     \u001b[39mreturn\u001b[39;00m \u001b[39mself\u001b[39;49m\u001b[39m.\u001b[39;49m_engine\u001b[39m.\u001b[39;49mget_loc(casted_key)\n\u001b[1;32m   3622\u001b[0m \u001b[39mexcept\u001b[39;00m \u001b[39mKeyError\u001b[39;00m \u001b[39mas\u001b[39;00m err:\n",
      "File \u001b[0;32m~/anaconda3/lib/python3.9/site-packages/pandas/_libs/index.pyx:136\u001b[0m, in \u001b[0;36mpandas._libs.index.IndexEngine.get_loc\u001b[0;34m()\u001b[0m\n",
      "File \u001b[0;32m~/anaconda3/lib/python3.9/site-packages/pandas/_libs/index.pyx:163\u001b[0m, in \u001b[0;36mpandas._libs.index.IndexEngine.get_loc\u001b[0;34m()\u001b[0m\n",
      "File \u001b[0;32mpandas/_libs/hashtable_class_helper.pxi:5198\u001b[0m, in \u001b[0;36mpandas._libs.hashtable.PyObjectHashTable.get_item\u001b[0;34m()\u001b[0m\n",
      "File \u001b[0;32mpandas/_libs/hashtable_class_helper.pxi:5206\u001b[0m, in \u001b[0;36mpandas._libs.hashtable.PyObjectHashTable.get_item\u001b[0;34m()\u001b[0m\n",
      "\u001b[0;31mKeyError\u001b[0m: 'arguments'",
      "\nThe above exception was the direct cause of the following exception:\n",
      "\u001b[0;31mKeyError\u001b[0m                                  Traceback (most recent call last)",
      "\u001b[1;32m/home/henrik/ArgumentMiningNOUs/src/notebooks/naive_bayes_classifier.ipynb Cell 13\u001b[0m line \u001b[0;36m<cell line: 4>\u001b[0;34m()\u001b[0m\n\u001b[1;32m      <a href='vscode-notebook-cell://wsl%2Bubuntu/home/henrik/ArgumentMiningNOUs/src/notebooks/naive_bayes_classifier.ipynb#X14sdnNjb2RlLXJlbW90ZQ%3D%3D?line=0'>1</a>\u001b[0m \u001b[39m# Try with a binary classifier\u001b[39;00m\n\u001b[1;32m      <a href='vscode-notebook-cell://wsl%2Bubuntu/home/henrik/ArgumentMiningNOUs/src/notebooks/naive_bayes_classifier.ipynb#X14sdnNjb2RlLXJlbW90ZQ%3D%3D?line=1'>2</a>\u001b[0m vector \u001b[39m=\u001b[39m CountVectorizer()\n\u001b[0;32m----> <a href='vscode-notebook-cell://wsl%2Bubuntu/home/henrik/ArgumentMiningNOUs/src/notebooks/naive_bayes_classifier.ipynb#X14sdnNjb2RlLXJlbW90ZQ%3D%3D?line=3'>4</a>\u001b[0m X \u001b[39m=\u001b[39m vector\u001b[39m.\u001b[39mfit_transform(df[\u001b[39m\"\u001b[39;49m\u001b[39marguments\u001b[39;49m\u001b[39m\"\u001b[39;49m])\n\u001b[1;32m      <a href='vscode-notebook-cell://wsl%2Bubuntu/home/henrik/ArgumentMiningNOUs/src/notebooks/naive_bayes_classifier.ipynb#X14sdnNjb2RlLXJlbW90ZQ%3D%3D?line=4'>5</a>\u001b[0m y \u001b[39m=\u001b[39m df[\u001b[39m\"\u001b[39m\u001b[39mactor_label\u001b[39m\u001b[39m\"\u001b[39m]\u001b[39m.\u001b[39mto_numpy()\n\u001b[1;32m      <a href='vscode-notebook-cell://wsl%2Bubuntu/home/henrik/ArgumentMiningNOUs/src/notebooks/naive_bayes_classifier.ipynb#X14sdnNjb2RlLXJlbW90ZQ%3D%3D?line=5'>6</a>\u001b[0m \u001b[39mprint\u001b[39m(y)\n",
      "File \u001b[0;32m~/anaconda3/lib/python3.9/site-packages/pandas/core/frame.py:3505\u001b[0m, in \u001b[0;36mDataFrame.__getitem__\u001b[0;34m(self, key)\u001b[0m\n\u001b[1;32m   3503\u001b[0m \u001b[39mif\u001b[39;00m \u001b[39mself\u001b[39m\u001b[39m.\u001b[39mcolumns\u001b[39m.\u001b[39mnlevels \u001b[39m>\u001b[39m \u001b[39m1\u001b[39m:\n\u001b[1;32m   3504\u001b[0m     \u001b[39mreturn\u001b[39;00m \u001b[39mself\u001b[39m\u001b[39m.\u001b[39m_getitem_multilevel(key)\n\u001b[0;32m-> 3505\u001b[0m indexer \u001b[39m=\u001b[39m \u001b[39mself\u001b[39;49m\u001b[39m.\u001b[39;49mcolumns\u001b[39m.\u001b[39;49mget_loc(key)\n\u001b[1;32m   3506\u001b[0m \u001b[39mif\u001b[39;00m is_integer(indexer):\n\u001b[1;32m   3507\u001b[0m     indexer \u001b[39m=\u001b[39m [indexer]\n",
      "File \u001b[0;32m~/anaconda3/lib/python3.9/site-packages/pandas/core/indexes/base.py:3623\u001b[0m, in \u001b[0;36mIndex.get_loc\u001b[0;34m(self, key, method, tolerance)\u001b[0m\n\u001b[1;32m   3621\u001b[0m     \u001b[39mreturn\u001b[39;00m \u001b[39mself\u001b[39m\u001b[39m.\u001b[39m_engine\u001b[39m.\u001b[39mget_loc(casted_key)\n\u001b[1;32m   3622\u001b[0m \u001b[39mexcept\u001b[39;00m \u001b[39mKeyError\u001b[39;00m \u001b[39mas\u001b[39;00m err:\n\u001b[0;32m-> 3623\u001b[0m     \u001b[39mraise\u001b[39;00m \u001b[39mKeyError\u001b[39;00m(key) \u001b[39mfrom\u001b[39;00m \u001b[39merr\u001b[39;00m\n\u001b[1;32m   3624\u001b[0m \u001b[39mexcept\u001b[39;00m \u001b[39mTypeError\u001b[39;00m:\n\u001b[1;32m   3625\u001b[0m     \u001b[39m# If we have a listlike key, _check_indexing_error will raise\u001b[39;00m\n\u001b[1;32m   3626\u001b[0m     \u001b[39m#  InvalidIndexError. Otherwise we fall through and re-raise\u001b[39;00m\n\u001b[1;32m   3627\u001b[0m     \u001b[39m#  the TypeError.\u001b[39;00m\n\u001b[1;32m   3628\u001b[0m     \u001b[39mself\u001b[39m\u001b[39m.\u001b[39m_check_indexing_error(key)\n",
      "\u001b[0;31mKeyError\u001b[0m: 'arguments'"
     ]
    }
   ],
   "source": [
    "# Try with a binary classifier\n",
    "vector = CountVectorizer()\n",
    "\n",
    "X = vector.fit_transform(df[\"arguments\"])\n",
    "y = df[\"actor_label\"].to_numpy()\n",
    "print(y)\n",
    "\n",
    "# Convert labels to numbers\n",
    "id2label = {i: label for i, label in enumerate(np.unique(y))}\n",
    "label2id = {label: i for i, label in id2label.items()}\n",
    "\n",
    "print(label2id)\n",
    "\n",
    "y = np.array([label2id[label] for label in y])\n",
    "\n",
    "# Remove set all labels that are not 3 (Interessegruppe) to 0\n",
    "y = np.where(y == 5, 1, 0)\n",
    "\n",
    "X_train, X_test, y_train, y_test = train_test_split(X, y, test_size=0.4, random_state=42)"
   ]
  },
  {
   "cell_type": "code",
   "execution_count": null,
   "metadata": {},
   "outputs": [
    {
     "name": "stdout",
     "output_type": "stream",
     "text": [
      "0.8750962851440776\n"
     ]
    }
   ],
   "source": [
    "mnb = MultinomialNB()\n",
    "\n",
    "model = mnb.fit(X_train, y_train)\n",
    "\n",
    "y_pred = model.predict(X_test)\n",
    "y_pred = y_pred.reshape(-1, 1)\n",
    "\n",
    "print(accuracy(y_test, y_pred))"
   ]
  },
  {
   "cell_type": "code",
   "execution_count": null,
   "metadata": {},
   "outputs": [
    {
     "data": {
      "text/plain": [
       "<Axes: >"
      ]
     },
     "execution_count": 287,
     "metadata": {},
     "output_type": "execute_result"
    },
    {
     "data": {
      "image/png": "[encoded data removed]",
      "text/plain": [
       "<Figure size 640x480 with 2 Axes>"
      ]
     },
     "metadata": {},
     "output_type": "display_data"
    }
   ],
   "source": [
    "# Confusion matrix\n",
    "conf_mat = confusion_matrix(y_test, y_pred)\n",
    "sns.heatmap(conf_mat, annot=True, fmt='d', cmap='Blues')"
   ]
  },
  {
   "cell_type": "markdown",
   "metadata": {},
   "source": [
    "## SVM"
   ]
  },
  {
   "cell_type": "code",
   "execution_count": null,
   "metadata": {},
   "outputs": [],
   "source": []
  }
 ],
 "metadata": {
  "kernelspec": {
   "display_name": "TDT4310",
   "language": "python",
   "name": "python3"
  },
  "language_info": {
   "codemirror_mode": {
    "name": "ipython",
    "version": 3
   },
   "file_extension": ".py",
   "mimetype": "text/x-python",
   "name": "python",
   "nbconvert_exporter": "python",
   "pygments_lexer": "ipython3",
   "version": "3.9.12"
  }
 },
 "nbformat": 4,
 "nbformat_minor": 2
}
