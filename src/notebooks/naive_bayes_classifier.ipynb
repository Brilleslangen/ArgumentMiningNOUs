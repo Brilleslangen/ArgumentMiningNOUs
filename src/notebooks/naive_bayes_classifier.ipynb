{
 "cells": [
  {
   "cell_type": "code",
   "execution_count": 52,
   "metadata": {},
   "outputs": [],
   "source": [
    "from sklearn.naive_bayes import MultinomialNB\n",
    "from sklearn.feature_extraction.text import TfidfVectorizer,CountVectorizer\n",
    "from sklearn.metrics import confusion_matrix\n",
    "from sklearn.model_selection import train_test_split\n",
    "import seaborn as sns\n",
    "\n",
    "import pandas as pd\n",
    "import numpy as np"
   ]
  },
  {
   "cell_type": "code",
   "execution_count": 53,
   "metadata": {},
   "outputs": [
    {
     "name": "stdout",
     "output_type": "stream",
     "text": [
      "(3380, 4)\n"
     ]
    },
    {
     "data": {
      "text/html": [
       "<div>\n",
       "<style scoped>\n",
       "    .dataframe tbody tr th:only-of-type {\n",
       "        vertical-align: middle;\n",
       "    }\n",
       "\n",
       "    .dataframe tbody tr th {\n",
       "        vertical-align: top;\n",
       "    }\n",
       "\n",
       "    .dataframe thead th {\n",
       "        text-align: right;\n",
       "    }\n",
       "</style>\n",
       "<table border=\"1\" class=\"dataframe\">\n",
       "  <thead>\n",
       "    <tr style=\"text-align: right;\">\n",
       "      <th></th>\n",
       "      <th>paragraph</th>\n",
       "      <th>text</th>\n",
       "      <th>actor</th>\n",
       "      <th>label</th>\n",
       "    </tr>\n",
       "  </thead>\n",
       "  <tbody>\n",
       "    <tr>\n",
       "      <th>300</th>\n",
       "      <td>6. Det er også viktig å se Norge i en global s...</td>\n",
       "      <td>[\"Norway's per capita emissions are 7.5 tons o...</td>\n",
       "      <td>Bergen INP</td>\n",
       "      <td>Politisk parti</td>\n",
       "    </tr>\n",
       "    <tr>\n",
       "      <th>301</th>\n",
       "      <td>6. Det er også viktig å se Norge i en global s...</td>\n",
       "      <td>[\"Norway's per capita emissions are 7.5 tons o...</td>\n",
       "      <td>Person som ikke har oppgitt navn (140397)</td>\n",
       "      <td>Privatperson</td>\n",
       "    </tr>\n",
       "    <tr>\n",
       "      <th>302</th>\n",
       "      <td>6. Det er også viktig å se Norge i en global s...</td>\n",
       "      <td>[\"Norway's per capita emissions are 7.5 tons o...</td>\n",
       "      <td>Person som ikke har oppgitt navn (143385)</td>\n",
       "      <td>Privatperson</td>\n",
       "    </tr>\n",
       "    <tr>\n",
       "      <th>303</th>\n",
       "      <td>6. Det er også viktig å se Norge i en global s...</td>\n",
       "      <td>[\"Norway's per capita emissions are 7.5 tons o...</td>\n",
       "      <td>Person som ikke har oppgitt navn (183356)</td>\n",
       "      <td>Privatperson</td>\n",
       "    </tr>\n",
       "    <tr>\n",
       "      <th>304</th>\n",
       "      <td>6. Det er også viktig å se Norge i en global s...</td>\n",
       "      <td>[\"Norway's per capita emissions are 7.5 tons o...</td>\n",
       "      <td>Stig Eidesmo</td>\n",
       "      <td>Privatperson</td>\n",
       "    </tr>\n",
       "    <tr>\n",
       "      <th>...</th>\n",
       "      <td>...</td>\n",
       "      <td>...</td>\n",
       "      <td>...</td>\n",
       "      <td>...</td>\n",
       "    </tr>\n",
       "    <tr>\n",
       "      <th>3375</th>\n",
       "      <td>Zero støtter utvalgets syn på viktigheten av å...</td>\n",
       "      <td>Å hente på bedre og mer samordnet areal- og tr...</td>\n",
       "      <td>ZERO</td>\n",
       "      <td>Frivillig organisasjon</td>\n",
       "    </tr>\n",
       "    <tr>\n",
       "      <th>3376</th>\n",
       "      <td>Det finnes også andre måter å minimere eller e...</td>\n",
       "      <td>Digitale løsninger Samordning av logistikk og ...</td>\n",
       "      <td>ZERO</td>\n",
       "      <td>Frivillig organisasjon</td>\n",
       "    </tr>\n",
       "    <tr>\n",
       "      <th>3377</th>\n",
       "      <td>Samtidig er det viktig å både holde fast på kl...</td>\n",
       "      <td>klimamålene kan bare innfris gjennom et aksele...</td>\n",
       "      <td>ZERO</td>\n",
       "      <td>Frivillig organisasjon</td>\n",
       "    </tr>\n",
       "    <tr>\n",
       "      <th>3378</th>\n",
       "      <td>Alle prosjekter som skal inn i NTP må kunne re...</td>\n",
       "      <td>Alle prosjekter som skal inn i NTP må kunne re...</td>\n",
       "      <td>ZERO</td>\n",
       "      <td>Frivillig organisasjon</td>\n",
       "    </tr>\n",
       "    <tr>\n",
       "      <th>3379</th>\n",
       "      <td>Vi bør også få på plass et totalt utslippsbuds...</td>\n",
       "      <td>Et slikt budsjett vil sikre en samlet oversikt...</td>\n",
       "      <td>ZERO</td>\n",
       "      <td>Frivillig organisasjon</td>\n",
       "    </tr>\n",
       "  </tbody>\n",
       "</table>\n",
       "<p>3080 rows × 4 columns</p>\n",
       "</div>"
      ],
      "text/plain": [
       "                                              paragraph  \\\n",
       "300   6. Det er også viktig å se Norge i en global s...   \n",
       "301   6. Det er også viktig å se Norge i en global s...   \n",
       "302   6. Det er også viktig å se Norge i en global s...   \n",
       "303   6. Det er også viktig å se Norge i en global s...   \n",
       "304   6. Det er også viktig å se Norge i en global s...   \n",
       "...                                                 ...   \n",
       "3375  Zero støtter utvalgets syn på viktigheten av å...   \n",
       "3376  Det finnes også andre måter å minimere eller e...   \n",
       "3377  Samtidig er det viktig å både holde fast på kl...   \n",
       "3378  Alle prosjekter som skal inn i NTP må kunne re...   \n",
       "3379  Vi bør også få på plass et totalt utslippsbuds...   \n",
       "\n",
       "                                                   text  \\\n",
       "300   [\"Norway's per capita emissions are 7.5 tons o...   \n",
       "301   [\"Norway's per capita emissions are 7.5 tons o...   \n",
       "302   [\"Norway's per capita emissions are 7.5 tons o...   \n",
       "303   [\"Norway's per capita emissions are 7.5 tons o...   \n",
       "304   [\"Norway's per capita emissions are 7.5 tons o...   \n",
       "...                                                 ...   \n",
       "3375  Å hente på bedre og mer samordnet areal- og tr...   \n",
       "3376  Digitale løsninger Samordning av logistikk og ...   \n",
       "3377  klimamålene kan bare innfris gjennom et aksele...   \n",
       "3378  Alle prosjekter som skal inn i NTP må kunne re...   \n",
       "3379  Et slikt budsjett vil sikre en samlet oversikt...   \n",
       "\n",
       "                                          actor                   label  \n",
       "300                                  Bergen INP          Politisk parti  \n",
       "301   Person som ikke har oppgitt navn (140397)            Privatperson  \n",
       "302   Person som ikke har oppgitt navn (143385)            Privatperson  \n",
       "303   Person som ikke har oppgitt navn (183356)            Privatperson  \n",
       "304                                Stig Eidesmo            Privatperson  \n",
       "...                                         ...                     ...  \n",
       "3375                                       ZERO  Frivillig organisasjon  \n",
       "3376                                       ZERO  Frivillig organisasjon  \n",
       "3377                                       ZERO  Frivillig organisasjon  \n",
       "3378                                       ZERO  Frivillig organisasjon  \n",
       "3379                                       ZERO  Frivillig organisasjon  \n",
       "\n",
       "[3080 rows x 4 columns]"
      ]
     },
     "execution_count": 53,
     "metadata": {},
     "output_type": "execute_result"
    }
   ],
   "source": [
    "df = pd.read_csv('../../dataset/cleaned_arguments_in_context_learning.csv')\n",
    "print(df.shape)\n",
    "# Drop rows with empty lists\n",
    "df.loc[300:]"
   ]
  },
  {
   "cell_type": "code",
   "execution_count": 54,
   "metadata": {},
   "outputs": [],
   "source": [
    "def accuracy(y_true, y_pred):\n",
    "    return np.mean(y_true == y_pred)"
   ]
  },
  {
   "cell_type": "code",
   "execution_count": 55,
   "metadata": {},
   "outputs": [
    {
     "name": "stdout",
     "output_type": "stream",
     "text": [
      "['Interessegruppe' 'Interessegruppe' 'Interessegruppe' ...\n",
      " 'Frivillig organisasjon' 'Frivillig organisasjon'\n",
      " 'Frivillig organisasjon']\n",
      "[5 6 5 ... 4 3 5]\n"
     ]
    }
   ],
   "source": [
    "vector = TfidfVectorizer()\n",
    "\n",
    "X = vector.fit_transform(df[\"text\"])\n",
    "y = df[\"label\"].to_numpy()\n",
    "print(y)\n",
    "\n",
    "# Convert labels to numbers\n",
    "id2label = {i: label for i, label in enumerate(np.unique(y))}\n",
    "label2id = {label: i for i, label in id2label.items()}\n",
    "\n",
    "y = np.array([label2id[label] for label in y])\n",
    "\n",
    "X_train, X_test, y_train, y_test = train_test_split(X, y, test_size=0.2, random_state=42)\n",
    "print(y_train)"
   ]
  },
  {
   "cell_type": "code",
   "execution_count": 56,
   "metadata": {},
   "outputs": [
    {
     "name": "stdout",
     "output_type": "stream",
     "text": [
      "0.3117428486397535\n"
     ]
    }
   ],
   "source": [
    "mnb = MultinomialNB()\n",
    "\n",
    "model = mnb.fit(X_train, y_train)\n",
    "\n",
    "y_pred = model.predict(X_test)\n",
    "y_pred = np.array(y_pred)\n",
    "y_pred = y_pred.reshape(-1, 1)\n",
    "print(accuracy(y_test, y_pred))\n"
   ]
  },
  {
   "cell_type": "code",
   "execution_count": 57,
   "metadata": {},
   "outputs": [
    {
     "data": {
      "text/plain": [
       "<Axes: >"
      ]
     },
     "execution_count": 57,
     "metadata": {},
     "output_type": "execute_result"
    },
    {
     "data": {
      "image/png": "[encoded data removed]",
      "text/plain": [
       "<Figure size 640x480 with 2 Axes>"
      ]
     },
     "metadata": {},
     "output_type": "display_data"
    }
   ],
   "source": [
    "# Convert ids to labels\n",
    "def ids_to_labels(y, id2label):\n",
    "\n",
    "    labels = [id2label[i] for i in np.unique(y)]\n",
    "    \n",
    "\n",
    "# Confusion matrix\n",
    "conf_mat = confusion_matrix(y_test, y_pred)\n",
    "labels = [id2label[i] for i in np.unique(y)]\n",
    "sns.heatmap(conf_mat, annot=True, fmt='d', cmap='Blues')"
   ]
  },
  {
   "cell_type": "markdown",
   "metadata": {},
   "source": [
    "## MNB with count vectorizer"
   ]
  },
  {
   "cell_type": "code",
   "execution_count": null,
   "metadata": {},
   "outputs": [],
   "source": [
    "vector = CountVectorizer()\n",
    "\n",
    "X = vector.fit_transform(df[\"text\"])\n",
    "y = df[\"label\"].to_numpy()\n",
    "print(y)\n",
    "\n",
    "# Convert labels to numbers\n",
    "id2label = {i: label for i, label in enumerate(np.unique(y))}\n",
    "label2id = {label: i for i, label in id2label.items()}\n",
    "\n",
    "y = np.array([label2id[label] for label in y])\n",
    "\n",
    "X_train, X_test, y_train, y_test = train_test_split(X, y, test_size=0.2, random_state=42)\n",
    "print(y_train)"
   ]
  },
  {
   "cell_type": "code",
   "execution_count": 58,
   "metadata": {},
   "outputs": [
    {
     "name": "stdout",
     "output_type": "stream",
     "text": [
      "['Interessegruppe' 'Interessegruppe' 'Interessegruppe' ...\n",
      " 'Frivillig organisasjon' 'Frivillig organisasjon'\n",
      " 'Frivillig organisasjon']\n",
      "{'Akademisk institusjon': 0, 'Bedrift': 1, 'Frivillig organisasjon': 2, 'Interessegruppe': 3, 'Offentlig forvaltning': 4, 'Politisk parti': 5, 'Privatperson': 6}\n"
     ]
    }
   ],
   "source": [
    "# Try with a binary classifier\n",
    "vector = TfidfVectorizer()\n",
    "\n",
    "X = vector.fit_transform(df[\"text\"])\n",
    "y = df[\"label\"].to_numpy()\n",
    "print(y)\n",
    "\n",
    "# Convert labels to numbers\n",
    "id2label = {i: label for i, label in enumerate(np.unique(y))}\n",
    "label2id = {label: i for i, label in id2label.items()}\n",
    "\n",
    "print(label2id)\n",
    "\n",
    "y = np.array([label2id[label] for label in y])\n",
    "\n",
    "# Remove set all labels that are not 3 (Interessegruppe) to 0\n",
    "y = np.where(y == 5, 1, 0)\n",
    "\n",
    "X_train, X_test, y_train, y_test = train_test_split(X, y, test_size=0.4, random_state=42)"
   ]
  },
  {
   "cell_type": "code",
   "execution_count": 59,
   "metadata": {},
   "outputs": [
    {
     "name": "stdout",
     "output_type": "stream",
     "text": [
      "0.9138357375442037\n"
     ]
    }
   ],
   "source": [
    "mnb = MultinomialNB()\n",
    "\n",
    "model = mnb.fit(X_train, y_train)\n",
    "\n",
    "y_pred = model.predict(X_test)\n",
    "y_pred = y_pred.reshape(-1, 1)\n",
    "\n",
    "print(accuracy(y_test, y_pred))"
   ]
  },
  {
   "cell_type": "code",
   "execution_count": 60,
   "metadata": {},
   "outputs": [
    {
     "data": {
      "text/plain": [
       "<Axes: >"
      ]
     },
     "execution_count": 60,
     "metadata": {},
     "output_type": "execute_result"
    },
    {
     "data": {
      "image/png": "[encoded data removed]",
      "text/plain": [
       "<Figure size 640x480 with 2 Axes>"
      ]
     },
     "metadata": {},
     "output_type": "display_data"
    }
   ],
   "source": [
    "# Confusion matrix\n",
    "conf_mat = confusion_matrix(y_test, y_pred)\n",
    "sns.heatmap(conf_mat, annot=True, fmt='d', cmap='Blues')\n"
   ]
  },
  {
   "cell_type": "code",
   "execution_count": 61,
   "metadata": {},
   "outputs": [
    {
     "ename": "KeyError",
     "evalue": "'arguments'",
     "output_type": "error",
     "traceback": [
      "\u001b[1;31m---------------------------------------------------------------------------\u001b[0m",
      "\u001b[1;31mKeyError\u001b[0m                                  Traceback (most recent call last)",
      "File \u001b[1;32mc:\\Users\\henriklarsen\\anaconda3\\envs\\TDT4310\\Lib\\site-packages\\pandas\\core\\indexes\\base.py:3805\u001b[0m, in \u001b[0;36mIndex.get_loc\u001b[1;34m(self, key)\u001b[0m\n\u001b[0;32m   3804\u001b[0m \u001b[38;5;28;01mtry\u001b[39;00m:\n\u001b[1;32m-> 3805\u001b[0m     \u001b[38;5;28;01mreturn\u001b[39;00m \u001b[38;5;28;43mself\u001b[39;49m\u001b[38;5;241;43m.\u001b[39;49m\u001b[43m_engine\u001b[49m\u001b[38;5;241;43m.\u001b[39;49m\u001b[43mget_loc\u001b[49m\u001b[43m(\u001b[49m\u001b[43mcasted_key\u001b[49m\u001b[43m)\u001b[49m\n\u001b[0;32m   3806\u001b[0m \u001b[38;5;28;01mexcept\u001b[39;00m \u001b[38;5;167;01mKeyError\u001b[39;00m \u001b[38;5;28;01mas\u001b[39;00m err:\n",
      "File \u001b[1;32mindex.pyx:167\u001b[0m, in \u001b[0;36mpandas._libs.index.IndexEngine.get_loc\u001b[1;34m()\u001b[0m\n",
      "File \u001b[1;32mindex.pyx:196\u001b[0m, in \u001b[0;36mpandas._libs.index.IndexEngine.get_loc\u001b[1;34m()\u001b[0m\n",
      "File \u001b[1;32mpandas\\\\_libs\\\\hashtable_class_helper.pxi:7081\u001b[0m, in \u001b[0;36mpandas._libs.hashtable.PyObjectHashTable.get_item\u001b[1;34m()\u001b[0m\n",
      "File \u001b[1;32mpandas\\\\_libs\\\\hashtable_class_helper.pxi:7089\u001b[0m, in \u001b[0;36mpandas._libs.hashtable.PyObjectHashTable.get_item\u001b[1;34m()\u001b[0m\n",
      "\u001b[1;31mKeyError\u001b[0m: 'arguments'",
      "\nThe above exception was the direct cause of the following exception:\n",
      "\u001b[1;31mKeyError\u001b[0m                                  Traceback (most recent call last)",
      "Cell \u001b[1;32mIn[61], line 4\u001b[0m\n\u001b[0;32m      1\u001b[0m \u001b[38;5;66;03m# Try with a binary classifier\u001b[39;00m\n\u001b[0;32m      2\u001b[0m vector \u001b[38;5;241m=\u001b[39m CountVectorizer()\n\u001b[1;32m----> 4\u001b[0m X \u001b[38;5;241m=\u001b[39m vector\u001b[38;5;241m.\u001b[39mfit_transform(\u001b[43mdf\u001b[49m\u001b[43m[\u001b[49m\u001b[38;5;124;43m\"\u001b[39;49m\u001b[38;5;124;43marguments\u001b[39;49m\u001b[38;5;124;43m\"\u001b[39;49m\u001b[43m]\u001b[49m)\n\u001b[0;32m      5\u001b[0m y \u001b[38;5;241m=\u001b[39m df[\u001b[38;5;124m\"\u001b[39m\u001b[38;5;124mactor_label\u001b[39m\u001b[38;5;124m\"\u001b[39m]\u001b[38;5;241m.\u001b[39mto_numpy()\n\u001b[0;32m      6\u001b[0m \u001b[38;5;28mprint\u001b[39m(y)\n",
      "File \u001b[1;32mc:\\Users\\henriklarsen\\anaconda3\\envs\\TDT4310\\Lib\\site-packages\\pandas\\core\\frame.py:4090\u001b[0m, in \u001b[0;36mDataFrame.__getitem__\u001b[1;34m(self, key)\u001b[0m\n\u001b[0;32m   4088\u001b[0m \u001b[38;5;28;01mif\u001b[39;00m \u001b[38;5;28mself\u001b[39m\u001b[38;5;241m.\u001b[39mcolumns\u001b[38;5;241m.\u001b[39mnlevels \u001b[38;5;241m>\u001b[39m \u001b[38;5;241m1\u001b[39m:\n\u001b[0;32m   4089\u001b[0m     \u001b[38;5;28;01mreturn\u001b[39;00m \u001b[38;5;28mself\u001b[39m\u001b[38;5;241m.\u001b[39m_getitem_multilevel(key)\n\u001b[1;32m-> 4090\u001b[0m indexer \u001b[38;5;241m=\u001b[39m \u001b[38;5;28;43mself\u001b[39;49m\u001b[38;5;241;43m.\u001b[39;49m\u001b[43mcolumns\u001b[49m\u001b[38;5;241;43m.\u001b[39;49m\u001b[43mget_loc\u001b[49m\u001b[43m(\u001b[49m\u001b[43mkey\u001b[49m\u001b[43m)\u001b[49m\n\u001b[0;32m   4091\u001b[0m \u001b[38;5;28;01mif\u001b[39;00m is_integer(indexer):\n\u001b[0;32m   4092\u001b[0m     indexer \u001b[38;5;241m=\u001b[39m [indexer]\n",
      "File \u001b[1;32mc:\\Users\\henriklarsen\\anaconda3\\envs\\TDT4310\\Lib\\site-packages\\pandas\\core\\indexes\\base.py:3812\u001b[0m, in \u001b[0;36mIndex.get_loc\u001b[1;34m(self, key)\u001b[0m\n\u001b[0;32m   3807\u001b[0m     \u001b[38;5;28;01mif\u001b[39;00m \u001b[38;5;28misinstance\u001b[39m(casted_key, \u001b[38;5;28mslice\u001b[39m) \u001b[38;5;129;01mor\u001b[39;00m (\n\u001b[0;32m   3808\u001b[0m         \u001b[38;5;28misinstance\u001b[39m(casted_key, abc\u001b[38;5;241m.\u001b[39mIterable)\n\u001b[0;32m   3809\u001b[0m         \u001b[38;5;129;01mand\u001b[39;00m \u001b[38;5;28many\u001b[39m(\u001b[38;5;28misinstance\u001b[39m(x, \u001b[38;5;28mslice\u001b[39m) \u001b[38;5;28;01mfor\u001b[39;00m x \u001b[38;5;129;01min\u001b[39;00m casted_key)\n\u001b[0;32m   3810\u001b[0m     ):\n\u001b[0;32m   3811\u001b[0m         \u001b[38;5;28;01mraise\u001b[39;00m InvalidIndexError(key)\n\u001b[1;32m-> 3812\u001b[0m     \u001b[38;5;28;01mraise\u001b[39;00m \u001b[38;5;167;01mKeyError\u001b[39;00m(key) \u001b[38;5;28;01mfrom\u001b[39;00m \u001b[38;5;21;01merr\u001b[39;00m\n\u001b[0;32m   3813\u001b[0m \u001b[38;5;28;01mexcept\u001b[39;00m \u001b[38;5;167;01mTypeError\u001b[39;00m:\n\u001b[0;32m   3814\u001b[0m     \u001b[38;5;66;03m# If we have a listlike key, _check_indexing_error will raise\u001b[39;00m\n\u001b[0;32m   3815\u001b[0m     \u001b[38;5;66;03m#  InvalidIndexError. Otherwise we fall through and re-raise\u001b[39;00m\n\u001b[0;32m   3816\u001b[0m     \u001b[38;5;66;03m#  the TypeError.\u001b[39;00m\n\u001b[0;32m   3817\u001b[0m     \u001b[38;5;28mself\u001b[39m\u001b[38;5;241m.\u001b[39m_check_indexing_error(key)\n",
      "\u001b[1;31mKeyError\u001b[0m: 'arguments'"
     ]
    }
   ],
   "source": [
    "# Try with a binary classifier\n",
    "vector = CountVectorizer()\n",
    "\n",
    "X = vector.fit_transform(df[\"arguments\"])\n",
    "y = df[\"actor_label\"].to_numpy()\n",
    "print(y)\n",
    "\n",
    "# Convert labels to numbers\n",
    "id2label = {i: label for i, label in enumerate(np.unique(y))}\n",
    "label2id = {label: i for i, label in id2label.items()}\n",
    "\n",
    "print(label2id)\n",
    "\n",
    "y = np.array([label2id[label] for label in y])\n",
    "\n",
    "# Remove set all labels that are not 3 (Interessegruppe) to 0\n",
    "y = np.where(y == 5, 1, 0)\n",
    "\n",
    "X_train, X_test, y_train, y_test = train_test_split(X, y, test_size=0.4, random_state=42)"
   ]
  },
  {
   "cell_type": "code",
   "execution_count": null,
   "metadata": {},
   "outputs": [
    {
     "name": "stdout",
     "output_type": "stream",
     "text": [
      "0.8750962851440776\n"
     ]
    }
   ],
   "source": [
    "mnb = MultinomialNB()\n",
    "\n",
    "model = mnb.fit(X_train, y_train)\n",
    "\n",
    "y_pred = model.predict(X_test)\n",
    "y_pred = y_pred.reshape(-1, 1)\n",
    "\n",
    "print(accuracy(y_test, y_pred))"
   ]
  },
  {
   "cell_type": "code",
   "execution_count": null,
   "metadata": {},
   "outputs": [
    {
     "data": {
      "text/plain": [
       "<Axes: >"
      ]
     },
     "execution_count": 287,
     "metadata": {},
     "output_type": "execute_result"
    },
    {
     "data": {
      "image/png": "[encoded data removed]",
      "text/plain": [
       "<Figure size 640x480 with 2 Axes>"
      ]
     },
     "metadata": {},
     "output_type": "display_data"
    }
   ],
   "source": [
    "# Confusion matrix\n",
    "conf_mat = confusion_matrix(y_test, y_pred)\n",
    "sns.heatmap(conf_mat, annot=True, fmt='d', cmap='Blues')"
   ]
  },
  {
   "cell_type": "markdown",
   "metadata": {},
   "source": [
    "## SVM"
   ]
  },
  {
   "cell_type": "code",
   "execution_count": null,
   "metadata": {},
   "outputs": [],
   "source": []
  }
 ],
 "metadata": {
  "kernelspec": {
   "display_name": "TDT4310",
   "language": "python",
   "name": "python3"
  },
  "language_info": {
   "codemirror_mode": {
    "name": "ipython",
    "version": 3
   },
   "file_extension": ".py",
   "mimetype": "text/x-python",
   "name": "python",
   "nbconvert_exporter": "python",
   "pygments_lexer": "ipython3",
   "version": "3.12.2"
  }
 },
 "nbformat": 4,
 "nbformat_minor": 2
}
