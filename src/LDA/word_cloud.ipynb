{
 "cells": [
  {
   "cell_type": "code",
   "execution_count": 1,
   "metadata": {},
   "outputs": [],
   "source": [
    "import pandas as pd\n",
    "import spacy\n",
    "from gensim import corpora, models\n",
    "from gensim.corpora import Dictionary\n",
    "from gensim.models import CoherenceModel\n",
    "from matplotlib import pyplot as plt\n",
    "from tqdm import tqdm\n",
    "import wordcloud"
   ]
  },
  {
   "cell_type": "code",
   "execution_count": 2,
   "metadata": {},
   "outputs": [
    {
     "data": {
      "text/plain": [
       "[(0,\n",
       "  '0.021*\"krav\" + 0.020*\"støtte\" + 0.017*\"virkemiddel\" + 0.016*\"burde\" + 0.014*\"utvalg\" + 0.011*\"bruk\" + 0.011*\"vurdere\" + 0.010*\"sirkulær\" + 0.010*\"derfor\" + 0.009*\"bygg\"'),\n",
       " (1,\n",
       "  '0.017*\"natur\" + 0.011*\"tap\" + 0.011*\"øke\" + 0.010*\"utvalg\" + 0.010*\"burde\" + 0.009*\"klimagassutslipp\" + 0.009*\"økosystem\" + 0.009*\"viktig\" + 0.009*\"sammenheng\" + 0.008*\"areale\"'),\n",
       " (2,\n",
       "  '0.018*\"energi\" + 0.014*\"fornybar\" + 0.012*\"norge\" + 0.010*\"stor\" + 0.010*\"bruk\" + 0.010*\"øke\" + 0.010*\"liten\" + 0.009*\"behov\" + 0.009*\"infrastruktur\" + 0.009*\"mulig\"'),\n",
       " (3,\n",
       "  '0.017*\"utvalg\" + 0.015*\"omstilling\" + 0.012*\"norge\" + 0.012*\"ta\" + 0.011*\"utslippskutt\" + 0.009*\"peke\" + 0.009*\"redusere\" + 0.008*\"endring\" + 0.008*\"lavutslippssamfunn\" + 0.008*\"frem\"'),\n",
       " (4,\n",
       "  '0.066*\"omstilling\" + 0.061*\"nou\" + 0.056*\"klimapolitikk\" + 0.054*\"veivalg\" + 0.052*\"klimautvalget\" + 0.051*\"lavutslipp\" + 0.036*\"rapport\" + 0.033*\"innspill\" + 0.022*\"høring\" + 0.020*\"høringssvar\"'),\n",
       " (5,\n",
       "  '0.029*\"gass\" + 0.028*\"petroleumsvirksomhet\" + 0.024*\"strategi\" + 0.019*\"hva\" + 0.018*\"norsk\" + 0.018*\"ha\" + 0.017*\"eu\" + 0.016*\"norge\" + 0.014*\"mangle\" + 0.014*\"leverandør\"'),\n",
       " (6,\n",
       "  '0.014*\"natur\" + 0.013*\"klima\" + 0.009*\"norsk\" + 0.009*\"hvor\" + 0.009*\"derfor\" + 0.009*\"ressurs\" + 0.009*\"norge\" + 0.008*\"utvalg\" + 0.008*\"all\" + 0.008*\"miljø\"'),\n",
       " (7,\n",
       "  '0.028*\"utslipp\" + 0.020*\"norsk\" + 0.018*\"norge\" + 0.015*\"redusere\" + 0.013*\"produksjon\" + 0.012*\"matproduksjon\" + 0.012*\"burde\" + 0.011*\"produsere\" + 0.011*\"øke\" + 0.009*\"basere\"'),\n",
       " (8,\n",
       "  '0.047*\"ein\" + 0.029*\"ikkje\" + 0.023*\"dei\" + 0.022*\"økonomisk\" + 0.021*\"samfunn\" + 0.020*\"økonomi\" + 0.018*\"rapport\" + 0.015*\"samfunnsmessig\" + 0.015*\"en\" + 0.015*\"vert\"'),\n",
       " (9,\n",
       "  '0.020*\"norsk\" + 0.014*\"to\" + 0.014*\"the\" + 0.011*\"of\" + 0.011*\"prosjekt\" + 0.011*\"marked\" + 0.010*\"skape\" + 0.009*\"industri\" + 0.009*\"produkt\" + 0.009*\"høy\"'),\n",
       " (10,\n",
       "  '0.026*\"global\" + 0.018*\"effekt\" + 0.014*\"uansett\" + 0.013*\"parisavtalen\" + 0.013*\"beregne\" + 0.013*\"per\" + 0.012*\"negativ\" + 0.012*\"henhold\" + 0.012*\"million\" + 0.011*\"jo\"'),\n",
       " (11,\n",
       "  '0.036*\"norge\" + 0.023*\"utvalg\" + 0.019*\"utslipp\" + 0.018*\"mål\" + 0.015*\"klimamål\" + 0.015*\"norsk\" + 0.014*\"hvilken\" + 0.012*\"eu\" + 0.011*\"lavutslippssamfunn\" + 0.011*\"klimapolitikk\"'),\n",
       " (12,\n",
       "  '0.019*\"omstilling\" + 0.013*\"bidra\" + 0.011*\"kompetanse\" + 0.010*\"grønn\" + 0.009*\"samarbeid\" + 0.009*\"øke\" + 0.009*\"behov\" + 0.008*\"kreve\" + 0.008*\"etablere\" + 0.008*\"offentlig\"'),\n",
       " (13,\n",
       "  '0.025*\"fremme\" + 0.021*\"punkt\" + 0.016*\"inp\" + 0.014*\"innovasjon\" + 0.014*\"forslag\" + 0.014*\"sp\" + 0.013*\"stemme\" + 0.013*\"milliard\" + 0.012*\"dyr\" + 0.012*\"unødvendig\"'),\n",
       " (14,\n",
       "  '0.030*\"utslipp\" + 0.023*\"redusere\" + 0.017*\"skog\" + 0.016*\"opptak\" + 0.016*\"forhold\" + 0.014*\"tonn\" + 0.013*\"norsk\" + 0.013*\"liten\" + 0.012*\"norge\" + 0.011*\"miljødirektoratet\"'),\n",
       " (15,\n",
       "  '0.020*\"omstilling\" + 0.020*\"kommune\" + 0.019*\"bidra\" + 0.017*\"redusere\" + 0.017*\"miljø\" + 0.016*\"vedtak\" + 0.015*\"klima\" + 0.015*\"natur\" + 0.015*\"klimaomstilling\" + 0.014*\"gjerne\"'),\n",
       " (16,\n",
       "  '0.015*\"utvalg\" + 0.015*\"kommune\" + 0.013*\"tiltak\" + 0.012*\"lavutslippssamfunn\" + 0.012*\"helhetlig\" + 0.012*\"burde\" + 0.012*\"støtte\" + 0.010*\"nasjonal\" + 0.010*\"tydelig\" + 0.010*\"legge\"'),\n",
       " (17,\n",
       "  '0.032*\"kommune\" + 0.020*\"sette\" + 0.016*\"lokal\" + 0.014*\"krav\" + 0.014*\"feil\" + 0.013*\"rolle\" + 0.012*\"tidspunkt\" + 0.012*\"statsforvalter\" + 0.011*\"ansvar\" + 0.011*\"hos\"')]"
      ]
     },
     "execution_count": 2,
     "metadata": {},
     "output_type": "execute_result"
    }
   ],
   "source": [
    "# Load the model\n",
    "\n",
    "lda_model = models.LdaModel.load('LDA-save-18/LDA-model_18')\n",
    "lda_model.print_topics()"
   ]
  },
  {
   "cell_type": "code",
   "execution_count": 3,
   "metadata": {},
   "outputs": [
    {
     "ename": "",
     "evalue": "",
     "output_type": "error",
     "traceback": [
      "\u001b[1;31mThe Kernel crashed while executing code in the current cell or a previous cell. \n",
      "\u001b[1;31mPlease review the code in the cell(s) to identify a possible cause of the failure. \n",
      "\u001b[1;31mClick <a href='https://aka.ms/vscodeJupyterKernelCrash'>here</a> for more info. \n",
      "\u001b[1;31mView Jupyter <a href='command:jupyter.viewOutput'>log</a> for further details."
     ]
    }
   ],
   "source": [
    "# Create a wordcloud for each topic\n",
    "\n",
    "for i in range(18):\n",
    "    plt.figure()\n",
    "    plt.imshow(wordcloud.WordCloud().fit_words(dict(lda_model.show_topic(i, topn=20))))\n",
    "    plt.axis(\"off\")\n",
    "    plt.savefig(f\"wordclouds/wordcloud_{i}.png\")\n",
    "    plt.close()"
   ]
  }
 ],
 "metadata": {
  "kernelspec": {
   "display_name": "TDT4310",
   "language": "python",
   "name": "python3"
  },
  "language_info": {
   "codemirror_mode": {
    "name": "ipython",
    "version": 3
   },
   "file_extension": ".py",
   "mimetype": "text/x-python",
   "name": "python",
   "nbconvert_exporter": "python",
   "pygments_lexer": "ipython3",
   "version": "3.12.2"
  }
 },
 "nbformat": 4,
 "nbformat_minor": 2
}
