{
 "cells": [
  {
   "cell_type": "code",
   "execution_count": 30,
   "metadata": {},
   "outputs": [],
   "source": [
    "import spacy\n",
    "import random\n",
    "import pandas as pd\n",
    "\n",
    "from spacy.training.example import Example"
   ]
  },
  {
   "cell_type": "code",
   "execution_count": 31,
   "metadata": {},
   "outputs": [],
   "source": [
    "# Load the dataset\n",
    "\n",
    "df = pd.read_csv('../dataset/nou_hearings.csv')\n",
    "\n",
    "# Drop the columns that are not needed\n",
    "df = df[\"actor\"].unique()\n",
    "df = df[:10]"
   ]
  },
  {
   "cell_type": "code",
   "execution_count": 43,
   "metadata": {},
   "outputs": [],
   "source": [
    "from spacy.tokens import doc\n",
    "from thinc import loss\n",
    "\n",
    "\n",
    "nlp = spacy.load(\"nb_core_news_md\")\n",
    "\n",
    "ner = nlp.get_pipe(\"ner\")\n",
    "ner.add_label(\"ORG2\")\n",
    "# Data for training\n",
    "\n",
    "train_data = []\n",
    "for i in range(len(df)):\n",
    "    train_data.append((df[i], {\"entities\": [(0, len(df[i]), \"ORG\")]}))\n",
    "\n",
    "# Train the NER model\n",
    "optimizer = nlp.begin_training()\n",
    "\n",
    "for batch in spacy.util.minibatch(train_data, size=5):\n",
    "    for text, annotations in batch:\n",
    "        doc = nlp.make_doc(text)\n",
    "        example = Example.from_dict(doc, annotations)\n",
    "        ner.update([example], drop=0.3, sgd=optimizer)\n",
    "        #nlp.update([example], drop=0.3, sgd=optimizer)\n",
    "\n",
    "nlp.to_disk(\"models/nb_core_news_md_more_orgs\")\n"
   ]
  }
 ],
 "metadata": {
  "kernelspec": {
   "display_name": "TDT4310",
   "language": "python",
   "name": "python3"
  },
  "language_info": {
   "codemirror_mode": {
    "name": "ipython",
    "version": 3
   },
   "file_extension": ".py",
   "mimetype": "text/x-python",
   "name": "python",
   "nbconvert_exporter": "python",
   "pygments_lexer": "ipython3",
   "version": "3.12.2"
  }
 },
 "nbformat": 4,
 "nbformat_minor": 2
}
