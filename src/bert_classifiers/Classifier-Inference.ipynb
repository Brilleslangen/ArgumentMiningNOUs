{
 "cells": [
  {
   "cell_type": "markdown",
   "source": [
    "# Inference with classifiers"
   ],
   "metadata": {
    "collapsed": false
   },
   "id": "60e47fe747e4529a"
  },
  {
   "cell_type": "code",
   "execution_count": 13,
   "id": "initial_id",
   "metadata": {
    "collapsed": true,
    "ExecuteTime": {
     "end_time": "2024-04-20T17:33:45.555553Z",
     "start_time": "2024-04-20T17:33:45.553287Z"
    }
   },
   "outputs": [],
   "source": [
    "from Classifier import predict_dataset\n",
    "from src.util.helpers import load_dataset_from_csv\n",
    "import pandas as pd\n",
    "\n",
    "# Models\n",
    "raw_classifier = '../../classifiers/LDA-Classifier-Best'\n"
   ]
  },
  {
   "cell_type": "markdown",
   "source": [
    "NOU Paragraph Inference"
   ],
   "metadata": {
    "collapsed": false
   },
   "id": "4f6f13d589381a08"
  },
  {
   "cell_type": "code",
   "execution_count": 14,
   "outputs": [],
   "source": [
    "dataset, _ = load_dataset_from_csv(csv_path='../../dataset/LDA_Arguments.csv')\n",
    "test_df = dataset['test'].to_pandas()\n",
    "\n",
    "path = \"nou_predictions_of_test.csv\"\n",
    "pred_df = predict_dataset(model=raw_classifier, test_df=test_df)\n",
    "pred_df.to_csv(path)"
   ],
   "metadata": {
    "collapsed": false,
    "ExecuteTime": {
     "end_time": "2024-04-20T17:34:02.268196Z",
     "start_time": "2024-04-20T17:33:46.653783Z"
    }
   },
   "id": "a318fd68d211b3d9"
  },
  {
   "cell_type": "code",
   "execution_count": 15,
   "outputs": [
    {
     "data": {
      "text/plain": "     Unnamed: 0                                               text  label  \\\n0             0  Det ligger en stor vekst i investeringer i for...      2   \n1             1  Utvalget peker på at arealpolitikken må begren...      2   \n2             2  Jernbanedirektoratet er enig i at en sterkere ...      1   \n3             3  Det same gjer fleire klimatiltak. Dersom natur...      0   \n4             4  Spire mener det er viktig at klimafinansiering...      0   \n..          ...                                                ...    ...   \n99           99  Herbivory baseline estimates in Spanish Protec...      2   \n100         100  Transportsektoren vil frem mot 2050 stå for om...      0   \n101         101  Nettløsninger som gjør det mulig å tilknytte k...      2   \n102         102  1.6 GT til 830 MT utslipp) og et utslippstak p...      2   \n103         103  Dette kommer blant annet tydelig til uttrykk g...      5   \n\n     prediction  \n0             2  \n1             0  \n2             1  \n3             0  \n4             5  \n..          ...  \n99            2  \n100           0  \n101           2  \n102           2  \n103           5  \n\n[104 rows x 4 columns]",
      "text/html": "<div>\n<style scoped>\n    .dataframe tbody tr th:only-of-type {\n        vertical-align: middle;\n    }\n\n    .dataframe tbody tr th {\n        vertical-align: top;\n    }\n\n    .dataframe thead th {\n        text-align: right;\n    }\n</style>\n<table border=\"1\" class=\"dataframe\">\n  <thead>\n    <tr style=\"text-align: right;\">\n      <th></th>\n      <th>Unnamed: 0</th>\n      <th>text</th>\n      <th>label</th>\n      <th>prediction</th>\n    </tr>\n  </thead>\n  <tbody>\n    <tr>\n      <th>0</th>\n      <td>0</td>\n      <td>Det ligger en stor vekst i investeringer i for...</td>\n      <td>2</td>\n      <td>2</td>\n    </tr>\n    <tr>\n      <th>1</th>\n      <td>1</td>\n      <td>Utvalget peker på at arealpolitikken må begren...</td>\n      <td>2</td>\n      <td>0</td>\n    </tr>\n    <tr>\n      <th>2</th>\n      <td>2</td>\n      <td>Jernbanedirektoratet er enig i at en sterkere ...</td>\n      <td>1</td>\n      <td>1</td>\n    </tr>\n    <tr>\n      <th>3</th>\n      <td>3</td>\n      <td>Det same gjer fleire klimatiltak. Dersom natur...</td>\n      <td>0</td>\n      <td>0</td>\n    </tr>\n    <tr>\n      <th>4</th>\n      <td>4</td>\n      <td>Spire mener det er viktig at klimafinansiering...</td>\n      <td>0</td>\n      <td>5</td>\n    </tr>\n    <tr>\n      <th>...</th>\n      <td>...</td>\n      <td>...</td>\n      <td>...</td>\n      <td>...</td>\n    </tr>\n    <tr>\n      <th>99</th>\n      <td>99</td>\n      <td>Herbivory baseline estimates in Spanish Protec...</td>\n      <td>2</td>\n      <td>2</td>\n    </tr>\n    <tr>\n      <th>100</th>\n      <td>100</td>\n      <td>Transportsektoren vil frem mot 2050 stå for om...</td>\n      <td>0</td>\n      <td>0</td>\n    </tr>\n    <tr>\n      <th>101</th>\n      <td>101</td>\n      <td>Nettløsninger som gjør det mulig å tilknytte k...</td>\n      <td>2</td>\n      <td>2</td>\n    </tr>\n    <tr>\n      <th>102</th>\n      <td>102</td>\n      <td>1.6 GT til 830 MT utslipp) og et utslippstak p...</td>\n      <td>2</td>\n      <td>2</td>\n    </tr>\n    <tr>\n      <th>103</th>\n      <td>103</td>\n      <td>Dette kommer blant annet tydelig til uttrykk g...</td>\n      <td>5</td>\n      <td>5</td>\n    </tr>\n  </tbody>\n</table>\n<p>104 rows × 4 columns</p>\n</div>"
     },
     "execution_count": 15,
     "metadata": {},
     "output_type": "execute_result"
    }
   ],
   "source": [
    "path = \"nou_predictions_of_test.csv\"\n",
    "df = pd.read_csv(path)\n",
    "df"
   ],
   "metadata": {
    "collapsed": false,
    "ExecuteTime": {
     "end_time": "2024-04-20T17:34:02.312095Z",
     "start_time": "2024-04-20T17:34:02.248609Z"
    }
   },
   "id": "34368054472ded28"
  },
  {
   "cell_type": "code",
   "execution_count": null,
   "outputs": [],
   "source": [],
   "metadata": {
    "collapsed": false
   },
   "id": "984fb38a218dd21d"
  }
 ],
 "metadata": {
  "kernelspec": {
   "display_name": "Python 3",
   "language": "python",
   "name": "python3"
  },
  "language_info": {
   "codemirror_mode": {
    "name": "ipython",
    "version": 2
   },
   "file_extension": ".py",
   "mimetype": "text/x-python",
   "name": "python",
   "nbconvert_exporter": "python",
   "pygments_lexer": "ipython2",
   "version": "2.7.6"
  }
 },
 "nbformat": 4,
 "nbformat_minor": 5
}
