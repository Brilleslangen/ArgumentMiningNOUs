{
 "cells": [
  {
   "cell_type": "markdown",
   "source": [
    "# Inference with classifiers"
   ],
   "metadata": {
    "collapsed": false
   },
   "id": "60e47fe747e4529a"
  },
  {
   "cell_type": "code",
   "execution_count": 1,
   "id": "initial_id",
   "metadata": {
    "collapsed": true,
    "ExecuteTime": {
     "end_time": "2024-04-20T18:19:01.541700Z",
     "start_time": "2024-04-20T18:18:59.817463Z"
    }
   },
   "outputs": [],
   "source": [
    "from Classifier import produce_test_result_matrix "
   ]
  },
  {
   "cell_type": "markdown",
   "source": [
    "### NOU Paragraph Inference"
   ],
   "metadata": {
    "collapsed": false
   },
   "id": "4f6f13d589381a08"
  },
  {
   "cell_type": "code",
   "execution_count": 2,
   "outputs": [
    {
     "data": {
      "text/plain": "     Unnamed: 0                                               text  label  \\\n0             0  Norsk industri er enig med utvalget i at energ...      0   \n1             1  Utvalget anbefaler innføring av generell melde...      1   \n2             2  Økonomiske vurderinger: Omstilling av samfunne...      1   \n3             3  - Sette strengere krav og avgift til bruk av d...      3   \n4             4  Statkraft har ikke konkrete syn på hvordan sta...      2   \n..          ...                                                ...    ...   \n300         300  Statsforvalteren i Rogaland er i hovedsak enig...      1   \n301         301  Utvalget understreker at omstillingen til et l...      0   \n302         302  Kunstgressbaner er et annet eksempel. Viken fy...      1   \n303         303  Det er viktig å huske på at CO2-priskompensasj...      0   \n304         304  Og merk altså at viss Noreg hadde gjort som EU...      4   \n\n     prediction  \n0             0  \n1             0  \n2             1  \n3             3  \n4             2  \n..          ...  \n300           1  \n301           0  \n302           1  \n303           0  \n304           4  \n\n[305 rows x 4 columns]",
      "text/html": "<div>\n<style scoped>\n    .dataframe tbody tr th:only-of-type {\n        vertical-align: middle;\n    }\n\n    .dataframe tbody tr th {\n        vertical-align: top;\n    }\n\n    .dataframe thead th {\n        text-align: right;\n    }\n</style>\n<table border=\"1\" class=\"dataframe\">\n  <thead>\n    <tr style=\"text-align: right;\">\n      <th></th>\n      <th>Unnamed: 0</th>\n      <th>text</th>\n      <th>label</th>\n      <th>prediction</th>\n    </tr>\n  </thead>\n  <tbody>\n    <tr>\n      <th>0</th>\n      <td>0</td>\n      <td>Norsk industri er enig med utvalget i at energ...</td>\n      <td>0</td>\n      <td>0</td>\n    </tr>\n    <tr>\n      <th>1</th>\n      <td>1</td>\n      <td>Utvalget anbefaler innføring av generell melde...</td>\n      <td>1</td>\n      <td>0</td>\n    </tr>\n    <tr>\n      <th>2</th>\n      <td>2</td>\n      <td>Økonomiske vurderinger: Omstilling av samfunne...</td>\n      <td>1</td>\n      <td>1</td>\n    </tr>\n    <tr>\n      <th>3</th>\n      <td>3</td>\n      <td>- Sette strengere krav og avgift til bruk av d...</td>\n      <td>3</td>\n      <td>3</td>\n    </tr>\n    <tr>\n      <th>4</th>\n      <td>4</td>\n      <td>Statkraft har ikke konkrete syn på hvordan sta...</td>\n      <td>2</td>\n      <td>2</td>\n    </tr>\n    <tr>\n      <th>...</th>\n      <td>...</td>\n      <td>...</td>\n      <td>...</td>\n      <td>...</td>\n    </tr>\n    <tr>\n      <th>300</th>\n      <td>300</td>\n      <td>Statsforvalteren i Rogaland er i hovedsak enig...</td>\n      <td>1</td>\n      <td>1</td>\n    </tr>\n    <tr>\n      <th>301</th>\n      <td>301</td>\n      <td>Utvalget understreker at omstillingen til et l...</td>\n      <td>0</td>\n      <td>0</td>\n    </tr>\n    <tr>\n      <th>302</th>\n      <td>302</td>\n      <td>Kunstgressbaner er et annet eksempel. Viken fy...</td>\n      <td>1</td>\n      <td>1</td>\n    </tr>\n    <tr>\n      <th>303</th>\n      <td>303</td>\n      <td>Det er viktig å huske på at CO2-priskompensasj...</td>\n      <td>0</td>\n      <td>0</td>\n    </tr>\n    <tr>\n      <th>304</th>\n      <td>304</td>\n      <td>Og merk altså at viss Noreg hadde gjort som EU...</td>\n      <td>4</td>\n      <td>4</td>\n    </tr>\n  </tbody>\n</table>\n<p>305 rows × 4 columns</p>\n</div>"
     },
     "execution_count": 2,
     "metadata": {},
     "output_type": "execute_result"
    }
   ],
   "source": [
    "results = produce_test_result_matrix(dataset_name=\"nou_hearings.csv\", classifier_name=\"NicolaiSivesind/Raw-Classifier\", output_name=\"raw_inference_results.csv\")\n",
    "results"
   ],
   "metadata": {
    "collapsed": false,
    "ExecuteTime": {
     "end_time": "2024-04-20T18:19:22.317217Z",
     "start_time": "2024-04-20T18:19:01.542478Z"
    }
   },
   "id": "a318fd68d211b3d9"
  },
  {
   "cell_type": "markdown",
   "source": [
    "### NOU LDA Inference"
   ],
   "metadata": {
    "collapsed": false
   },
   "id": "5284ce9b61c08496"
  },
  {
   "cell_type": "code",
   "execution_count": 3,
   "outputs": [
    {
     "data": {
      "text/plain": "     Unnamed: 0                                               text  label  \\\n0             0  Det ligger en stor vekst i investeringer i for...      2   \n1             1  Utvalget peker på at arealpolitikken må begren...      2   \n2             2  Jernbanedirektoratet er enig i at en sterkere ...      1   \n3             3  Det same gjer fleire klimatiltak. Dersom natur...      0   \n4             4  Spire mener det er viktig at klimafinansiering...      0   \n..          ...                                                ...    ...   \n99           99  Herbivory baseline estimates in Spanish Protec...      2   \n100         100  Transportsektoren vil frem mot 2050 stå for om...      0   \n101         101  Nettløsninger som gjør det mulig å tilknytte k...      2   \n102         102  1.6 GT til 830 MT utslipp) og et utslippstak p...      2   \n103         103  Dette kommer blant annet tydelig til uttrykk g...      5   \n\n     prediction  \n0             2  \n1             0  \n2             1  \n3             0  \n4             5  \n..          ...  \n99            2  \n100           0  \n101           2  \n102           2  \n103           5  \n\n[104 rows x 4 columns]",
      "text/html": "<div>\n<style scoped>\n    .dataframe tbody tr th:only-of-type {\n        vertical-align: middle;\n    }\n\n    .dataframe tbody tr th {\n        vertical-align: top;\n    }\n\n    .dataframe thead th {\n        text-align: right;\n    }\n</style>\n<table border=\"1\" class=\"dataframe\">\n  <thead>\n    <tr style=\"text-align: right;\">\n      <th></th>\n      <th>Unnamed: 0</th>\n      <th>text</th>\n      <th>label</th>\n      <th>prediction</th>\n    </tr>\n  </thead>\n  <tbody>\n    <tr>\n      <th>0</th>\n      <td>0</td>\n      <td>Det ligger en stor vekst i investeringer i for...</td>\n      <td>2</td>\n      <td>2</td>\n    </tr>\n    <tr>\n      <th>1</th>\n      <td>1</td>\n      <td>Utvalget peker på at arealpolitikken må begren...</td>\n      <td>2</td>\n      <td>0</td>\n    </tr>\n    <tr>\n      <th>2</th>\n      <td>2</td>\n      <td>Jernbanedirektoratet er enig i at en sterkere ...</td>\n      <td>1</td>\n      <td>1</td>\n    </tr>\n    <tr>\n      <th>3</th>\n      <td>3</td>\n      <td>Det same gjer fleire klimatiltak. Dersom natur...</td>\n      <td>0</td>\n      <td>0</td>\n    </tr>\n    <tr>\n      <th>4</th>\n      <td>4</td>\n      <td>Spire mener det er viktig at klimafinansiering...</td>\n      <td>0</td>\n      <td>5</td>\n    </tr>\n    <tr>\n      <th>...</th>\n      <td>...</td>\n      <td>...</td>\n      <td>...</td>\n      <td>...</td>\n    </tr>\n    <tr>\n      <th>99</th>\n      <td>99</td>\n      <td>Herbivory baseline estimates in Spanish Protec...</td>\n      <td>2</td>\n      <td>2</td>\n    </tr>\n    <tr>\n      <th>100</th>\n      <td>100</td>\n      <td>Transportsektoren vil frem mot 2050 stå for om...</td>\n      <td>0</td>\n      <td>0</td>\n    </tr>\n    <tr>\n      <th>101</th>\n      <td>101</td>\n      <td>Nettløsninger som gjør det mulig å tilknytte k...</td>\n      <td>2</td>\n      <td>2</td>\n    </tr>\n    <tr>\n      <th>102</th>\n      <td>102</td>\n      <td>1.6 GT til 830 MT utslipp) og et utslippstak p...</td>\n      <td>2</td>\n      <td>2</td>\n    </tr>\n    <tr>\n      <th>103</th>\n      <td>103</td>\n      <td>Dette kommer blant annet tydelig til uttrykk g...</td>\n      <td>5</td>\n      <td>5</td>\n    </tr>\n  </tbody>\n</table>\n<p>104 rows × 4 columns</p>\n</div>"
     },
     "execution_count": 3,
     "metadata": {},
     "output_type": "execute_result"
    }
   ],
   "source": [
    "results = produce_test_result_matrix(dataset_name=\"LDA_Arguments.csv\", classifier_name=\"NicolaiSivesind/LDA-Classifier\", output_name=\"lda_inference_results.csv\")\n",
    "results"
   ],
   "metadata": {
    "collapsed": false,
    "ExecuteTime": {
     "end_time": "2024-04-20T18:19:27.257108Z",
     "start_time": "2024-04-20T18:19:22.317038Z"
    }
   },
   "id": "34368054472ded28"
  },
  {
   "cell_type": "markdown",
   "source": [
    "### NOU ICL Inference"
   ],
   "metadata": {
    "collapsed": false
   },
   "id": "fe9958742b2dd26d"
  },
  {
   "cell_type": "code",
   "execution_count": 4,
   "outputs": [
    {
     "data": {
      "text/plain": "     Unnamed: 0                                               text  label  \\\n0             0  Reduserer usikkerhet Gir private aktører forut...      0   \n1             1  Staten må legge til rette for at kommuner kan ...      5   \n2             2  Norge skal bli et lavutslippssamfunn innen 205...      1   \n3             3  Klimapolitikken må understøttes av et beslutni...      1   \n4             4  Skogen må regnes med i CO2-regnskapet, slik so...      4   \n..          ...                                                ...    ...   \n300         300  Kjernekraft er den energiformen som krever min...      0   \n301         301  Verdens økonomiske aktiviteter legger beslag p...      0   \n302         302  Målet for transportpolitikken er et effektivt,...      2   \n303         303  Vi trenger å starte arbeidet med omstillingen nå.      0   \n304         304  Regelverket er et hinder for å gå fra pilot ti...      0   \n\n     prediction  \n0             0  \n1             5  \n2             0  \n3             1  \n4             3  \n..          ...  \n300           0  \n301           0  \n302           2  \n303           0  \n304           0  \n\n[305 rows x 4 columns]",
      "text/html": "<div>\n<style scoped>\n    .dataframe tbody tr th:only-of-type {\n        vertical-align: middle;\n    }\n\n    .dataframe tbody tr th {\n        vertical-align: top;\n    }\n\n    .dataframe thead th {\n        text-align: right;\n    }\n</style>\n<table border=\"1\" class=\"dataframe\">\n  <thead>\n    <tr style=\"text-align: right;\">\n      <th></th>\n      <th>Unnamed: 0</th>\n      <th>text</th>\n      <th>label</th>\n      <th>prediction</th>\n    </tr>\n  </thead>\n  <tbody>\n    <tr>\n      <th>0</th>\n      <td>0</td>\n      <td>Reduserer usikkerhet Gir private aktører forut...</td>\n      <td>0</td>\n      <td>0</td>\n    </tr>\n    <tr>\n      <th>1</th>\n      <td>1</td>\n      <td>Staten må legge til rette for at kommuner kan ...</td>\n      <td>5</td>\n      <td>5</td>\n    </tr>\n    <tr>\n      <th>2</th>\n      <td>2</td>\n      <td>Norge skal bli et lavutslippssamfunn innen 205...</td>\n      <td>1</td>\n      <td>0</td>\n    </tr>\n    <tr>\n      <th>3</th>\n      <td>3</td>\n      <td>Klimapolitikken må understøttes av et beslutni...</td>\n      <td>1</td>\n      <td>1</td>\n    </tr>\n    <tr>\n      <th>4</th>\n      <td>4</td>\n      <td>Skogen må regnes med i CO2-regnskapet, slik so...</td>\n      <td>4</td>\n      <td>3</td>\n    </tr>\n    <tr>\n      <th>...</th>\n      <td>...</td>\n      <td>...</td>\n      <td>...</td>\n      <td>...</td>\n    </tr>\n    <tr>\n      <th>300</th>\n      <td>300</td>\n      <td>Kjernekraft er den energiformen som krever min...</td>\n      <td>0</td>\n      <td>0</td>\n    </tr>\n    <tr>\n      <th>301</th>\n      <td>301</td>\n      <td>Verdens økonomiske aktiviteter legger beslag p...</td>\n      <td>0</td>\n      <td>0</td>\n    </tr>\n    <tr>\n      <th>302</th>\n      <td>302</td>\n      <td>Målet for transportpolitikken er et effektivt,...</td>\n      <td>2</td>\n      <td>2</td>\n    </tr>\n    <tr>\n      <th>303</th>\n      <td>303</td>\n      <td>Vi trenger å starte arbeidet med omstillingen nå.</td>\n      <td>0</td>\n      <td>0</td>\n    </tr>\n    <tr>\n      <th>304</th>\n      <td>304</td>\n      <td>Regelverket er et hinder for å gå fra pilot ti...</td>\n      <td>0</td>\n      <td>0</td>\n    </tr>\n  </tbody>\n</table>\n<p>305 rows × 4 columns</p>\n</div>"
     },
     "execution_count": 4,
     "metadata": {},
     "output_type": "execute_result"
    }
   ],
   "source": [
    "results = produce_test_result_matrix(dataset_name=\"cleaned_arguments_in_context_learning.csv\", classifier_name=\"NicolaiSivesind/ICL-Classifier\", output_name=\"icl_inference_results.csv\")\n",
    "results"
   ],
   "metadata": {
    "collapsed": false,
    "ExecuteTime": {
     "end_time": "2024-04-20T18:19:37.678564Z",
     "start_time": "2024-04-20T18:19:27.250697Z"
    }
   },
   "id": "984fb38a218dd21d"
  },
  {
   "cell_type": "code",
   "execution_count": null,
   "outputs": [],
   "source": [],
   "metadata": {
    "collapsed": false
   },
   "id": "6b38f4eda29eb398"
  }
 ],
 "metadata": {
  "kernelspec": {
   "display_name": "Python 3",
   "language": "python",
   "name": "python3"
  },
  "language_info": {
   "codemirror_mode": {
    "name": "ipython",
    "version": 2
   },
   "file_extension": ".py",
   "mimetype": "text/x-python",
   "name": "python",
   "nbconvert_exporter": "python",
   "pygments_lexer": "ipython2",
   "version": "2.7.6"
  }
 },
 "nbformat": 4,
 "nbformat_minor": 5
}
