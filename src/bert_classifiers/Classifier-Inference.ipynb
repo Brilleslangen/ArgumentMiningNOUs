{
 "cells": [
  {
   "cell_type": "markdown",
   "source": [
    "# Inference with classifiers"
   ],
   "metadata": {
    "collapsed": false
   },
   "id": "60e47fe747e4529a"
  },
  {
   "cell_type": "code",
   "execution_count": 1,
   "id": "initial_id",
   "metadata": {
    "collapsed": true,
    "ExecuteTime": {
     "end_time": "2024-04-19T16:58:59.703238Z",
     "start_time": "2024-04-19T16:58:58.008058Z"
    }
   },
   "outputs": [],
   "source": [
    "from src.models.Classifier import predict_dataset\n",
    "from src.util.helpers import load_dataset_from_csv\n",
    "\n",
    "# Models\n",
    "raw_classifier = 'NicolaiSivesind/NOU-Classifier-Raw'\n"
   ]
  },
  {
   "cell_type": "markdown",
   "source": [
    "NOU Paragraph Inference"
   ],
   "metadata": {
    "collapsed": false
   },
   "id": "4f6f13d589381a08"
  },
  {
   "cell_type": "code",
   "execution_count": 2,
   "outputs": [
    {
     "data": {
      "text/plain": "                                                  text  label prediction\n0    Norsk industri er enig med utvalget i at energ...      0          0\n1    Utvalget anbefaler innføring av generell melde...      1          0\n2    Økonomiske vurderinger: Omstilling av samfunne...      1          1\n3    - Sette strengere krav og avgift til bruk av d...      3          3\n4    Statkraft har ikke konkrete syn på hvordan sta...      2          2\n..                                                 ...    ...        ...\n300  Statsforvalteren i Rogaland er i hovedsak enig...      1          1\n301  Utvalget understreker at omstillingen til et l...      0          0\n302  Kunstgressbaner er et annet eksempel. Viken fy...      1          1\n303  Det er viktig å huske på at CO2-priskompensasj...      0          0\n304  Og merk altså at viss Noreg hadde gjort som EU...      4          4\n\n[305 rows x 3 columns]",
      "text/html": "<div>\n<style scoped>\n    .dataframe tbody tr th:only-of-type {\n        vertical-align: middle;\n    }\n\n    .dataframe tbody tr th {\n        vertical-align: top;\n    }\n\n    .dataframe thead th {\n        text-align: right;\n    }\n</style>\n<table border=\"1\" class=\"dataframe\">\n  <thead>\n    <tr style=\"text-align: right;\">\n      <th></th>\n      <th>text</th>\n      <th>label</th>\n      <th>prediction</th>\n    </tr>\n  </thead>\n  <tbody>\n    <tr>\n      <th>0</th>\n      <td>Norsk industri er enig med utvalget i at energ...</td>\n      <td>0</td>\n      <td>0</td>\n    </tr>\n    <tr>\n      <th>1</th>\n      <td>Utvalget anbefaler innføring av generell melde...</td>\n      <td>1</td>\n      <td>0</td>\n    </tr>\n    <tr>\n      <th>2</th>\n      <td>Økonomiske vurderinger: Omstilling av samfunne...</td>\n      <td>1</td>\n      <td>1</td>\n    </tr>\n    <tr>\n      <th>3</th>\n      <td>- Sette strengere krav og avgift til bruk av d...</td>\n      <td>3</td>\n      <td>3</td>\n    </tr>\n    <tr>\n      <th>4</th>\n      <td>Statkraft har ikke konkrete syn på hvordan sta...</td>\n      <td>2</td>\n      <td>2</td>\n    </tr>\n    <tr>\n      <th>...</th>\n      <td>...</td>\n      <td>...</td>\n      <td>...</td>\n    </tr>\n    <tr>\n      <th>300</th>\n      <td>Statsforvalteren i Rogaland er i hovedsak enig...</td>\n      <td>1</td>\n      <td>1</td>\n    </tr>\n    <tr>\n      <th>301</th>\n      <td>Utvalget understreker at omstillingen til et l...</td>\n      <td>0</td>\n      <td>0</td>\n    </tr>\n    <tr>\n      <th>302</th>\n      <td>Kunstgressbaner er et annet eksempel. Viken fy...</td>\n      <td>1</td>\n      <td>1</td>\n    </tr>\n    <tr>\n      <th>303</th>\n      <td>Det er viktig å huske på at CO2-priskompensasj...</td>\n      <td>0</td>\n      <td>0</td>\n    </tr>\n    <tr>\n      <th>304</th>\n      <td>Og merk altså at viss Noreg hadde gjort som EU...</td>\n      <td>4</td>\n      <td>4</td>\n    </tr>\n  </tbody>\n</table>\n<p>305 rows × 3 columns</p>\n</div>"
     },
     "execution_count": 2,
     "metadata": {},
     "output_type": "execute_result"
    }
   ],
   "source": [
    "dataset, _ = load_dataset_from_csv(csv_path='../../dataset/nou_hearings.csv')\n",
    "test_df = dataset['test'].to_pandas()\n",
    "\n",
    "pred_df = predict_dataset(model=raw_classifier, test_df=test_df)\n",
    "pred_df"
   ],
   "metadata": {
    "collapsed": false,
    "ExecuteTime": {
     "end_time": "2024-04-19T16:59:21.086605Z",
     "start_time": "2024-04-19T16:58:59.704175Z"
    }
   },
   "id": "a318fd68d211b3d9"
  },
  {
   "cell_type": "code",
   "execution_count": null,
   "outputs": [],
   "source": [],
   "metadata": {
    "collapsed": false
   },
   "id": "34368054472ded28"
  }
 ],
 "metadata": {
  "kernelspec": {
   "display_name": "Python 3",
   "language": "python",
   "name": "python3"
  },
  "language_info": {
   "codemirror_mode": {
    "name": "ipython",
    "version": 2
   },
   "file_extension": ".py",
   "mimetype": "text/x-python",
   "name": "python",
   "nbconvert_exporter": "python",
   "pygments_lexer": "ipython2",
   "version": "2.7.6"
  }
 },
 "nbformat": 4,
 "nbformat_minor": 5
}
