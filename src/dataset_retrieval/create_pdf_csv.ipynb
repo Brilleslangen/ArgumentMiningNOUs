{
 "cells": [
  {
   "cell_type": "code",
   "execution_count": 58,
   "metadata": {},
   "outputs": [],
   "source": [
    "import pandas as pd\n",
    "import os"
   ]
  },
  {
   "cell_type": "markdown",
   "metadata": {},
   "source": [
    "### Read the txt files"
   ]
  },
  {
   "cell_type": "code",
   "execution_count": 59,
   "metadata": {},
   "outputs": [],
   "source": [
    "def preprocess_txt(text : list):\n",
    "\n",
    "    paragraphs = text.split(\"\\n\\n\")\n",
    "\n",
    "    # Remove empty paragraphs\n",
    "    paragraphs = [sections for sections in paragraphs if sections != \"\"]\n",
    "\n",
    "\n",
    "\n",
    "    # Find the date\n",
    "    date = paragraphs[0]\n",
    "    date = date.split(\" \")[1]\n",
    "    paragraphs = paragraphs[1:]\n",
    "\n",
    "    # Remove the header \"Høringssvar til NOU 2023: ....\"\n",
    "    paragraphs = [sections for sections in paragraphs if sections.find(\"Høringssvar til NOU 2023\") == -1]\n",
    "\n",
    "    # Remove newlines\n",
    "    paragraphs = [sections.replace(\"\\n\", \" \") for sections in paragraphs]\n",
    "\n",
    "    # Remove \"  \"\n",
    "    paragraphs = [sections.replace(\"  \", \" \") for sections in paragraphs]\n",
    "\n",
    "    return paragraphs, date"
   ]
  },
  {
   "cell_type": "code",
   "execution_count": 60,
   "metadata": {},
   "outputs": [],
   "source": [
    "# Read the files\n",
    "path = \"../../dataset/txt/\"\n",
    "\n",
    "files = os.listdir(path)\n",
    "\n",
    "# Initiate the dataframe\n",
    "df_texts = pd.DataFrame(columns=['actor', 'paragraph', 'date'])\n",
    "\n",
    "\n",
    "for file in files:\n",
    "    with open(path + file, \"r\", encoding=\"utf-8\") as f:\n",
    "        text = f.read()\n",
    "        text, date = preprocess_txt(text)\n",
    "        actor = file.removesuffix(\".txt\")\n",
    "        for paragraph in text:\n",
    "            df_texts.loc[len(df_texts)] = [actor, paragraph, date]\n",
    "\n",
    "df_texts.to_csv(\"../../dataset/pdf_texts.csv\", index=False)\n",
    "    "
   ]
  }
 ],
 "metadata": {
  "kernelspec": {
   "display_name": "deepstack",
   "language": "python",
   "name": "python3"
  },
  "language_info": {
   "codemirror_mode": {
    "name": "ipython",
    "version": 3
   },
   "file_extension": ".py",
   "mimetype": "text/x-python",
   "name": "python",
   "nbconvert_exporter": "python",
   "pygments_lexer": "ipython3",
   "version": "3.12.2"
  }
 },
 "nbformat": 4,
 "nbformat_minor": 2
}
