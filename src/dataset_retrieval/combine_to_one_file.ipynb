{
 "cells": [
  {
   "cell_type": "code",
   "execution_count": 5,
   "metadata": {},
   "outputs": [],
   "source": [
    "import pandas as pd"
   ]
  },
  {
   "cell_type": "code",
   "execution_count": 12,
   "metadata": {},
   "outputs": [],
   "source": [
    "# Read both csv files\n",
    "path = \"../../dataset/\"\n",
    "df1 = pd.read_csv(path +'html_hearings.csv')\n",
    "\n",
    "df2 = pd.read_csv(path + 'pdf_texts.csv')\n",
    "\n",
    "\n",
    "# Merge the two dataframes\n",
    "\n",
    "df = pd.merge(df1, df2, how='outer')\n",
    "df.to_csv(path + 'nou_hearings.csv', index=False)"
   ]
  }
 ],
 "metadata": {
  "kernelspec": {
   "display_name": "deepstack",
   "language": "python",
   "name": "python3"
  },
  "language_info": {
   "codemirror_mode": {
    "name": "ipython",
    "version": 3
   },
   "file_extension": ".py",
   "mimetype": "text/x-python",
   "name": "python",
   "nbconvert_exporter": "python",
   "pygments_lexer": "ipython3",
   "version": "3.11.8"
  }
 },
 "nbformat": 4,
 "nbformat_minor": 2
}
