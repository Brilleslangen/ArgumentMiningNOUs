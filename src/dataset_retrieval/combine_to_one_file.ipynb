{
 "cells": [
  {
   "cell_type": "code",
   "execution_count": 2,
   "metadata": {},
   "outputs": [],
   "source": [
    "import pandas as pd"
   ]
  },
  {
   "cell_type": "code",
   "execution_count": 3,
   "metadata": {},
   "outputs": [],
   "source": [
    "# Read both csv files\n",
    "path = \"../../dataset/\"\n",
    "df1 = pd.read_csv(path +\"html_hearings_filtered.csv\")\n",
    "\n",
    "df2 = pd.read_csv(path + \"pdf_texts.csv\")\n",
    "\n",
    "\n",
    "# Merge the two dataframes\n",
    "\n",
    "df = pd.merge(df1, df2, how='outer')\n",
    "df.to_csv(path + 'nou_hearings.csv', index=False)"
   ]
  }
 ],
 "metadata": {
  "kernelspec": {
   "display_name": "deepstack",
   "language": "python",
   "name": "python3"
  },
  "language_info": {
   "codemirror_mode": {
    "name": "ipython",
    "version": 3
   },
   "file_extension": ".py",
   "mimetype": "text/x-python",
   "name": "python",
   "nbconvert_exporter": "python",
   "pygments_lexer": "ipython3",
   "version": "3.12.2"
  }
 },
 "nbformat": 4,
 "nbformat_minor": 2
}
